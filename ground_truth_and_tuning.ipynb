{
 "cells": [
  {
   "cell_type": "markdown",
   "metadata": {},
   "source": [
    "# Invoking the Deployed Model"
   ]
  },
  {
   "cell_type": "code",
   "execution_count": 14,
   "metadata": {},
   "outputs": [],
   "source": [
    "%matplotlib inline\n",
    "from tensorflow.keras.preprocessing.image import img_to_array\n",
    "from tensorflow.keras.preprocessing.image import load_img\n",
    "from tensorflow.keras.preprocessing import image\n",
    "from IPython.display import Image\n",
    "import matplotlib.image as mpimg \n",
    "import matplotlib.pyplot as plt\n",
    "import numpy as np\n",
    "CIFAR10_LABELS = ['airplane', 'automobile', 'bird', 'cat', 'deer', 'dog', 'frog', 'horse', 'ship', 'truck']"
   ]
  },
  {
   "cell_type": "code",
   "execution_count": 15,
   "metadata": {},
   "outputs": [],
   "source": [
    "endpoint_name = 'tensorflow-cv-1656312038'\n",
    "from sagemaker.tensorflow.model import TensorFlowPredictor\n",
    "predictor = TensorFlowPredictor(endpoint_name = endpoint_name)"
   ]
  },
  {
   "cell_type": "code",
   "execution_count": 16,
   "metadata": {},
   "outputs": [],
   "source": [
    "from tensorflow.keras.datasets import cifar10\n",
    "(X_train, y_train), (X_test, y_test) = cifar10.load_data()\n",
    "X_train = X_train.astype('float32')/255\n",
    "X_test = X_test.astype('float32')/255"
   ]
  },
  {
   "cell_type": "code",
   "execution_count": 17,
   "metadata": {},
   "outputs": [],
   "source": [
    "import threading\n",
    "class WorkerThread(threading.Thread):\n",
    "    def __init__(self, do_run, *args, **kwargs):\n",
    "        super(WorkerThread, self).__init__(*args, **kwargs)\n",
    "        self.__do_run = do_run\n",
    "        self.__terminate_event = threading.Event()\n",
    "\n",
    "    def terminate(self):\n",
    "        self.__terminate_event.set()\n",
    "\n",
    "    def run(self):\n",
    "        while not self.__terminate_event.is_set():\n",
    "            self.__do_run(self.__terminate_event)"
   ]
  },
  {
   "cell_type": "code",
   "execution_count": 39,
   "metadata": {},
   "outputs": [],
   "source": [
    "import time\n",
    "def invoke_endpoint(terminate_event):\n",
    "    for i in range(10000):\n",
    "        data = np.array([X_test[i]])\n",
    "        payload = {'instances': data}\n",
    "        response = predictor.predict(payload)\n",
    "        time.sleep(1)\n",
    "        if terminate_event.is_set():\n",
    "            break\n",
    "\n",
    "# Keep invoking the endpoint with test data\n",
    "invoke_endpoint_thread = WorkerThread(do_run=invoke_endpoint)\n",
    "invoke_endpoint_thread.start()"
   ]
  },
  {
   "cell_type": "code",
   "execution_count": 44,
   "metadata": {},
   "outputs": [],
   "source": [
    "import random\n",
    "from sagemaker.s3 import S3Downloader, S3Uploader\n",
    "import pandas as pd\n",
    "import uuid\n",
    "MONITORING_FOLDER = 'DEMO-tf2-ModelMonitor'\n",
    "BUCKET = 'sagemaker-us-east-1-949263681218'\n",
    "data_capture_prefix = \"{}/monitoring/ground_truth\".format(MONITORING_FOLDER)\n",
    "ground_truth_upload_path = \"s3://{}/{}\".format(BUCKET, data_capture_prefix)\n",
    "\n",
    "\n",
    "\n",
    "def generate_load_and_ground_truth():\n",
    "    df = pd.read_csv('validation_with_predictions.csv')\n",
    "    gt_records = []\n",
    "    for i, row in df.iterrows():\n",
    "        suffix = uuid.uuid1().hex\n",
    "        inference_id = f'{i}-{suffix}'\n",
    "        out = predictor.predict(data = X_test[i],inference_id = inference_id)\n",
    "        gt_records.append({\n",
    "            \"groundTruthData\": {\n",
    "                \"data\": str(df['label']),  # randomly generate positive labels 70% of the time\n",
    "                \"encoding\": 'CSV',\n",
    "            },\n",
    "            \"eventMetadata\": {\n",
    "                \"eventId\": str(inference_id),\n",
    "            },\n",
    "            \"eventVersion\": \"0\",\n",
    "        })\n",
    "    upload_ground_truth(gt_records, ground_truth_upload_path, datetime.utcnow())\n",
    "\n",
    "\n",
    "def upload_ground_truth(records, path, upload_time):\n",
    "    data_to_upload = \",\".join(records)\n",
    "    data_to_upload = '{' + data_to_upload + '}'\n",
    "    target_s3_uri = f\"{path}/{upload_time:%Y/%m/%d/%H/%M%S}.jsonl\"\n",
    "    print(f\"Uploading {len(records)} records to\", target_s3_uri)\n",
    "    S3Uploader.upload_string_as_file_body(data_to_upload, target_s3_uri)\n",
    "\n",
    "\n",
    "def generate_load_and_ground_truth_forever():\n",
    "    while True:\n",
    "        generate_load_and_ground_truth()\n",
    "from threading import Thread\n",
    "thread = Thread(target=generate_load_and_ground_truth_forever)\n",
    "thread.start()"
   ]
  },
  {
   "cell_type": "code",
   "execution_count": 45,
   "metadata": {},
   "outputs": [
    {
     "name": "stdout",
     "output_type": "stream",
     "text": [
      "Uploading 10000 records to s3://sagemaker-us-east-1-949263681218/DEMO-tf2-ModelMonitor/monitoring/ground_truth/2022/06/27/03/4659.jsonl\n"
     ]
    }
   ],
   "source": [
    "# Generate data for the last hour\n",
    "from datetime import datetime, timedelta\n",
    "import json\n",
    "upload_ground_truth(datetime.utcnow() - timedelta(hours=1))"
   ]
  },
  {
   "cell_type": "code",
   "execution_count": 46,
   "metadata": {},
   "outputs": [
    {
     "name": "stdout",
     "output_type": "stream",
     "text": [
      "Uploading 10000 records to s3://sagemaker-us-east-1-949263681218/DEMO-tf2-ModelMonitor/monitoring/ground_truth/2022/06/27/04/4700.jsonl\n"
     ]
    }
   ],
   "source": [
    "# Generate data once a hour\n",
    "def generate_fake_ground_truth(terminate_event):\n",
    "    upload_ground_truth(datetime.utcnow())\n",
    "    for _ in range(0, 60):\n",
    "        time.sleep(60)\n",
    "        if terminate_event.is_set():\n",
    "            break\n",
    "\n",
    "\n",
    "ground_truth_thread = WorkerThread(do_run=generate_fake_ground_truth)\n",
    "ground_truth_thread.start()"
   ]
  },
  {
   "cell_type": "code",
   "execution_count": 30,
   "metadata": {},
   "outputs": [],
   "source": [
    "import boto3\n",
    "sm = boto3.client('sagemaker')"
   ]
  },
  {
   "cell_type": "code",
   "execution_count": 13,
   "metadata": {},
   "outputs": [
    {
     "name": "stdout",
     "output_type": "stream",
     "text": [
      "groundtruth  input_data  metadata\n"
     ]
    }
   ],
   "source": [
    "!ls /opt/ml/"
   ]
  },
  {
   "cell_type": "markdown",
   "metadata": {},
   "source": [
    "# JOB DESC"
   ]
  },
  {
   "cell_type": "code",
   "execution_count": 11,
   "metadata": {},
   "outputs": [],
   "source": [
    "import boto3\n",
    "import sagemaker\n",
    "import os\n",
    "\n",
    "region = boto3.Session().region_name\n",
    "sm = boto3.Session().client(\"sagemaker\")\n",
    "\n",
    "tuning_job_name = 'tensorflow-training-220627-0556'"
   ]
  },
  {
   "cell_type": "code",
   "execution_count": 5,
   "metadata": {},
   "outputs": [
    {
     "name": "stdout",
     "output_type": "stream",
     "text": [
      "9 training jobs have completed\n"
     ]
    }
   ],
   "source": [
    "tuning_job_result = sm.describe_hyper_parameter_tuning_job(\n",
    "    HyperParameterTuningJobName=tuning_job_name\n",
    ")\n",
    "\n",
    "status = tuning_job_result[\"HyperParameterTuningJobStatus\"]\n",
    "if status != \"Completed\":\n",
    "    print(\"Reminder: the tuning job has not been completed.\")\n",
    "\n",
    "job_count = tuning_job_result[\"TrainingJobStatusCounters\"][\"Completed\"]\n",
    "print(\"%d training jobs have completed\" % job_count)\n",
    "\n",
    "objective = tuning_job_result[\"HyperParameterTuningJobConfig\"][\"HyperParameterTuningJobObjective\"]\n",
    "is_minimize = objective[\"Type\"] != \"Maximize\"\n",
    "objective_name = objective[\"MetricName\"]"
   ]
  },
  {
   "cell_type": "code",
   "execution_count": 6,
   "metadata": {},
   "outputs": [
    {
     "name": "stdout",
     "output_type": "stream",
     "text": [
      "Best model found so far:\n",
      "{'CreationTime': datetime.datetime(2022, 6, 27, 5, 56, 4, tzinfo=tzlocal()),\n",
      " 'FinalHyperParameterTuningJobObjectiveMetric': {'MetricName': 'loss',\n",
      "                                                 'Value': 1.0},\n",
      " 'ObjectiveStatus': 'Succeeded',\n",
      " 'TrainingEndTime': datetime.datetime(2022, 6, 27, 6, 0, 30, tzinfo=tzlocal()),\n",
      " 'TrainingJobArn': 'arn:aws:sagemaker:us-east-1:949263681218:training-job/tensorflow-training-220627-0556-001-17c5ce0a',\n",
      " 'TrainingJobName': 'tensorflow-training-220627-0556-001-17c5ce0a',\n",
      " 'TrainingJobStatus': 'Completed',\n",
      " 'TrainingStartTime': datetime.datetime(2022, 6, 27, 5, 57, 28, tzinfo=tzlocal()),\n",
      " 'TunedHyperParameters': {'learning_rate': '0.10827078960526701'}}\n"
     ]
    }
   ],
   "source": [
    "from pprint import pprint\n",
    "\n",
    "if tuning_job_result.get(\"BestTrainingJob\", None):\n",
    "    print(\"Best model found so far:\")\n",
    "    pprint(tuning_job_result[\"BestTrainingJob\"])\n",
    "else:\n",
    "    print(\"No training jobs have reported results yet.\")"
   ]
  },
  {
   "cell_type": "code",
   "execution_count": 30,
   "metadata": {},
   "outputs": [
    {
     "name": "stdout",
     "output_type": "stream",
     "text": [
      "download: s3://sagemaker-us-east-1-949263681218/DEMO-tf2-ModelMonitor/monitoring/ground_truth//2022/06/27/03/4537.jsonl to ../../opt/ml/groundtruth/2022/06/27/03/4537.jsonl\n",
      "download: s3://sagemaker-us-east-1-949263681218/DEMO-tf2-ModelMonitor/monitoring/ground_truth//2022/06/27/03/3119.jsonl to ../../opt/ml/groundtruth/2022/06/27/03/3119.jsonl\n",
      "download: s3://sagemaker-us-east-1-949263681218/DEMO-tf2-ModelMonitor/monitoring/ground_truth/2022/06/27/04/4700.jsonl to ../../opt/ml/groundtruth/2022/06/27/04/4700.jsonl\n",
      "download: s3://sagemaker-us-east-1-949263681218/DEMO-tf2-ModelMonitor/monitoring/ground_truth//2022/06/27/04/3129.jsonl to ../../opt/ml/groundtruth/2022/06/27/04/3129.jsonl\n",
      "download: s3://sagemaker-us-east-1-949263681218/DEMO-tf2-ModelMonitor/monitoring/ground_truth/2022/06/27/03/4659.jsonl to ../../opt/ml/groundtruth/2022/06/27/03/4659.jsonl\n",
      "download: s3://sagemaker-us-east-1-949263681218/DEMO-tf2-ModelMonitor/monitoring/ground_truth//2022/06/27/04/4538.jsonl to ../../opt/ml/groundtruth/2022/06/27/04/4538.jsonl\n"
     ]
    }
   ],
   "source": [
    "!aws s3 cp --recursive s3://sagemaker-us-east-1-949263681218/DEMO-tf2-ModelMonitor/monitoring/ground_truth/ /opt/ml/groundtruth/."
   ]
  },
  {
   "cell_type": "code",
   "execution_count": 32,
   "metadata": {},
   "outputs": [
    {
     "name": "stdout",
     "output_type": "stream",
     "text": [
      "groundtruth  input_data  metadata\n"
     ]
    }
   ],
   "source": [
    "!ls /opt/ml/"
   ]
  },
  {
   "cell_type": "code",
   "execution_count": 12,
   "metadata": {},
   "outputs": [
    {
     "data": {
      "text/plain": [
       "'us-east-1'"
      ]
     },
     "execution_count": 12,
     "metadata": {},
     "output_type": "execute_result"
    }
   ],
   "source": [
    "region"
   ]
  },
  {
   "cell_type": "code",
   "execution_count": 21,
   "metadata": {},
   "outputs": [
    {
     "name": "stdout",
     "output_type": "stream",
     "text": [
      "                           PRE 06/\n"
     ]
    }
   ],
   "source": [
    "!aws s3 ls sagemaker-us-east-1-949263681218/DEMO-tf2-ModelMonitor/monitoring/ground_truth/2022"
   ]
  },
  {
   "cell_type": "code",
   "execution_count": 38,
   "metadata": {},
   "outputs": [
    {
     "name": "stdout",
     "output_type": "stream",
     "text": [
      "AllTraffic\t\t  tensorflow-cv-1656042735  tensorflow-cv-1656302831\n",
      "tensorflow-cv-1655979252  tensorflow-cv-1656064111  tensorflow-cv-1656312038\n",
      "2022\n"
     ]
    }
   ],
   "source": [
    "!ls /opt/ml/input_data\n",
    "!ls /opt/ml/groundtruth"
   ]
  },
  {
   "cell_type": "code",
   "execution_count": null,
   "metadata": {},
   "outputs": [],
   "source": [
    "!aws s3 cp --recursive s3://sagemaker-us-east-1-949263681218/DEMO-tf2-ModelMonitor/monitoring/datacapture/ /opt/ml/input_data/"
   ]
  }
 ],
 "metadata": {
  "kernelspec": {
   "display_name": "Python 3 (Data Science)",
   "language": "python",
   "name": "python3__SAGEMAKER_INTERNAL__arn:aws:sagemaker:us-east-1:081325390199:image/datascience-1.0"
  },
  "language_info": {
   "codemirror_mode": {
    "name": "ipython",
    "version": 3
   },
   "file_extension": ".py",
   "mimetype": "text/x-python",
   "name": "python",
   "nbconvert_exporter": "python",
   "pygments_lexer": "ipython3",
   "version": "3.7.10"
  }
 },
 "nbformat": 4,
 "nbformat_minor": 4
}
