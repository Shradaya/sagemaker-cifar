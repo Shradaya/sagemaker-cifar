{
 "cells": [
  {
   "cell_type": "code",
   "execution_count": 2,
   "metadata": {
    "button": false,
    "new_sheet": false,
    "run_control": {
     "read_only": false
    }
   },
   "outputs": [],
   "source": [
    "%%capture\n",
    "\n",
    "!pip install tensorflow==2.3.0\n",
    "!pip install sagemaker-experiments"
   ]
  },
  {
   "cell_type": "markdown",
   "metadata": {
    "button": false,
    "new_sheet": false,
    "run_control": {
     "read_only": false
    }
   },
   "source": [
    "#### Imports "
   ]
  },
  {
   "cell_type": "code",
   "execution_count": 3,
   "metadata": {
    "button": false,
    "new_sheet": false,
    "run_control": {
     "read_only": false
    }
   },
   "outputs": [],
   "source": [
    "from tensorflow.keras.preprocessing.image import ImageDataGenerator\n",
    "from sagemaker.tensorflow.serving import TensorFlowModel\n",
    "from sagemaker.multidatamodel import MultiDataModel\n",
    "from tensorflow.keras.datasets import cifar10\n",
    "from sagemaker.tensorflow import TensorFlow\n",
    "from sagemaker.inputs import TrainingInput\n",
    "from sagemaker import get_execution_role\n",
    "from tensorflow.keras import utils\n",
    "import matplotlib.image as mpimg\n",
    "import matplotlib.pyplot as plt\n",
    "from datetime import datetime\n",
    "import tensorflow as tf\n",
    "import numpy as np\n",
    "import sagemaker\n",
    "import logging\n",
    "import boto3\n",
    "import time\n",
    "import os"
   ]
  },
  {
   "cell_type": "markdown",
   "metadata": {
    "button": false,
    "new_sheet": false,
    "run_control": {
     "read_only": false
    }
   },
   "source": [
    "#### Setup Logger"
   ]
  },
  {
   "cell_type": "code",
   "execution_count": 4,
   "metadata": {
    "button": false,
    "new_sheet": false,
    "run_control": {
     "read_only": false
    }
   },
   "outputs": [
    {
     "name": "stdout",
     "output_type": "stream",
     "text": [
      "Python 3.7.10\n"
     ]
    }
   ],
   "source": [
    "logger = logging.getLogger(__name__)\n",
    "logger.setLevel(logging.INFO)\n",
    "logger.addHandler(logging.StreamHandler())\n",
    "!python --version"
   ]
  },
  {
   "cell_type": "code",
   "execution_count": 5,
   "metadata": {
    "button": false,
    "new_sheet": false,
    "run_control": {
     "read_only": false
    }
   },
   "outputs": [
    {
     "name": "stderr",
     "output_type": "stream",
     "text": [
      "[Using TensorFlow version: 2.3.0]\n",
      "[Using SageMaker version: 2.94.0]\n"
     ]
    }
   ],
   "source": [
    "logger.info(f'[Using TensorFlow version: {tf.__version__}]')\n",
    "logger.info(f'[Using SageMaker version: {sagemaker.__version__}]')"
   ]
  },
  {
   "cell_type": "markdown",
   "metadata": {
    "button": false,
    "new_sheet": false,
    "run_control": {
     "read_only": false
    }
   },
   "source": [
    "#### Seed for Reproducability"
   ]
  },
  {
   "cell_type": "code",
   "execution_count": 6,
   "metadata": {
    "button": false,
    "new_sheet": false,
    "run_control": {
     "read_only": false
    }
   },
   "outputs": [],
   "source": [
    "SEED = 123\n",
    "np.random.seed(SEED)\n",
    "tf.random.set_seed(SEED)"
   ]
  },
  {
   "cell_type": "markdown",
   "metadata": {
    "button": false,
    "new_sheet": false,
    "run_control": {
     "read_only": false
    }
   },
   "source": [
    "#### Create Roles, Sessions and Data Locations"
   ]
  },
  {
   "cell_type": "code",
   "execution_count": 7,
   "metadata": {
    "button": false,
    "new_sheet": false,
    "run_control": {
     "read_only": false
    }
   },
   "outputs": [],
   "source": [
    "role = get_execution_role()\n",
    "session = boto3.Session()\n",
    "sagemaker_session = sagemaker.Session()\n",
    "\n",
    "s3 = session.resource('s3')\n",
    "TF_FRAMEWORK_VERSION = '2.3.0'\n",
    "BUCKET = sagemaker.Session().default_bucket()\n",
    "PREFIX = 'cv-models'\n",
    "MONITORING_FOLDER = 'DEMO-tf2-ModelMonitor'"
   ]
  },
  {
   "cell_type": "markdown",
   "metadata": {
    "button": false,
    "new_sheet": false,
    "run_control": {
     "read_only": false
    }
   },
   "source": [
    "### Train - CIFAR-10 Image Classification\n",
    "\n",
    "<p align=\"justify\">First, we will train a Convolutional Neural Network (CNN) model to classify images from the CIFAR-10 dataset. Image classification is the task of assigning a label to an image, from a predefined set of categories. CIFAR-10 is an established CV dataset used for object recognition. It is a subset of the 80 Million Tiny Images dataset and consists of 60,000 (32x32) color images containing 1 of 10 object classes, with 6,000 images per class.</p>"
   ]
  },
  {
   "cell_type": "markdown",
   "metadata": {
    "button": false,
    "new_sheet": false,
    "run_control": {
     "read_only": false
    }
   },
   "source": [
    "#### a) Load Data\n",
    "\n",
    "The first step is to load the pre-shuffled CIFAR-10 dataset into our train and test objects. Luckily, Keras provides the CIFAR dataset for us to load using the `load_data()` method. All we have to do is import keras.datasets and then load the data."
   ]
  },
  {
   "cell_type": "code",
   "execution_count": 8,
   "metadata": {
    "button": false,
    "new_sheet": false,
    "run_control": {
     "read_only": false
    }
   },
   "outputs": [],
   "source": [
    "(X_train, y_train), (X_test, y_test) = cifar10.load_data()"
   ]
  },
  {
   "cell_type": "code",
   "execution_count": 9,
   "metadata": {
    "button": false,
    "new_sheet": false,
    "run_control": {
     "read_only": false
    }
   },
   "outputs": [
    {
     "name": "stderr",
     "output_type": "stream",
     "text": [
      "X_train Shape: (50000, 32, 32, 3)\n",
      "y_train Shape: (50000, 1)\n",
      "X_test Shape : (10000, 32, 32, 3)\n",
      "y_test Shape : (10000, 1)\n"
     ]
    }
   ],
   "source": [
    "logger.info(f'X_train Shape: {X_train.shape}')\n",
    "logger.info(f'y_train Shape: {y_train.shape}')\n",
    "logger.info(f'X_test Shape : {X_test.shape}')\n",
    "logger.info(f'y_test Shape : {y_test.shape}')"
   ]
  },
  {
   "cell_type": "markdown",
   "metadata": {
    "button": false,
    "new_sheet": false,
    "run_control": {
     "read_only": false
    }
   },
   "source": [
    "#### c) Data Preparation"
   ]
  },
  {
   "cell_type": "markdown",
   "metadata": {
    "button": false,
    "new_sheet": false,
    "run_control": {
     "read_only": false
    }
   },
   "source": [
    "##### Rescale \n",
    "Rescales the images by dividing the pixel values by 255: [0,255] ⇒ [0,1]"
   ]
  },
  {
   "cell_type": "code",
   "execution_count": 10,
   "metadata": {
    "button": false,
    "new_sheet": false,
    "run_control": {
     "read_only": false
    }
   },
   "outputs": [],
   "source": [
    "X_train = X_train.astype('float32')/255\n",
    "X_test = X_test.astype('float32')/255"
   ]
  },
  {
   "cell_type": "markdown",
   "metadata": {
    "button": false,
    "new_sheet": false,
    "run_control": {
     "read_only": false
    }
   },
   "source": [
    "##### One Hot Encode Target Labels\n",
    "One-hot encoding is a process by which categorical variables are converted into a numeric form. One-hot encoding converts the (1 × n) label vector to a label matrix of dimensions (10 × n), where n is the number of sample images. So, if we have 1,000 images in our dataset, the label vector will have the dimensions (1 × 1000). After one-hot encoding, the label matrix dimensions will be (1000 × 10). That’s why, when we define our network architecture in the next step, we will make the output softmax layer contain 10 nodes, where each node represents the probability of each class we have."
   ]
  },
  {
   "cell_type": "code",
   "execution_count": 11,
   "metadata": {
    "button": false,
    "new_sheet": false,
    "run_control": {
     "read_only": false
    }
   },
   "outputs": [],
   "source": [
    "num_classes = len(np.unique(y_train))\n",
    "y_train = utils.to_categorical(y_train, num_classes)\n",
    "y_test = utils.to_categorical(y_test, num_classes)"
   ]
  },
  {
   "cell_type": "markdown",
   "metadata": {
    "button": false,
    "new_sheet": false,
    "run_control": {
     "read_only": false
    }
   },
   "source": [
    "##### Split Data\n",
    "Break original train set further into train and validation sets."
   ]
  },
  {
   "cell_type": "code",
   "execution_count": 12,
   "metadata": {
    "button": false,
    "new_sheet": false,
    "run_control": {
     "read_only": false
    }
   },
   "outputs": [],
   "source": [
    "X_train, X_validation = X_train[500:], X_train[:500]\n",
    "y_train, y_validation = y_train[500:], y_train[:500]"
   ]
  },
  {
   "cell_type": "markdown",
   "metadata": {
    "button": false,
    "new_sheet": false,
    "run_control": {
     "read_only": false
    }
   },
   "source": [
    "##### Save to Local"
   ]
  },
  {
   "cell_type": "markdown",
   "metadata": {
    "button": false,
    "new_sheet": false,
    "run_control": {
     "read_only": false
    }
   },
   "source": [
    "Create a local `data/cifar_10` directory to save the datasets."
   ]
  },
  {
   "cell_type": "code",
   "execution_count": 190,
   "metadata": {
    "button": false,
    "new_sheet": false,
    "run_control": {
     "read_only": false
    }
   },
   "outputs": [],
   "source": [
    "DATASET_PATH = './data/cifar_10'"
   ]
  },
  {
   "cell_type": "code",
   "execution_count": 191,
   "metadata": {
    "button": false,
    "new_sheet": false,
    "run_control": {
     "read_only": false
    }
   },
   "outputs": [],
   "source": [
    "os.makedirs(DATASET_PATH, exist_ok=True)"
   ]
  },
  {
   "cell_type": "markdown",
   "metadata": {
    "button": false,
    "new_sheet": false,
    "run_control": {
     "read_only": false
    }
   },
   "source": [
    "Save train, validation and test sets to local `data` directory"
   ]
  },
  {
   "cell_type": "code",
   "execution_count": 192,
   "metadata": {
    "button": false,
    "new_sheet": false,
    "run_control": {
     "read_only": false
    }
   },
   "outputs": [],
   "source": [
    "np.save(f'{DATASET_PATH}/X_train.npy', X_train)\n",
    "np.save(f'{DATASET_PATH}/y_train.npy', y_train)\n",
    "np.save(f'{DATASET_PATH}/X_validation.npy', X_validation)\n",
    "np.save(f'{DATASET_PATH}/y_validation.npy', y_validation)\n",
    "np.save(f'{DATASET_PATH}/X_test.npy', X_test)\n",
    "np.save(f'{DATASET_PATH}/y_test.npy', y_test)"
   ]
  },
  {
   "cell_type": "markdown",
   "metadata": {
    "button": false,
    "new_sheet": false,
    "run_control": {
     "read_only": false
    }
   },
   "source": [
    "##### Copy Datasets to S3\n",
    "Copy train, validation and test sets from the local dir to S3, since SageMaker expects datasets to be in S3 for training."
   ]
  },
  {
   "cell_type": "code",
   "execution_count": 15,
   "metadata": {
    "button": false,
    "new_sheet": false,
    "run_control": {
     "read_only": false
    }
   },
   "outputs": [
    {
     "name": "stdout",
     "output_type": "stream",
     "text": [
      "upload: data/cifar_10/X_train.npy to s3://sagemaker-us-east-1-949263681218/cv-models/cifar_10/train/X_train.npy\n",
      "upload: data/cifar_10/y_train.npy to s3://sagemaker-us-east-1-949263681218/cv-models/cifar_10/train/y_train.npy\n",
      "upload: data/cifar_10/X_validation.npy to s3://sagemaker-us-east-1-949263681218/cv-models/cifar_10/validation/X_validation.npy\n",
      "upload: data/cifar_10/y_validation.npy to s3://sagemaker-us-east-1-949263681218/cv-models/cifar_10/validation/y_validation.npy\n",
      "upload: data/cifar_10/X_test.npy to s3://sagemaker-us-east-1-949263681218/cv-models/cifar_10/test/X_test.npy\n",
      "upload: data/cifar_10/y_test.npy to s3://sagemaker-us-east-1-949263681218/cv-models/cifar_10/test/y_test.npy\n"
     ]
    }
   ],
   "source": [
    "!aws s3 cp ./{DATASET_PATH}/X_train.npy s3://{BUCKET}/{PREFIX}/cifar_10/train/\n",
    "!aws s3 cp ./{DATASET_PATH}/y_train.npy s3://{BUCKET}/{PREFIX}/cifar_10/train/\n",
    "!aws s3 cp ./{DATASET_PATH}/X_validation.npy s3://{BUCKET}/{PREFIX}/cifar_10/validation/\n",
    "!aws s3 cp ./{DATASET_PATH}/y_validation.npy s3://{BUCKET}/{PREFIX}/cifar_10/validation/\n",
    "!aws s3 cp ./{DATASET_PATH}/X_test.npy s3://{BUCKET}/{PREFIX}/cifar_10/test/\n",
    "!aws s3 cp ./{DATASET_PATH}/y_test.npy s3://{BUCKET}/{PREFIX}/cifar_10/test/"
   ]
  },
  {
   "cell_type": "markdown",
   "metadata": {
    "button": false,
    "new_sheet": false,
    "run_control": {
     "read_only": false
    }
   },
   "source": [
    "# Create Training Inputs"
   ]
  },
  {
   "cell_type": "code",
   "execution_count": 13,
   "metadata": {
    "button": false,
    "new_sheet": false,
    "run_control": {
     "read_only": false
    }
   },
   "outputs": [],
   "source": [
    "train_input = TrainingInput(s3_data=f's3://{BUCKET}/{PREFIX}/cifar_10/train', \n",
    "                            distribution='FullyReplicated', \n",
    "                            content_type='npy')\n",
    "validation_input = TrainingInput(s3_data=f's3://{BUCKET}/{PREFIX}/cifar_10/validation', \n",
    "                                 distribution='FullyReplicated', \n",
    "                                 content_type='npy')\n",
    "test_input = TrainingInput(s3_data=f's3://{BUCKET}/{PREFIX}/cifar_10/test', \n",
    "                           distribution='FullyReplicated', \n",
    "                           content_type='npy')"
   ]
  },
  {
   "cell_type": "code",
   "execution_count": 14,
   "metadata": {
    "button": false,
    "new_sheet": false,
    "run_control": {
     "read_only": false
    }
   },
   "outputs": [],
   "source": [
    "inputs = {'train': train_input, 'val': validation_input, 'test': test_input}"
   ]
  },
  {
   "cell_type": "markdown",
   "metadata": {
    "button": false,
    "new_sheet": false,
    "run_control": {
     "read_only": false
    }
   },
   "source": [
    "#### e) Define Model Architecture & create Training Script\n",
    "\n",
    "We will build a small CNN consisting of three convolutional layers and two dense layers.<br>\n",
    "<b>Note:</b> We will use the ReLU activation function for all the hidden layers. In the last dense layer, we will use a softmax activation function with 10 nodes to return an array of 10 probability scores (summing to 1). Each score will be the probability that the current image belongs to our 10 image classes."
   ]
  },
  {
   "cell_type": "markdown",
   "metadata": {},
   "source": [
    "# Prepare a Experiment Tracker"
   ]
  },
  {
   "cell_type": "code",
   "execution_count": 15,
   "metadata": {},
   "outputs": [],
   "source": [
    "sm = boto3.client('sagemaker')"
   ]
  },
  {
   "cell_type": "code",
   "execution_count": null,
   "metadata": {},
   "outputs": [],
   "source": [
    "from smexperiments.experiment import Experiment\n",
    "cifar_experiment = Experiment.create(\n",
    "    experiment_name=\"cifar-10-dataset-experiment\", \n",
    "    description=\"objects\", \n",
    "    sagemaker_boto_client=sm)"
   ]
  },
  {
   "cell_type": "code",
   "execution_count": null,
   "metadata": {},
   "outputs": [],
   "source": [
    "from smexperiments.trial import Trial\n",
    "for num_hidden_channel in [32]:\n",
    "    trial_name = f\"cnn-training-job-{num_hidden_channel}-hidden-channels-{int(time.time())}\"\n",
    "    cnn_trial = Trial.create(\n",
    "        trial_name=trial_name, \n",
    "        experiment_name=cifar_experiment.experiment_name,\n",
    "        sagemaker_boto_client=sm,\n",
    "    )\n",
    "    cnn_trial.add_trial_component(tracker.trial_component)"
   ]
  },
  {
   "cell_type": "markdown",
   "metadata": {
    "button": false,
    "new_sheet": false,
    "run_control": {
     "read_only": false
    }
   },
   "source": [
    "#### f) Create a TensorFlow Estimator & fit the Model"
   ]
  },
  {
   "cell_type": "code",
   "execution_count": 13,
   "metadata": {
    "button": false,
    "new_sheet": false,
    "run_control": {
     "read_only": false
    }
   },
   "outputs": [],
   "source": [
    "model_name = 'cifar-10'\n",
    "hyperparameters = {'epochs': 1}\n",
    "estimator_parameters = {'entry_point':'cifar_train.py',\n",
    "                        'instance_type': 'ml.m5.2xlarge',\n",
    "                        'instance_count': 1,\n",
    "                        'model_dir': '/opt/ml/model',\n",
    "                        'role': role,\n",
    "                        'hyperparameters': hyperparameters,\n",
    "                        'output_path': f's3://{BUCKET}/{PREFIX}/cifar_10/out',\n",
    "                        'base_job_name': f'mme-cv-{model_name}',\n",
    "                        'framework_version': TF_FRAMEWORK_VERSION,\n",
    "                        'py_version': 'py37',\n",
    "                        'script_mode': True}\n",
    "model = TensorFlow(**estimator_parameters)"
   ]
  },
  {
   "cell_type": "code",
   "execution_count": 14,
   "metadata": {
    "button": false,
    "new_sheet": false,
    "run_control": {
     "read_only": false
    },
    "scrolled": true
   },
   "outputs": [
    {
     "name": "stderr",
     "output_type": "stream",
     "text": [
      "INFO:sagemaker.image_uris:Defaulting to the only supported framework/algorithm version: latest.\n",
      "INFO:sagemaker.image_uris:Ignoring unnecessary instance type: None.\n"
     ]
    },
    {
     "name": "stdout",
     "output_type": "stream",
     "text": [
      "cnn-training-job-1655978931\n"
     ]
    },
    {
     "name": "stderr",
     "output_type": "stream",
     "text": [
      "INFO:sagemaker:Creating training-job with name: cnn-training-job-1655978931\n"
     ]
    },
    {
     "name": "stdout",
     "output_type": "stream",
     "text": [
      "2022-06-23 10:08:52 Starting - Starting the training job...\n",
      "2022-06-23 10:09:15 Starting - Preparing the instances for trainingProfilerReport-1655978931: InProgress\n",
      "......\n",
      "2022-06-23 10:10:16 Downloading - Downloading input data...\n",
      "2022-06-23 10:10:49 Training - Downloading the training image...\n",
      "2022-06-23 10:11:16 Training - Training image download completed. Training in progress.\u001b[34m2022-06-23 10:11:10,857 sagemaker-training-toolkit INFO     Imported framework sagemaker_tensorflow_container.training\u001b[0m\n",
      "\u001b[34m2022-06-23 10:11:10,865 sagemaker-training-toolkit INFO     No GPUs detected (normal if no gpus installed)\u001b[0m\n",
      "\u001b[34m2022-06-23 10:11:11,280 sagemaker-training-toolkit INFO     No GPUs detected (normal if no gpus installed)\u001b[0m\n",
      "\u001b[34m2022-06-23 10:11:11,395 sagemaker-training-toolkit INFO     No GPUs detected (normal if no gpus installed)\u001b[0m\n",
      "\u001b[34m2022-06-23 10:11:11,413 sagemaker-training-toolkit INFO     No GPUs detected (normal if no gpus installed)\u001b[0m\n",
      "\u001b[34m2022-06-23 10:11:11,424 sagemaker-training-toolkit INFO     Invoking user script\u001b[0m\n",
      "\u001b[34mTraining Env:\u001b[0m\n",
      "\u001b[34m{\n",
      "    \"additional_framework_parameters\": {},\n",
      "    \"channel_input_dirs\": {\n",
      "        \"test\": \"/opt/ml/input/data/test\",\n",
      "        \"train\": \"/opt/ml/input/data/train\",\n",
      "        \"val\": \"/opt/ml/input/data/val\"\n",
      "    },\n",
      "    \"current_host\": \"algo-1\",\n",
      "    \"framework_module\": \"sagemaker_tensorflow_container.training:main\",\n",
      "    \"hosts\": [\n",
      "        \"algo-1\"\n",
      "    ],\n",
      "    \"hyperparameters\": {\n",
      "        \"epochs\": 1,\n",
      "        \"model_dir\": \"/opt/ml/model\"\n",
      "    },\n",
      "    \"input_config_dir\": \"/opt/ml/input/config\",\n",
      "    \"input_data_config\": {\n",
      "        \"test\": {\n",
      "            \"ContentType\": \"npy\",\n",
      "            \"TrainingInputMode\": \"File\",\n",
      "            \"S3DistributionType\": \"FullyReplicated\",\n",
      "            \"RecordWrapperType\": \"None\"\n",
      "        },\n",
      "        \"train\": {\n",
      "            \"ContentType\": \"npy\",\n",
      "            \"TrainingInputMode\": \"File\",\n",
      "            \"S3DistributionType\": \"FullyReplicated\",\n",
      "            \"RecordWrapperType\": \"None\"\n",
      "        },\n",
      "        \"val\": {\n",
      "            \"ContentType\": \"npy\",\n",
      "            \"TrainingInputMode\": \"File\",\n",
      "            \"S3DistributionType\": \"FullyReplicated\",\n",
      "            \"RecordWrapperType\": \"None\"\n",
      "        }\n",
      "    },\n",
      "    \"input_dir\": \"/opt/ml/input\",\n",
      "    \"is_master\": true,\n",
      "    \"job_name\": \"cnn-training-job-1655978931\",\n",
      "    \"log_level\": 20,\n",
      "    \"master_hostname\": \"algo-1\",\n",
      "    \"model_dir\": \"/opt/ml/model\",\n",
      "    \"module_dir\": \"s3://sagemaker-us-east-1-949263681218/cnn-training-job-1655978931/source/sourcedir.tar.gz\",\n",
      "    \"module_name\": \"cifar_train\",\n",
      "    \"network_interface_name\": \"eth0\",\n",
      "    \"num_cpus\": 8,\n",
      "    \"num_gpus\": 0,\n",
      "    \"output_data_dir\": \"/opt/ml/output/data\",\n",
      "    \"output_dir\": \"/opt/ml/output\",\n",
      "    \"output_intermediate_dir\": \"/opt/ml/output/intermediate\",\n",
      "    \"resource_config\": {\n",
      "        \"current_host\": \"algo-1\",\n",
      "        \"current_instance_type\": \"ml.m5.2xlarge\",\n",
      "        \"current_group_name\": \"homogeneousCluster\",\n",
      "        \"hosts\": [\n",
      "            \"algo-1\"\n",
      "        ],\n",
      "        \"instance_groups\": [\n",
      "            {\n",
      "                \"instance_group_name\": \"homogeneousCluster\",\n",
      "                \"instance_type\": \"ml.m5.2xlarge\",\n",
      "                \"hosts\": [\n",
      "                    \"algo-1\"\n",
      "                ]\n",
      "            }\n",
      "        ],\n",
      "        \"network_interface_name\": \"eth0\"\n",
      "    },\n",
      "    \"user_entry_point\": \"cifar_train.py\"\u001b[0m\n",
      "\u001b[34m}\u001b[0m\n",
      "\u001b[34mEnvironment variables:\u001b[0m\n",
      "\u001b[34mSM_HOSTS=[\"algo-1\"]\u001b[0m\n",
      "\u001b[34mSM_NETWORK_INTERFACE_NAME=eth0\u001b[0m\n",
      "\u001b[34mSM_HPS={\"epochs\":1,\"model_dir\":\"/opt/ml/model\"}\u001b[0m\n",
      "\u001b[34mSM_USER_ENTRY_POINT=cifar_train.py\u001b[0m\n",
      "\u001b[34mSM_FRAMEWORK_PARAMS={}\u001b[0m\n",
      "\u001b[34mSM_RESOURCE_CONFIG={\"current_group_name\":\"homogeneousCluster\",\"current_host\":\"algo-1\",\"current_instance_type\":\"ml.m5.2xlarge\",\"hosts\":[\"algo-1\"],\"instance_groups\":[{\"hosts\":[\"algo-1\"],\"instance_group_name\":\"homogeneousCluster\",\"instance_type\":\"ml.m5.2xlarge\"}],\"network_interface_name\":\"eth0\"}\u001b[0m\n",
      "\u001b[34mSM_INPUT_DATA_CONFIG={\"test\":{\"ContentType\":\"npy\",\"RecordWrapperType\":\"None\",\"S3DistributionType\":\"FullyReplicated\",\"TrainingInputMode\":\"File\"},\"train\":{\"ContentType\":\"npy\",\"RecordWrapperType\":\"None\",\"S3DistributionType\":\"FullyReplicated\",\"TrainingInputMode\":\"File\"},\"val\":{\"ContentType\":\"npy\",\"RecordWrapperType\":\"None\",\"S3DistributionType\":\"FullyReplicated\",\"TrainingInputMode\":\"File\"}}\u001b[0m\n",
      "\u001b[34mSM_OUTPUT_DATA_DIR=/opt/ml/output/data\u001b[0m\n",
      "\u001b[34mSM_CHANNELS=[\"test\",\"train\",\"val\"]\u001b[0m\n",
      "\u001b[34mSM_CURRENT_HOST=algo-1\u001b[0m\n",
      "\u001b[34mSM_MODULE_NAME=cifar_train\u001b[0m\n",
      "\u001b[34mSM_LOG_LEVEL=20\u001b[0m\n",
      "\u001b[34mSM_FRAMEWORK_MODULE=sagemaker_tensorflow_container.training:main\u001b[0m\n",
      "\u001b[34mSM_INPUT_DIR=/opt/ml/input\u001b[0m\n",
      "\u001b[34mSM_INPUT_CONFIG_DIR=/opt/ml/input/config\u001b[0m\n",
      "\u001b[34mSM_OUTPUT_DIR=/opt/ml/output\u001b[0m\n",
      "\u001b[34mSM_NUM_CPUS=8\u001b[0m\n",
      "\u001b[34mSM_NUM_GPUS=0\u001b[0m\n",
      "\u001b[34mSM_MODEL_DIR=/opt/ml/model\u001b[0m\n",
      "\u001b[34mSM_MODULE_DIR=s3://sagemaker-us-east-1-949263681218/cnn-training-job-1655978931/source/sourcedir.tar.gz\u001b[0m\n",
      "\u001b[34mSM_TRAINING_ENV={\"additional_framework_parameters\":{},\"channel_input_dirs\":{\"test\":\"/opt/ml/input/data/test\",\"train\":\"/opt/ml/input/data/train\",\"val\":\"/opt/ml/input/data/val\"},\"current_host\":\"algo-1\",\"framework_module\":\"sagemaker_tensorflow_container.training:main\",\"hosts\":[\"algo-1\"],\"hyperparameters\":{\"epochs\":1,\"model_dir\":\"/opt/ml/model\"},\"input_config_dir\":\"/opt/ml/input/config\",\"input_data_config\":{\"test\":{\"ContentType\":\"npy\",\"RecordWrapperType\":\"None\",\"S3DistributionType\":\"FullyReplicated\",\"TrainingInputMode\":\"File\"},\"train\":{\"ContentType\":\"npy\",\"RecordWrapperType\":\"None\",\"S3DistributionType\":\"FullyReplicated\",\"TrainingInputMode\":\"File\"},\"val\":{\"ContentType\":\"npy\",\"RecordWrapperType\":\"None\",\"S3DistributionType\":\"FullyReplicated\",\"TrainingInputMode\":\"File\"}},\"input_dir\":\"/opt/ml/input\",\"is_master\":true,\"job_name\":\"cnn-training-job-1655978931\",\"log_level\":20,\"master_hostname\":\"algo-1\",\"model_dir\":\"/opt/ml/model\",\"module_dir\":\"s3://sagemaker-us-east-1-949263681218/cnn-training-job-1655978931/source/sourcedir.tar.gz\",\"module_name\":\"cifar_train\",\"network_interface_name\":\"eth0\",\"num_cpus\":8,\"num_gpus\":0,\"output_data_dir\":\"/opt/ml/output/data\",\"output_dir\":\"/opt/ml/output\",\"output_intermediate_dir\":\"/opt/ml/output/intermediate\",\"resource_config\":{\"current_group_name\":\"homogeneousCluster\",\"current_host\":\"algo-1\",\"current_instance_type\":\"ml.m5.2xlarge\",\"hosts\":[\"algo-1\"],\"instance_groups\":[{\"hosts\":[\"algo-1\"],\"instance_group_name\":\"homogeneousCluster\",\"instance_type\":\"ml.m5.2xlarge\"}],\"network_interface_name\":\"eth0\"},\"user_entry_point\":\"cifar_train.py\"}\u001b[0m\n",
      "\u001b[34mSM_USER_ARGS=[\"--epochs\",\"1\",\"--model_dir\",\"/opt/ml/model\"]\u001b[0m\n",
      "\u001b[34mSM_OUTPUT_INTERMEDIATE_DIR=/opt/ml/output/intermediate\u001b[0m\n",
      "\u001b[34mSM_CHANNEL_TEST=/opt/ml/input/data/test\u001b[0m\n",
      "\u001b[34mSM_CHANNEL_TRAIN=/opt/ml/input/data/train\u001b[0m\n",
      "\u001b[34mSM_CHANNEL_VAL=/opt/ml/input/data/val\u001b[0m\n",
      "\u001b[34mSM_HP_EPOCHS=1\u001b[0m\n",
      "\u001b[34mSM_HP_MODEL_DIR=/opt/ml/model\u001b[0m\n",
      "\u001b[34mPYTHONPATH=/opt/ml/code:/usr/local/bin:/usr/local/lib/python37.zip:/usr/local/lib/python3.7:/usr/local/lib/python3.7/lib-dynload:/usr/local/lib/python3.7/site-packages\u001b[0m\n",
      "\u001b[34mInvoking script with the following command:\u001b[0m\n",
      "\u001b[34m/usr/local/bin/python3.7 cifar_train.py --epochs 1 --model_dir /opt/ml/model\u001b[0m\n",
      "\u001b[34mModel: \"sequential\"\u001b[0m\n",
      "\u001b[34m_________________________________________________________________\u001b[0m\n",
      "\u001b[34mLayer (type)                 Output Shape              Param #   \u001b[0m\n",
      "\u001b[34m=================================================================\u001b[0m\n",
      "\u001b[34mconv2d (Conv2D)              (None, 32, 32, 16)        208       \u001b[0m\n",
      "\u001b[34m_________________________________________________________________\u001b[0m\n",
      "\u001b[34mbatch_normalization (BatchNo (None, 32, 32, 16)        64        \u001b[0m\n",
      "\u001b[34m_________________________________________________________________\u001b[0m\n",
      "\u001b[34mmax_pooling2d (MaxPooling2D) (None, 16, 16, 16)        0         \u001b[0m\n",
      "\u001b[34m_________________________________________________________________\u001b[0m\n",
      "\u001b[34mconv2d_1 (Conv2D)            (None, 16, 16, 32)        2080      \u001b[0m\n",
      "\u001b[34m_________________________________________________________________\u001b[0m\n",
      "\u001b[34mbatch_normalization_1 (Batch (None, 16, 16, 32)        128       \u001b[0m\n",
      "\u001b[34m_________________________________________________________________\u001b[0m\n",
      "\u001b[34mmax_pooling2d_1 (MaxPooling2 (None, 8, 8, 32)          0         \u001b[0m\n",
      "\u001b[34m_________________________________________________________________\u001b[0m\n",
      "\u001b[34mconv2d_2 (Conv2D)            (None, 8, 8, 64)          8256      \u001b[0m\n",
      "\u001b[34m_________________________________________________________________\u001b[0m\n",
      "\u001b[34mbatch_normalization_2 (Batch (None, 8, 8, 64)          256       \u001b[0m\n",
      "\u001b[34m_________________________________________________________________\u001b[0m\n",
      "\u001b[34mmax_pooling2d_2 (MaxPooling2 (None, 4, 4, 64)          0         \u001b[0m\n",
      "\u001b[34m_________________________________________________________________\u001b[0m\n",
      "\u001b[34mdropout (Dropout)            (None, 4, 4, 64)          0         \u001b[0m\n",
      "\u001b[34m_________________________________________________________________\u001b[0m\n",
      "\u001b[34mflatten (Flatten)            (None, 1024)              0         \u001b[0m\n",
      "\u001b[34m_________________________________________________________________\u001b[0m\n",
      "\u001b[34mdense (Dense)                (None, 500)               512500    \u001b[0m\n",
      "\u001b[34m_________________________________________________________________\u001b[0m\n",
      "\u001b[34mdropout_1 (Dropout)          (None, 500)               0         \u001b[0m\n",
      "\u001b[34m_________________________________________________________________\u001b[0m\n",
      "\u001b[34mdense_1 (Dense)              (None, 10)                5010      \u001b[0m\n",
      "\u001b[34m=================================================================\u001b[0m\n",
      "\u001b[34mTotal params: 528,502\u001b[0m\n",
      "\u001b[34mTrainable params: 528,278\u001b[0m\n",
      "\u001b[34mNon-trainable params: 224\u001b[0m\n",
      "\u001b[34m_________________________________________________________________\u001b[0m\n",
      "\u001b[34m[2022-06-23 10:11:16.453 ip-10-2-205-69.ec2.internal:26 INFO json_config.py:90] Creating hook from json_config at /opt/ml/input/config/debughookconfig.json.\u001b[0m\n",
      "\u001b[34m[2022-06-23 10:11:16.453 ip-10-2-205-69.ec2.internal:26 INFO hook.py:193] tensorboard_dir has not been set for the hook. SMDebug will not be exporting tensorboard summaries.\u001b[0m\n",
      "\u001b[34m[2022-06-23 10:11:16.454 ip-10-2-205-69.ec2.internal:26 INFO hook.py:238] Saving to /opt/ml/output/tensors\u001b[0m\n",
      "\u001b[34m[2022-06-23 10:11:16.454 ip-10-2-205-69.ec2.internal:26 INFO state_store.py:67] The checkpoint config file /opt/ml/input/config/checkpointconfig.json does not exist.\u001b[0m\n",
      "\u001b[34m[2022-06-23 10:11:16.581 ip-10-2-205-69.ec2.internal:26 INFO hook.py:398] Monitoring the collections: metrics, losses, sm_metrics\u001b[0m\n",
      "\u001b[34m1546/1546 - 97s - loss: 1.7411 - accuracy: 0.3754 - val_loss: 1.4783 - val_accuracy: 0.4580\u001b[0m\n",
      "\u001b[34m#015  1/313 [..............................] - ETA: 0s - loss: 1.3627 - accuracy: 0.5625#010#010#010#010#010#010#010#010#010#010#010#010#010#010#010#010#010#010#010#010#010#010#010#010#010#010#010#010#010#010#010#010#010#010#010#010#010#010#010#010#010#010#010#010#010#010#010#010#010#010#010#010#010#010#010#010#010#010#010#010#010#010#010#010#010#010#010#010#010#010#010#010#010#010#010#010#010#010#010#010#010#010#010#010#015  5/313 [..............................] - ETA: 3s - loss: 1.5204 - accuracy: 0.4812#010#010#010#010#010#010#010#010#010#010#010#010#010#010#010#010#010#010#010#010#010#010#010#010#010#010#010#010#010#010#010#010#010#010#010#010#010#010#010#010#010#010#010#010#010#010#010#010#010#010#010#010#010#010#010#010#010#010#010#010#010#010#010#010#010#010#010#010#010#010#010#010#010#010#010#010#010#010#010#010#010#010#010#010#015  9/313 [..............................] - ETA: 4s - loss: 1.5744 - accuracy: 0.4375#010#010#010#010#010#010#010#010#010#010#010#010#010#010#010#010#010#010#010#010#010#010#010#010#010#010#010#010#010#010#010#010#010#010#010#010#010#010#010#010#010#010#010#010#010#010#010#010#010#010#010#010#010#010#010#010#010#010#010#010#010#010#010#010#010#010#010#010#010#010#010#010#010#010#010#010#010#010#010#010#010#010#010#010#015 13/313 [>.............................] - ETA: 4s - loss: 1.5646 - accuracy: 0.4375#010#010#010#010#010#010#010#010#010#010#010#010#010#010#010#010#010#010#010#010#010#010#010#010#010#010#010#010#010#010#010#010#010#010#010#010#010#010#010#010#010#010#010#010#010#010#010#010#010#010#010#010#010#010#010#010#010#010#010#010#010#010#010#010#010#010#010#010#010#010#010#010#010#010#010#010#010#010#010#010#010#010#010#010#015 16/313 [>.............................] - ETA: 4s - loss: 1.5567 - accuracy: 0.4375#010#010#010#010#010#010#010#010#010#010#010#010#010#010#010#010#010#010#010#010#010#010#010#010#010#010#010#010#010#010#010#010#010#010#010#010#010#010#010#010#010#010#010#010#010#010#010#010#010#010#010#010#010#010#010#010#010#010#010#010#010#010#010#010#010#010#010#010#010#010#010#010#010#010#010#010#010#010#010#010#010#010#010#010#015 20/313 [>.............................] - ETA: 4s - loss: 1.5170 - accuracy: 0.4500#010#010#010#010#010#010#010#010#010#010#010#010#010#010#010#010#010#010#010#010#010#010#010#010#010#010#010#010#010#010#010#010#010#010#010#010#010#010#010#010#010#010#010#010#010#010#010#010#010#010#010#010#010#010#010#010#010#010#010#010#010#010#010#010#010#010#010#010#010#010#010#010#010#010#010#010#010#010#010#010#010#010#010#010#015 24/313 [=>............................] - ETA: 4s - loss: 1.5154 - accuracy: 0.4479#010#010#010#010#010#010#010#010#010#010#010#010#010#010#010#010#010#010#010#010#010#010#010#010#010#010#010#010#010#010#010#010#010#010#010#010#010#010#010#010#010#010#010#010#010#010#010#010#010#010#010#010#010#010#010#010#010#010#010#010#010#010#010#010#010#010#010#010#010#010#010#010#010#010#010#010#010#010#010#010#010#010#010#010#015 28/313 [=>............................] - ETA: 4s - loss: 1.5006 - accuracy: 0.4609#010#010#010#010#010#010#010#010#010#010#010#010#010#010#010#010#010#010#010#010#010#010#010#010#010#010#010#010#010#010#010#010#010#010#010#010#010#010#010#010#010#010#010#010#010#010#010#010#010#010#010#010#010#010#010#010#010#010#010#010#010#010#010#010#010#010#010#010#010#010#010#010#010#010#010#010#010#010#010#010#010#010#010#010#015 31/313 [=>............................] - ETA: 4s - loss: 1.5012 - accuracy: 0.4597#010#010#010#010#010#010#010#010#010#010#010#010#010#010#010#010#010#010#010#010#010#010#010#010#010#010#010#010#010#010#010#010#010#010#010#010#010#010#010#010#010#010#010#010#010#010#010#010#010#010#010#010#010#010#010#010#010#010#010#010#010#010#010#010#010#010#010#010#010#010#010#010#010#010#010#010#010#010#010#010#010#010#010#010#015 35/313 [==>...........................] - ETA: 4s - loss: 1.4951 - accuracy: 0.4625#010#010#010#010#010#010#010#010#010#010#010#010#010#010#010#010#010#010#010#010#010#010#010#010#010#010#010#010#010#010#010#010#010#010#010#010#010#010#010#010#010#010#010#010#010#010#010#010#010#010#010#010#010#010#010#010#010#010#010#010#010#010#010#010#010#010#010#010#010#010#010#010#010#010#010#010#010#010#010#010#010#010#010#010#015 38/313 [==>...........................] - ETA: 4s - loss: 1.4930 - accuracy: 0.4646#010#010#010#010#010#010#010#010#010#010#010#010#010#010#010#010#010#010#010#010#010#010#010#010#010#010#010#010#010#010#010#010#010#010#010#010#010#010#010#010#010#010#010#010#010#010#010#010#010#010#010#010#010#010#010#010#010#010#010#010#010#010#010#010#010#010#010#010#010#010#010#010#010#010#010#010#010#010#010#010#010#010#010#010#015 42/313 [===>..........................] - ETA: 4s - loss: 1.4994 - accuracy: 0.4583#010#010#010#010#010#010#010#010#010#010#010#010#010#010#010#010#010#010#010#010#010#010#010#010#010#010#010#010#010#010#010#010#010#010#010#010#010#010#010#010#010#010#010#010#010#010#010#010#010#010#010#010#010#010#010#010#010#010#010#010#010#010#010#010#010#010#010#010#010#010#010#010#010#010#010#010#010#010#010#010#010#010#010#010#015 45/313 [===>..........................] - ETA: 4s - loss: 1.4954 - accuracy: 0.4563#010#010#010#010#010#010#010#010#010#010#010#010#010#010#010#010#010#010#010#010#010#010#010#010#010#010#010#010#010#010#010#010#010#010#010#010#010#010#010#010#010#010#010#010#010#010#010#010#010#010#010#010#010#010#010#010#010#010#010#010#010#010#010#010#010#010#010#010#010#010#010#010#010#010#010#010#010#010#010#010#010#010#010#010#015 48/313 [===>..........................] - ETA: 4s - loss: 1.4992 - accuracy: 0.4518#010#010#010#010#010#010#010#010#010#010#010#010#010#010#010#010#010#010#010#010#010#010#010#010#010#010#010#010#010#010#010#010#010#010#010#010#010#010#010#010#010#010#010#010#010#010#010#010#010#010#010#010#010#010#010#010#010#010#010#010#010#010#010#010#010#010#010#010#010#010#010#010#010#010#010#010#010#010#010#010#010#010#010#010#015 52/313 [===>..........................] - ETA: 4s - loss: 1.4943 - accuracy: 0.4555#010#010#010#010#010#010#010#010#010#010#010#010#010#010#010#010#010#010#010#010#010#010#010#010#010#010#010#010#010#010#010#010#010#010#010#010#010#010#010#010#010#010#010#010#010#010#010#010#010#010#010#010#010#010#010#010#010#010#010#010#010#010#010#010#010#010#010#010#010#010#010#010#010#010#010#010#010#010#010#010#010#010#010#010#015 56/313 [====>.........................] - ETA: 4s - loss: 1.4909 - accuracy: 0.4554#010#010#010#010#010#010#010#010#010#010#010#010#010#010#010#010#010#010#010#010#010#010#010#010#010#010#010#010#010#010#010#010#010#010#010#010#010#010#010#010#010#010#010#010#010#010#010#010#010#010#010#010#010#010#010#010#010#010#010#010#010#010#010#010#010#010#010#010#010#010#010#010#010#010#010#010#010#010#010#010#010#010#010#010#015 60/313 [====>.........................] - ETA: 4s - loss: 1.4837 - accuracy: 0.4599#010#010#010#010#010#010#010#010#010#010#010#010#010#010#010#010#010#010#010#010#010#010#010#010#010#010#010#010#010#010#010#010#010#010#010#010#010#010#010#010#010#010#010#010#010#010#010#010#010#010#010#010#010#010#010#010#010#010#010#010#010#010#010#010#010#010#010#010#010#010#010#010#010#010#010#010#010#010#010#010#010#010#010#010#015 64/313 [=====>........................] - ETA: 4s - loss: 1.4870 - accuracy: 0.4585#010#010#010#010#010#010#010#010#010#010#010#010#010#010#010#010#010#010#010#010#010#010#010#010#010#010#010#010#010#010#010#010#010#010#010#010#010#010#010#010#010#010#010#010#010#010#010#010#010#010#010#010#010#010#010#010#010#010#010#010#010#010#010#010#010#010#010#010#010#010#010#010#010#010#010#010#010#010#010#010#010#010#010#010#015 67/313 [=====>........................] - ETA: 4s - loss: 1.4806 - accuracy: 0.4632#010#010#010#010#010#010#010#010#010#010#010#010#010#010#010#010#010#010#010#010#010#010#010#010#010#010#010#010#010#010#010#010#010#010#010#010#010#010#010#010#010#010#010#010#010#010#010#010#010#010#010#010#010#010#010#010#010#010#010#010#010#010#010#010#010#010#010#010#010#010#010#010#010#010#010#010#010#010#010#010#010#010#010#010#015 70/313 [=====>........................] - ETA: 3s - loss: 1.4783 - accuracy: 0.4612#010#010#010#010#010#010#010#010#010#010#010#010#010#010#010#010#010#010#010#010#010#010#010#010#010#010#010#010#010#010#010#010#010#010#010#010#010#010#010#010#010#010#010#010#010#010#010#010#010#010#010#010#010#010#010#010#010#010#010#010#010#010#010#010#010#010#010#010#010#010#010#010#010#010#010#010#010#010#010#010#010#010#010#010#015 73/313 [=====>........................] - ETA: 3s - loss: 1.4776 - accuracy: 0.4598#010#010#010#010#010#010#010#010#010#010#010#010#010#010#010#010#010#010#010#010#010#010#010#010#010#010#010#010#010#010#010#010#010#010#010#010#010#010#010#010#010#010#010#010#010#010#010#010#010#010#010#010#010#010#010#010#010#010#010#010#010#010#010#010#010#010#010#010#010#010#010#010#010#010#010#010#010#010#010#010#010#010#010#010#015 76/313 [======>.......................] - ETA: 3s - loss: 1.4781 - accuracy: 0.4605#010#010#010#010#010#010#010#010#010#010#010#010#010#010#010#010#010#010#010#010#010#010#010#010#010#010#010#010#010#010#010#010#010#010#010#010#010#010#010#010#010#010#010#010#010#010#010#010#010#010#010#010#010#010#010#010#010#010#010#010#010#010#010#010#010#010#010#010#010#010#010#010#010#010#010#010#010#010#010#010#010#010#010#010#015 79/313 [======>.......................] - ETA: 3s - loss: 1.4835 - accuracy: 0.4608#010#010#010#010#010#010#010#010#010#010#010#010#010#010#010#010#010#010#010#010#010#010#010#010#010#010#010#010#010#010#010#010#010#010#010#010#010#010#010#010#010#010#010#010#010#010#010#010#010#010#010#010#010#010#010#010#010#010#010#010#010#010#010#010#010#010#010#010#010#010#010#010#010#010#010#010#010#010#010#010#010#010#010#010#015 82/313 [======>.......................] - ETA: 3s - loss: 1.4889 - accuracy: 0.4581#010#010#010#010#010#010#010#010#010#010#010#010#010#010#010#010#010#010#010#010#010#010#010#010#010#010#010#010#010#010#010#010#010#010#010#010#010#010#010#010#010#010#010#010#010#010#010#010#010#010#010#010#010#010#010#010#010#010#010#010#010#010#010#010#010#010#010#010#010#010#010#010#010#010#010#010#010#010#010#010#010#010#010#010#015 86/313 [=======>......................] - ETA: 3s - loss: 1.4880 - accuracy: 0.4571#010#010#010#010#010#010#010#010#010#010#010#010#010#010#010#010#010#010#010#010#010#010#010#010#010#010#010#010#010#010#010#010#010#010#010#010#010#010#010#010#010#010#010#010#010#010#010#010#010#010#010#010#010#010#010#010#010#010#010#010#010#010#010#010#010#010#010#010#010#010#010#010#010#010#010#010#010#010#010#010#010#010#010#010#015 90/313 [=======>......................] - ETA: 3s - loss: 1.4888 - accuracy: 0.4552#010#010#010#010#010#010#010#010#010#010#010#010#010#010#010#010#010#010#010#010#010#010#010#010#010#010#010#010#010#010#010#010#010#010#010#010#010#010#010#010#010#010#010#010#010#010#010#010#010#010#010#010#010#010#010#010#010#010#010#010#010#010#010#010#010#010#010#010#010#010#010#010#010#010#010#010#010#010#010#010#010#010#010#010#015 93/313 [=======>......................] - ETA: 3s - loss: 1.4861 - accuracy: 0.4573#010#010#010#010#010#010#010#010#010#010#010#010#010#010#010#010#010#010#010#010#010#010#010#010#010#010#010#010#010#010#010#010#010#010#010#010#010#010#010#010#010#010#010#010#010#010#010#010#010#010#010#010#010#010#010#010#010#010#010#010#010#010#010#010#010#010#010#010#010#010#010#010#010#010#010#010#010#010#010#010#010#010#010#010#015 97/313 [========>.....................] - ETA: 3s - loss: 1.4838 - accuracy: 0.4597#010#010#010#010#010#010#010#010#010#010#010#010#010#010#010#010#010#010#010#010#010#010#010#010#010#010#010#010#010#010#010#010#010#010#010#010#010#010#010#010#010#010#010#010#010#010#010#010#010#010#010#010#010#010#010#010#010#010#010#010#010#010#010#010#010#010#010#010#010#010#010#010#010#010#010#010#010#010#010#010#010#010#010#010#015101/313 [========>.....................] - ETA: 3s - loss: 1.4855 - accuracy: 0.4613#010#010#010#010#010#010#010#010#010#010#010#010#010#010#010#010#010#010#010#010#010#010#010#010#010#010#010#010#010#010#010#010#010#010#010#010#010#010#010#010#010#010#010#010#010#010#010#010#010#010#010#010#010#010#010#010#010#010#010#010#010#010#010#010#010#010#010#010#010#010#010#010#010#010#010#010#010#010#010#010#010#010#010#010#015104/313 [========>.....................] - ETA: 3s - loss: 1.4812 - accuracy: 0.4621#010#010#010#010#010#010#010#010#010#010#010#010#010#010#010#010#010#010#010#010#010#010#010#010#010#010#010#010#010#010#010#010#010#010#010#010#010#010#010#010#010#010#010#010#010#010#010#010#010#010#010#010#010#010#010#010#010#010#010#010#010#010#010#010#010#010#010#010#010#010#010#010#010#010#010#010#010#010#010#010#010#010#010#010#015108/313 [=========>....................] - ETA: 3s - loss: 1.4837 - accuracy: 0.4621#010#010#010#010#010#010#010#010#010#010#010#010#010#010#010#010#010#010#010#010#010#010#010#010#010#010#010#010#010#010#010#010#010#010#010#010#010#010#010#010#010#010#010#010#010#010#010#010#010#010#010#010#010#010#010#010#010#010#010#010#010#010#010#010#010#010#010#010#010#010#010#010#010#010#010#010#010#010#010#010#010#010#010#010#015111/313 [=========>....................] - ETA: 3s - loss: 1.4841 - accuracy: 0.4631#010#010#010#010#010#010#010#010#010#010#010#010#010#010#010#010#010#010#010#010#010#010#010#010#010#010#010#010#010#010#010#010#010#010#010#010#010#010#010#010#010#010#010#010#010#010#010#010#010#010#010#010#010#010#010#010#010#010#010#010#010#010#010#010#010#010#010#010#010#010#010#010#010#010#010#010#010#010#010#010#010#010#010#010#015115/313 [==========>...................] - ETA: 3s - loss: 1.4854 - accuracy: 0.4622#010#010#010#010#010#010#010#010#010#010#010#010#010#010#010#010#010#010#010#010#010#010#010#010#010#010#010#010#010#010#010#010#010#010#010#010#010#010#010#010#010#010#010#010#010#010#010#010#010#010#010#010#010#010#010#010#010#010#010#010#010#010#010#010#010#010#010#010#010#010#010#010#010#010#010#010#010#010#010#010#010#010#010#010#015119/313 [==========>...................] - ETA: 3s - loss: 1.4863 - accuracy: 0.4609#010#010#010#010#010#010#010#010#010#010#010#010#010#010#010#010#010#010#010#010#010#010#010#010#010#010#010#010#010#010#010#010#010#010#010#010#010#010#010#010#010#010#010#010#010#010#010#010#010#010#010#010#010#010#010#010#010#010#010#010#010#010#010#010#010#010#010#010#010#010#010#010#010#010#010#010#010#010#010#010#010#010#010#010#015123/313 [==========>...................] - ETA: 3s - loss: 1.4854 - accuracy: 0.4629#010#010#010#010#010#010#010#010#010#010#010#010#010#010#010#010#010#010#010#010#010#010#010#010#010#010#010#010#010#010#010#010#010#010#010#010#010#010#010#010#010#010#010#010#010#010#010#010#010#010#010#010#010#010#010#010#010#010#010#010#010#010#010#010#010#010#010#010#010#010#010#010#010#010#010#010#010#010#010#010#010#010#010#010#015127/313 [===========>..................] - ETA: 3s - loss: 1.4856 - accuracy: 0.4621#010#010#010#010#010#010#010#010#010#010#010#010#010#010#010#010#010#010#010#010#010#010#010#010#010#010#010#010#010#010#010#010#010#010#010#010#010#010#010#010#010#010#010#010#010#010#010#010#010#010#010#010#010#010#010#010#010#010#010#010#010#010#010#010#010#010#010#010#010#010#010#010#010#010#010#010#010#010#010#010#010#010#010#010#015130/313 [===========>..................] - ETA: 3s - loss: 1.4861 - accuracy: 0.4642#010#010#010#010#010#010#010#010#010#010#010#010#010#010#010#010#010#010#010#010#010#010#010#010#010#010#010#010#010#010#010#010#010#010#010#010#010#010#010#010#010#010#010#010#010#010#010#010#010#010#010#010#010#010#010#010#010#010#010#010#010#010#010#010#010#010#010#010#010#010#010#010#010#010#010#010#010#010#010#010#010#010#010#010#015134/313 [===========>..................] - ETA: 2s - loss: 1.4848 - accuracy: 0.4641#010#010#010#010#010#010#010#010#010#010#010#010#010#010#010#010#010#010#010#010#010#010#010#010#010#010#010#010#010#010#010#010#010#010#010#010#010#010#010#010#010#010#010#010#010#010#010#010#010#010#010#010#010#010#010#010#010#010#010#010#010#010#010#010#010#010#010#010#010#010#010#010#010#010#010#010#010#010#010#010#010#010#010#010#015137/313 [============>.................] - ETA: 2s - loss: 1.4823 - accuracy: 0.4658#010#010#010#010#010#010#010#010#010#010#010#010#010#010#010#010#010#010#010#010#010#010#010#010#010#010#010#010#010#010#010#010#010#010#010#010#010#010#010#010#010#010#010#010#010#010#010#010#010#010#010#010#010#010#010#010#010#010#010#010#010#010#010#010#010#010#010#010#010#010#010#010#010#010#010#010#010#010#010#010#010#010#010#010#015141/313 [============>.................] - ETA: 2s - loss: 1.4827 - accuracy: 0.4661#010#010#010#010#010#010#010#010#010#010#010#010#010#010#010#010#010#010#010#010#010#010#010#010#010#010#010#010#010#010#010#010#010#010#010#010#010#010#010#010#010#010#010#010#010#010#010#010#010#010#010#010#010#010#010#010#010#010#010#010#010#010#010#010#010#010#010#010#010#010#010#010#010#010#010#010#010#010#010#010#010#010#010#010#015145/313 [============>.................] - ETA: 2s - loss: 1.4841 - accuracy: 0.4647#010#010#010#010#010#010#010#010#010#010#010#010#010#010#010#010#010#010#010#010#010#010#010#010#010#010#010#010#010#010#010#010#010#010#010#010#010#010#010#010#010#010#010#010#010#010#010#010#010#010#010#010#010#010#010#010#010#010#010#010#010#010#010#010#010#010#010#010#010#010#010#010#010#010#010#010#010#010#010#010#010#010#010#010#015149/313 [=============>................] - ETA: 2s - loss: 1.4848 - accuracy: 0.4641#010#010#010#010#010#010#010#010#010#010#010#010#010#010#010#010#010#010#010#010#010#010#010#010#010#010#010#010#010#010#010#010#010#010#010#010#010#010#010#010#010#010#010#010#010#010#010#010#010#010#010#010#010#010#010#010#010#010#010#010#010#010#010#010#010#010#010#010#010#010#010#010#010#010#010#010#010#010#010#010#010#010#010#010#015153/313 [=============>................] - ETA: 2s - loss: 1.4834 - accuracy: 0.4647#010#010#010#010#010#010#010#010#010#010#010#010#010#010#010#010#010#010#010#010#010#010#010#010#010#010#010#010#010#010#010#010#010#010#010#010#010#010#010#010#010#010#010#010#010#010#010#010#010#010#010#010#010#010#010#010#010#010#010#010#010#010#010#010#010#010#010#010#010#010#010#010#010#010#010#010#010#010#010#010#010#010#010#010#015156/313 [=============>................] - ETA: 2s - loss: 1.4822 - accuracy: 0.4639#010#010#010#010#010#010#010#010#010#010#010#010#010#010#010#010#010#010#010#010#010#010#010#010#010#010#010#010#010#010#010#010#010#010#010#010#010#010#010#010#010#010#010#010#010#010#010#010#010#010#010#010#010#010#010#010#010#010#010#010#010#010#010#010#010#010#010#010#010#010#010#010#010#010#010#010#010#010#010#010#010#010#010#010#015160/313 [==============>...............] - ETA: 2s - loss: 1.4814 - accuracy: 0.4637#010#010#010#010#010#010#010#010#010#010#010#010#010#010#010#010#010#010#010#010#010#010#010#010#010#010#010#010#010#010#010#010#010#010#010#010#010#010#010#010#010#010#010#010#010#010#010#010#010#010#010#010#010#010#010#010#010#010#010#010#010#010#010#010#010#010#010#010#010#010#010#010#010#010#010#010#010#010#010#010#010#010#010#010#015163/313 [==============>...............] - ETA: 2s - loss: 1.4808 - accuracy: 0.4636#010#010#010#010#010#010#010#010#010#010#010#010#010#010#010#010#010#010#010#010#010#010#010#010#010#010#010#010#010#010#010#010#010#010#010#010#010#010#010#010#010#010#010#010#010#010#010#010#010#010#010#010#010#010#010#010#010#010#010#010#010#010#010#010#010#010#010#010#010#010#010#010#010#010#010#010#010#010#010#010#010#010#010#010#015166/313 [==============>...............] - ETA: 2s - loss: 1.4806 - accuracy: 0.4631#010#010#010#010#010#010#010#010#010#010#010#010#010#010#010#010#010#010#010#010#010#010#010#010#010#010#010#010#010#010#010#010#010#010#010#010#010#010#010#010#010#010#010#010#010#010#010#010#010#010#010#010#010#010#010#010#010#010#010#010#010#010#010#010#010#010#010#010#010#010#010#010#010#010#010#010#010#010#010#010#010#010#010#010#015169/313 [===============>..............] - ETA: 2s - loss: 1.4818 - accuracy: 0.4623#010#010#010#010#010#010#010#010#010#010#010#010#010#010#010#010#010#010#010#010#010#010#010#010#010#010#010#010#010#010#010#010#010#010#010#010#010#010#010#010#010#010#010#010#010#010#010#010#010#010#010#010#010#010#010#010#010#010#010#010#010#010#010#010#010#010#010#010#010#010#010#010#010#010#010#010#010#010#010#010#010#010#010#010#015172/313 [===============>..............] - ETA: 2s - loss: 1.4824 - accuracy: 0.4626#010#010#010#010#010#010#010#010#010#010#010#010#010#010#010#010#010#010#010#010#010#010#010#010#010#010#010#010#010#010#010#010#010#010#010#010#010#010#010#010#010#010#010#010#010#010#010#010#010#010#010#010#010#010#010#010#010#010#010#010#010#010#010#010#010#010#010#010#010#010#010#010#010#010#010#010#010#010#010#010#010#010#010#010#015175/313 [===============>..............] - ETA: 2s - loss: 1.4845 - accuracy: 0.4627#010#010#010#010#010#010#010#010#010#010#010#010#010#010#010#010#010#010#010#010#010#010#010#010#010#010#010#010#010#010#010#010#010#010#010#010#010#010#010#010#010#010#010#010#010#010#010#010#010#010#010#010#010#010#010#010#010#010#010#010#010#010#010#010#010#010#010#010#010#010#010#010#010#010#010#010#010#010#010#010#010#010#010#010#015178/313 [================>.............] - ETA: 2s - loss: 1.4853 - accuracy: 0.4619#010#010#010#010#010#010#010#010#010#010#010#010#010#010#010#010#010#010#010#010#010#010#010#010#010#010#010#010#010#010#010#010#010#010#010#010#010#010#010#010#010#010#010#010#010#010#010#010#010#010#010#010#010#010#010#010#010#010#010#010#010#010#010#010#010#010#010#010#010#010#010#010#010#010#010#010#010#010#010#010#010#010#010#010#015182/313 [================>.............] - ETA: 2s - loss: 1.4830 - accuracy: 0.4636#010#010#010#010#010#010#010#010#010#010#010#010#010#010#010#010#010#010#010#010#010#010#010#010#010#010#010#010#010#010#010#010#010#010#010#010#010#010#010#010#010#010#010#010#010#010#010#010#010#010#010#010#010#010#010#010#010#010#010#010#010#010#010#010#010#010#010#010#010#010#010#010#010#010#010#010#010#010#010#010#010#010#010#010#015185/313 [================>.............] - ETA: 2s - loss: 1.4835 - accuracy: 0.4642#010#010#010#010#010#010#010#010#010#010#010#010#010#010#010#010#010#010#010#010#010#010#010#010#010#010#010#010#010#010#010#010#010#010#010#010#010#010#010#010#010#010#010#010#010#010#010#010#010#010#010#010#010#010#010#010#010#010#010#010#010#010#010#010#010#010#010#010#010#010#010#010#010#010#010#010#010#010#010#010#010#010#010#010#015189/313 [=================>............] - ETA: 2s - loss: 1.4833 - accuracy: 0.4645#010#010#010#010#010#010#010#010#010#010#010#010#010#010#010#010#010#010#010#010#010#010#010#010#010#010#010#010#010#010#010#010#010#010#010#010#010#010#010#010#010#010#010#010#010#010#010#010#010#010#010#010#010#010#010#010#010#010#010#010#010#010#010#010#010#010#010#010#010#010#010#010#010#010#010#010#010#010#010#010#010#010#010#010#015193/313 [=================>............] - ETA: 1s - loss: 1.4842 - accuracy: 0.4634#010#010#010#010#010#010#010#010#010#010#010#010#010#010#010#010#010#010#010#010#010#010#010#010#010#010#010#010#010#010#010#010#010#010#010#010#010#010#010#010#010#010#010#010#010#010#010#010#010#010#010#010#010#010#010#010#010#010#010#010#010#010#010#010#010#010#010#010#010#010#010#010#010#010#010#010#010#010#010#010#010#010#010#010#015197/313 [=================>............] - ETA: 1s - loss: 1.4823 - accuracy: 0.4645#010#010#010#010#010#010#010#010#010#010#010#010#010#010#010#010#010#010#010#010#010#010#010#010#010#010#010#010#010#010#010#010#010#010#010#010#010#010#010#010#010#010#010#010#010#010#010#010#010#010#010#010#010#010#010#010#010#010#010#010#010#010#010#010#010#010#010#010#010#010#010#010#010#010#010#010#010#010#010#010#010#010#010#010#015201/313 [==================>...........] - ETA: 1s - loss: 1.4849 - accuracy: 0.4638#010#010#010#010#010#010#010#010#010#010#010#010#010#010#010#010#010#010#010#010#010#010#010#010#010#010#010#010#010#010#010#010#010#010#010#010#010#010#010#010#010#010#010#010#010#010#010#010#010#010#010#010#010#010#010#010#010#010#010#010#010#010#010#010#010#010#010#010#010#010#010#010#010#010#010#010#010#010#010#010#010#010#010#010#015205/313 [==================>...........] - ETA: 1s - loss: 1.4857 - accuracy: 0.4628#010#010#010#010#010#010#010#010#010#010#010#010#010#010#010#010#010#010#010#010#010#010#010#010#010#010#010#010#010#010#010#010#010#010#010#010#010#010#010#010#010#010#010#010#010#010#010#010#010#010#010#010#010#010#010#010#010#010#010#010#010#010#010#010#010#010#010#010#010#010#010#010#010#010#010#010#010#010#010#010#010#010#010#010#015209/313 [===================>..........] - ETA: 1s - loss: 1.4861 - accuracy: 0.4614#010#010#010#010#010#010#010#010#010#010#010#010#010#010#010#010#010#010#010#010#010#010#010#010#010#010#010#010#010#010#010#010#010#010#010#010#010#010#010#010#010#010#010#010#010#010#010#010#010#010#010#010#010#010#010#010#010#010#010#010#010#010#010#010#010#010#010#010#010#010#010#010#010#010#010#010#010#010#010#010#010#010#010#010#015213/313 [===================>..........] - ETA: 1s - loss: 1.4860 - accuracy: 0.4611#010#010#010#010#010#010#010#010#010#010#010#010#010#010#010#010#010#010#010#010#010#010#010#010#010#010#010#010#010#010#010#010#010#010#010#010#010#010#010#010#010#010#010#010#010#010#010#010#010#010#010#010#010#010#010#010#010#010#010#010#010#010#010#010#010#010#010#010#010#010#010#010#010#010#010#010#010#010#010#010#010#010#010#010#015217/313 [===================>..........] - ETA: 1s - loss: 1.4884 - accuracy: 0.4607#010#010#010#010#010#010#010#010#010#010#010#010#010#010#010#010#010#010#010#010#010#010#010#010#010#010#010#010#010#010#010#010#010#010#010#010#010#010#010#010#010#010#010#010#010#010#010#010#010#010#010#010#010#010#010#010#010#010#010#010#010#010#010#010#010#010#010#010#010#010#010#010#010#010#010#010#010#010#010#010#010#010#010#010#015221/313 [====================>.........] - ETA: 1s - loss: 1.4899 - accuracy: 0.4593#010#010#010#010#010#010#010#010#010#010#010#010#010#010#010#010#010#010#010#010#010#010#010#010#010#010#010#010#010#010#010#010#010#010#010#010#010#010#010#010#010#010#010#010#010#010#010#010#010#010#010#010#010#010#010#010#010#010#010#010#010#010#010#010#010#010#010#010#010#010#010#010#010#010#010#010#010#010#010#010#010#010#010#010#015225/313 [====================>.........] - ETA: 1s - loss: 1.4901 - accuracy: 0.4589#010#010#010#010#010#010#010#010#010#010#010#010#010#010#010#010#010#010#010#010#010#010#010#010#010#010#010#010#010#010#010#010#010#010#010#010#010#010#010#010#010#010#010#010#010#010#010#010#010#010#010#010#010#010#010#010#010#010#010#010#010#010#010#010#010#010#010#010#010#010#010#010#010#010#010#010#010#010#010#010#010#010#010#010#015228/313 [====================>.........] - ETA: 1s - loss: 1.4890 - accuracy: 0.4585#010#010#010#010#010#010#010#010#010#010#010#010#010#010#010#010#010#010#010#010#010#010#010#010#010#010#010#010#010#010#010#010#010#010#010#010#010#010#010#010#010#010#010#010#010#010#010#010#010#010#010#010#010#010#010#010#010#010#010#010#010#010#010#010#010#010#010#010#010#010#010#010#010#010#010#010#010#010#010#010#010#010#010#010#015232/313 [=====================>........] - ETA: 1s - loss: 1.4872 - accuracy: 0.4586#010#010#010#010#010#010#010#010#010#010#010#010#010#010#010#010#010#010#010#010#010#010#010#010#010#010#010#010#010#010#010#010#010#010#010#010#010#010#010#010#010#010#010#010#010#010#010#010#010#010#010#010#010#010#010#010#010#010#010#010#010#010#010#010#010#010#010#010#010#010#010#010#010#010#010#010#010#010#010#010#010#010#010#010#015236/313 [=====================>........] - ETA: 1s - loss: 1.4863 - accuracy: 0.4596#010#010#010#010#010#010#010#010#010#010#010#010#010#010#010#010#010#010#010#010#010#010#010#010#010#010#010#010#010#010#010#010#010#010#010#010#010#010#010#010#010#010#010#010#010#010#010#010#010#010#010#010#010#010#010#010#010#010#010#010#010#010#010#010#010#010#010#010#010#010#010#010#010#010#010#010#010#010#010#010#010#010#010#010#015239/313 [=====================>........] - ETA: 1s - loss: 1.4858 - accuracy: 0.4597#010#010#010#010#010#010#010#010#010#010#010#010#010#010#010#010#010#010#010#010#010#010#010#010#010#010#010#010#010#010#010#010#010#010#010#010#010#010#010#010#010#010#010#010#010#010#010#010#010#010#010#010#010#010#010#010#010#010#010#010#010#010#010#010#010#010#010#010#010#010#010#010#010#010#010#010#010#010#010#010#010#010#010#010#015242/313 [======================>.......] - ETA: 1s - loss: 1.4835 - accuracy: 0.4606#010#010#010#010#010#010#010#010#010#010#010#010#010#010#010#010#010#010#010#010#010#010#010#010#010#010#010#010#010#010#010#010#010#010#010#010#010#010#010#010#010#010#010#010#010#010#010#010#010#010#010#010#010#010#010#010#010#010#010#010#010#010#010#010#010#010#010#010#010#010#010#010#010#010#010#010#010#010#010#010#010#010#010#010#015246/313 [======================>.......] - ETA: 1s - loss: 1.4835 - accuracy: 0.4607#010#010#010#010#010#010#010#010#010#010#010#010#010#010#010#010#010#010#010#010#010#010#010#010#010#010#010#010#010#010#010#010#010#010#010#010#010#010#010#010#010#010#010#010#010#010#010#010#010#010#010#010#010#010#010#010#010#010#010#010#010#010#010#010#010#010#010#010#010#010#010#010#010#010#010#010#010#010#010#010#010#010#010#010#015249/313 [======================>.......] - ETA: 1s - loss: 1.4836 - accuracy: 0.4610#010#010#010#010#010#010#010#010#010#010#010#010#010#010#010#010#010#010#010#010#010#010#010#010#010#010#010#010#010#010#010#010#010#010#010#010#010#010#010#010#010#010#010#010#010#010#010#010#010#010#010#010#010#010#010#010#010#010#010#010#010#010#010#010#010#010#010#010#010#010#010#010#010#010#010#010#010#010#010#010#010#010#010#010#015253/313 [=======================>......] - ETA: 0s - loss: 1.4827 - accuracy: 0.4615#010#010#010#010#010#010#010#010#010#010#010#010#010#010#010#010#010#010#010#010#010#010#010#010#010#010#010#010#010#010#010#010#010#010#010#010#010#010#010#010#010#010#010#010#010#010#010#010#010#010#010#010#010#010#010#010#010#010#010#010#010#010#010#010#010#010#010#010#010#010#010#010#010#010#010#010#010#010#010#010#010#010#010#010#015257/313 [=======================>......] - ETA: 0s - loss: 1.4826 - accuracy: 0.4611#010#010#010#010#010#010#010#010#010#010#010#010#010#010#010#010#010#010#010#010#010#010#010#010#010#010#010#010#010#010#010#010#010#010#010#010#010#010#010#010#010#010#010#010#010#010#010#010#010#010#010#010#010#010#010#010#010#010#010#010#010#010#010#010#010#010#010#010#010#010#010#010#010#010#010#010#010#010#010#010#010#010#010#010#015261/313 [========================>.....] - ETA: 0s - loss: 1.4858 - accuracy: 0.4585#010#010#010#010#010#010#010#010#010#010#010#010#010#010#010#010#010#010#010#010#010#010#010#010#010#010#010#010#010#010#010#010#010#010#010#010#010#010#010#010#010#010#010#010#010#010#010#010#010#010#010#010#010#010#010#010#010#010#010#010#010#010#010#010#010#010#010#010#010#010#010#010#010#010#010#010#010#010#010#010#010#010#010#010#015265/313 [========================>.....] - ETA: 0s - loss: 1.4856 - accuracy: 0.4585#010#010#010#010#010#010#010#010#010#010#010#010#010#010#010#010#010#010#010#010#010#010#010#010#010#010#010#010#010#010#010#010#010#010#010#010#010#010#010#010#010#010#010#010#010#010#010#010#010#010#010#010#010#010#010#010#010#010#010#010#010#010#010#010#010#010#010#010#010#010#010#010#010#010#010#010#010#010#010#010#010#010#010#010#015269/313 [========================>.....] - ETA: 0s - loss: 1.4861 - accuracy: 0.4589#010#010#010#010#010#010#010#010#010#010#010#010#010#010#010#010#010#010#010#010#010#010#010#010#010#010#010#010#010#010#010#010#010#010#010#010#010#010#010#010#010#010#010#010#010#010#010#010#010#010#010#010#010#010#010#010#010#010#010#010#010#010#010#010#010#010#010#010#010#010#010#010#010#010#010#010#010#010#010#010#010#010#010#010#015273/313 [=========================>....] - ETA: 0s - loss: 1.4858 - accuracy: 0.4590#010#010#010#010#010#010#010#010#010#010#010#010#010#010#010#010#010#010#010#010#010#010#010#010#010#010#010#010#010#010#010#010#010#010#010#010#010#010#010#010#010#010#010#010#010#010#010#010#010#010#010#010#010#010#010#010#010#010#010#010#010#010#010#010#010#010#010#010#010#010#010#010#010#010#010#010#010#010#010#010#010#010#010#010#015277/313 [=========================>....] - ETA: 0s - loss: 1.4859 - accuracy: 0.4592#010#010#010#010#010#010#010#010#010#010#010#010#010#010#010#010#010#010#010#010#010#010#010#010#010#010#010#010#010#010#010#010#010#010#010#010#010#010#010#010#010#010#010#010#010#010#010#010#010#010#010#010#010#010#010#010#010#010#010#010#010#010#010#010#010#010#010#010#010#010#010#010#010#010#010#010#010#010#010#010#010#010#010#010#015281/313 [=========================>....] - ETA: 0s - loss: 1.4861 - accuracy: 0.4590#010#010#010#010#010#010#010#010#010#010#010#010#010#010#010#010#010#010#010#010#010#010#010#010#010#010#010#010#010#010#010#010#010#010#010#010#010#010#010#010#010#010#010#010#010#010#010#010#010#010#010#010#010#010#010#010#010#010#010#010#010#010#010#010#010#010#010#010#010#010#010#010#010#010#010#010#010#010#010#010#010#010#010#010#015285/313 [==========================>...] - ETA: 0s - loss: 1.4858 - accuracy: 0.4591#010#010#010#010#010#010#010#010#010#010#010#010#010#010#010#010#010#010#010#010#010#010#010#010#010#010#010#010#010#010#010#010#010#010#010#010#010#010#010#010#010#010#010#010#010#010#010#010#010#010#010#010#010#010#010#010#010#010#010#010#010#010#010#010#010#010#010#010#010#010#010#010#010#010#010#010#010#010#010#010#010#010#010#010#015288/313 [==========================>...] - ETA: 0s - loss: 1.4845 - accuracy: 0.4595#010#010#010#010#010#010#010#010#010#010#010#010#010#010#010#010#010#010#010#010#010#010#010#010#010#010#010#010#010#010#010#010#010#010#010#010#010#010#010#010#010#010#010#010#010#010#010#010#010#010#010#010#010#010#010#010#010#010#010#010#010#010#010#010#010#010#010#010#010#010#010#010#010#010#010#010#010#010#010#010#010#010#010#010#015292/313 [==========================>...] - ETA: 0s - loss: 1.4826 - accuracy: 0.4609#010#010#010#010#010#010#010#010#010#010#010#010#010#010#010#010#010#010#010#010#010#010#010#010#010#010#010#010#010#010#010#010#010#010#010#010#010#010#010#010#010#010#010#010#010#010#010#010#010#010#010#010#010#010#010#010#010#010#010#010#010#010#010#010#010#010#010#010#010#010#010#010#010#010#010#010#010#010#010#010#010#010#010#010#015295/313 [===========================>..] - ETA: 0s - loss: 1.4824 - accuracy: 0.4610#010#010#010#010#010#010#010#010#010#010#010#010#010#010#010#010#010#010#010#010#010#010#010#010#010#010#010#010#010#010#010#010#010#010#010#010#010#010#010#010#010#010#010#010#010#010#010#010#010#010#010#010#010#010#010#010#010#010#010#010#010#010#010#010#010#010#010#010#010#010#010#010#010#010#010#010#010#010#010#010#010#010#010#010#015299/313 [===========================>..] - ETA: 0s - loss: 1.4835 - accuracy: 0.4614#010#010#010#010#010#010#010#010#010#010#010#010#010#010#010#010#010#010#010#010#010#010#010#010#010#010#010#010#010#010#010#010#010#010#010#010#010#010#010#010#010#010#010#010#010#010#010#010#010#010#010#010#010#010#010#010#010#010#010#010#010#010#010#010#010#010#010#010#010#010#010#010#010#010#010#010#010#010#010#010#010#010#010#010#015303/313 [============================>.] - ETA: 0s - loss: 1.4818 - accuracy: 0.4617#010#010#010#010#010#010#010#010#010#010#010#010#010#010#010#010#010#010#010#010#010#010#010#010#010#010#010#010#010#010#010#010#010#010#010#010#010#010#010#010#010#010#010#010#010#010#010#010#010#010#010#010#010#010#010#010#010#010#010#010#010#010#010#010#010#010#010#010#010#010#010#010#010#010#010#010#010#010#010#010#010#010#010#010#015307/313 [============================>.] - ETA: 0s - loss: 1.4825 - accuracy: 0.4609#010#010#010#010#010#010#010#010#010#010#010#010#010#010#010#010#010#010#010#010#010#010#010#010#010#010#010#010#010#010#010#010#010#010#010#010#010#010#010#010#010#010#010#010#010#010#010#010#010#010#010#010#010#010#010#010#010#010#010#010#010#010#010#010#010#010#010#010#010#010#010#010#010#010#010#010#010#010#010#010#010#010#010#010#015311/313 [============================>.] - ETA: 0s - loss: 1.4834 - accuracy: 0.4604#010#010#010#010#010#010#010#010#010#010#010#010#010#010#010#010#010#010#010#010#010#010#010#010#010#010#010#010#010#010#010#010#010#010#010#010#010#010#010#010#010#010#010#010#010#010#010#010#010#010#010#010#010#010#010#010#010#010#010#010#010#010#010#010#010#010#010#010#010#010#010#010#010#010#010#010#010#010#010#010#010#010#010#010#015313/313 [==============================] - 5s 17ms/step - loss: 1.4829 - accuracy: 0.4605\u001b[0m\n",
      "\u001b[34mTest Accuracy: 0.46050000190734863\u001b[0m\n",
      "\u001b[34m2022-06-23 10:13:02,570 sagemaker-training-toolkit INFO     Reporting training SUCCESS\u001b[0m\n",
      "\n",
      "2022-06-23 10:13:21 Uploading - Uploading generated training model\n",
      "2022-06-23 10:13:21 Completed - Training job completed\n",
      "Training seconds: 188\n",
      "Billable seconds: 188\n"
     ]
    }
   ],
   "source": [
    "cnn_training_job_name = \"cnn-training-job-{}\".format(int(time.time()))\n",
    "print(cnn_training_job_name)\n",
    "model.fit(inputs, job_name=cnn_training_job_name,\n",
    "        experiment_config={\n",
    "            \"ExperimentName\": \"cifar-10-dataset-experiment\", \n",
    "            \"TrialName\": 'cnn-training-job-32-hidden-channels-1655871250',\n",
    "            \"TrialComponentDisplayName\": \"Training\",\n",
    "        })"
   ]
  },
  {
   "cell_type": "markdown",
   "metadata": {},
   "source": [
    "# Contents of the recorded experiment"
   ]
  },
  {
   "cell_type": "code",
   "execution_count": 6,
   "metadata": {
    "scrolled": true
   },
   "outputs": [
    {
     "data": {
      "text/html": [
       "<div>\n",
       "<style scoped>\n",
       "    .dataframe tbody tr th:only-of-type {\n",
       "        vertical-align: middle;\n",
       "    }\n",
       "\n",
       "    .dataframe tbody tr th {\n",
       "        vertical-align: top;\n",
       "    }\n",
       "\n",
       "    .dataframe thead th {\n",
       "        text-align: right;\n",
       "    }\n",
       "</style>\n",
       "<table border=\"1\" class=\"dataframe\">\n",
       "  <thead>\n",
       "    <tr style=\"text-align: right;\">\n",
       "      <th></th>\n",
       "      <th>TrialComponentName</th>\n",
       "      <th>DisplayName</th>\n",
       "      <th>SourceArn</th>\n",
       "      <th>SageMaker.ImageUri</th>\n",
       "      <th>SageMaker.InstanceCount</th>\n",
       "      <th>SageMaker.InstanceType</th>\n",
       "      <th>SageMaker.VolumeSizeInGB</th>\n",
       "      <th>epochs</th>\n",
       "      <th>model_dir</th>\n",
       "      <th>sagemaker_container_log_level</th>\n",
       "      <th>...</th>\n",
       "      <th>SageMaker.DebugHookOutput - MediaType</th>\n",
       "      <th>SageMaker.DebugHookOutput - Value</th>\n",
       "      <th>SageMaker.ModelArtifact - MediaType</th>\n",
       "      <th>SageMaker.ModelArtifact - Value</th>\n",
       "      <th>Trials</th>\n",
       "      <th>Experiments</th>\n",
       "      <th>normalization_mean</th>\n",
       "      <th>normalization_std</th>\n",
       "      <th>cifar-10-dataset-log - MediaType</th>\n",
       "      <th>cifar-10-dataset-log - Value</th>\n",
       "    </tr>\n",
       "  </thead>\n",
       "  <tbody>\n",
       "    <tr>\n",
       "      <th>0</th>\n",
       "      <td>cnn-training-job-1655879605-aws-training-job</td>\n",
       "      <td>Training</td>\n",
       "      <td>arn:aws:sagemaker:us-east-1:949263681218:train...</td>\n",
       "      <td>763104351884.dkr.ecr.us-east-1.amazonaws.com/t...</td>\n",
       "      <td>1.0</td>\n",
       "      <td>ml.m5.4xlarge</td>\n",
       "      <td>30.0</td>\n",
       "      <td>3.0</td>\n",
       "      <td>\"/opt/ml/model\"</td>\n",
       "      <td>20.0</td>\n",
       "      <td>...</td>\n",
       "      <td>NaN</td>\n",
       "      <td>s3://sagemaker-us-east-1-949263681218/cv-model...</td>\n",
       "      <td>NaN</td>\n",
       "      <td>s3://sagemaker-us-east-1-949263681218/cv-model...</td>\n",
       "      <td>[cnn-training-job-32-hidden-channels-1655871250]</td>\n",
       "      <td>[cifar-10-dataset-experiment]</td>\n",
       "      <td>NaN</td>\n",
       "      <td>NaN</td>\n",
       "      <td>NaN</td>\n",
       "      <td>NaN</td>\n",
       "    </tr>\n",
       "    <tr>\n",
       "      <th>1</th>\n",
       "      <td>TrialComponent-2022-06-22-041210-guap</td>\n",
       "      <td>Preprocessing</td>\n",
       "      <td>NaN</td>\n",
       "      <td>NaN</td>\n",
       "      <td>NaN</td>\n",
       "      <td>NaN</td>\n",
       "      <td>NaN</td>\n",
       "      <td>NaN</td>\n",
       "      <td>NaN</td>\n",
       "      <td>NaN</td>\n",
       "      <td>...</td>\n",
       "      <td>NaN</td>\n",
       "      <td>NaN</td>\n",
       "      <td>NaN</td>\n",
       "      <td>NaN</td>\n",
       "      <td>[cnn-training-job-10-hidden-channels-165587124...</td>\n",
       "      <td>[cifar-10-dataset-experiment, cifar-10-dataset...</td>\n",
       "      <td>0.1307</td>\n",
       "      <td>0.3081</td>\n",
       "      <td>s3/uri</td>\n",
       "      <td>random</td>\n",
       "    </tr>\n",
       "    <tr>\n",
       "      <th>2</th>\n",
       "      <td>cnn-training-job-1655871262-aws-training-job</td>\n",
       "      <td>Training</td>\n",
       "      <td>arn:aws:sagemaker:us-east-1:949263681218:train...</td>\n",
       "      <td>763104351884.dkr.ecr.us-east-1.amazonaws.com/t...</td>\n",
       "      <td>1.0</td>\n",
       "      <td>ml.m5.2xlarge</td>\n",
       "      <td>30.0</td>\n",
       "      <td>1.0</td>\n",
       "      <td>\"/opt/ml/model\"</td>\n",
       "      <td>20.0</td>\n",
       "      <td>...</td>\n",
       "      <td>NaN</td>\n",
       "      <td>s3://sagemaker-us-east-1-949263681218/cv-model...</td>\n",
       "      <td>NaN</td>\n",
       "      <td>s3://sagemaker-us-east-1-949263681218/cv-model...</td>\n",
       "      <td>[cnn-training-job-32-hidden-channels-1655871250]</td>\n",
       "      <td>[cifar-10-dataset-experiment]</td>\n",
       "      <td>NaN</td>\n",
       "      <td>NaN</td>\n",
       "      <td>NaN</td>\n",
       "      <td>NaN</td>\n",
       "    </tr>\n",
       "  </tbody>\n",
       "</table>\n",
       "<p>3 rows × 30 columns</p>\n",
       "</div>"
      ],
      "text/plain": [
       "                             TrialComponentName    DisplayName  \\\n",
       "0  cnn-training-job-1655879605-aws-training-job       Training   \n",
       "1         TrialComponent-2022-06-22-041210-guap  Preprocessing   \n",
       "2  cnn-training-job-1655871262-aws-training-job       Training   \n",
       "\n",
       "                                           SourceArn  \\\n",
       "0  arn:aws:sagemaker:us-east-1:949263681218:train...   \n",
       "1                                                NaN   \n",
       "2  arn:aws:sagemaker:us-east-1:949263681218:train...   \n",
       "\n",
       "                                  SageMaker.ImageUri  SageMaker.InstanceCount  \\\n",
       "0  763104351884.dkr.ecr.us-east-1.amazonaws.com/t...                      1.0   \n",
       "1                                                NaN                      NaN   \n",
       "2  763104351884.dkr.ecr.us-east-1.amazonaws.com/t...                      1.0   \n",
       "\n",
       "  SageMaker.InstanceType  SageMaker.VolumeSizeInGB  epochs        model_dir  \\\n",
       "0          ml.m5.4xlarge                      30.0     3.0  \"/opt/ml/model\"   \n",
       "1                    NaN                       NaN     NaN              NaN   \n",
       "2          ml.m5.2xlarge                      30.0     1.0  \"/opt/ml/model\"   \n",
       "\n",
       "   sagemaker_container_log_level  ... SageMaker.DebugHookOutput - MediaType  \\\n",
       "0                           20.0  ...                                   NaN   \n",
       "1                            NaN  ...                                   NaN   \n",
       "2                           20.0  ...                                   NaN   \n",
       "\n",
       "                   SageMaker.DebugHookOutput - Value  \\\n",
       "0  s3://sagemaker-us-east-1-949263681218/cv-model...   \n",
       "1                                                NaN   \n",
       "2  s3://sagemaker-us-east-1-949263681218/cv-model...   \n",
       "\n",
       "  SageMaker.ModelArtifact - MediaType  \\\n",
       "0                                 NaN   \n",
       "1                                 NaN   \n",
       "2                                 NaN   \n",
       "\n",
       "                     SageMaker.ModelArtifact - Value  \\\n",
       "0  s3://sagemaker-us-east-1-949263681218/cv-model...   \n",
       "1                                                NaN   \n",
       "2  s3://sagemaker-us-east-1-949263681218/cv-model...   \n",
       "\n",
       "                                              Trials  \\\n",
       "0   [cnn-training-job-32-hidden-channels-1655871250]   \n",
       "1  [cnn-training-job-10-hidden-channels-165587124...   \n",
       "2   [cnn-training-job-32-hidden-channels-1655871250]   \n",
       "\n",
       "                                         Experiments normalization_mean  \\\n",
       "0                      [cifar-10-dataset-experiment]                NaN   \n",
       "1  [cifar-10-dataset-experiment, cifar-10-dataset...             0.1307   \n",
       "2                      [cifar-10-dataset-experiment]                NaN   \n",
       "\n",
       "  normalization_std cifar-10-dataset-log - MediaType  \\\n",
       "0               NaN                              NaN   \n",
       "1            0.3081                           s3/uri   \n",
       "2               NaN                              NaN   \n",
       "\n",
       "  cifar-10-dataset-log - Value  \n",
       "0                          NaN  \n",
       "1                       random  \n",
       "2                          NaN  \n",
       "\n",
       "[3 rows x 30 columns]"
      ]
     },
     "execution_count": 6,
     "metadata": {},
     "output_type": "execute_result"
    }
   ],
   "source": [
    "trial_component_analytics = ExperimentAnalytics(\n",
    "    experiment_name='cifar-10-dataset-experiment',\n",
    "    sort_by=\"metrics.test:accuracy.max\",\n",
    "    sort_order=\"Descending\",\n",
    "    metric_names=['test:accuracy'],\n",
    "   # parameter_names=['hidden_channels', 'epochs', 'dropout', 'optimizer']\n",
    ")\n",
    "analytic_table = trial_component_analytics.dataframe()\n",
    "analytic_table.head()"
   ]
  },
  {
   "cell_type": "code",
   "execution_count": 4,
   "metadata": {},
   "outputs": [],
   "source": [
    "from sagemaker.analytics import TrainingJobAnalytics\n",
    "from sagemaker.analytics import ExperimentAnalytics"
   ]
  },
  {
   "cell_type": "code",
   "execution_count": 60,
   "metadata": {},
   "outputs": [],
   "source": [
    "analytics = TrainingJobAnalytics(training_job_name = 'cnn-training-job-1655871262', metric_names=['test:accuracy'])"
   ]
  },
  {
   "cell_type": "code",
   "execution_count": 75,
   "metadata": {},
   "outputs": [
    {
     "data": {
      "text/plain": [
       "{'_sage_client': <botocore.client.SageMaker at 0x7f6cb0c3f8d0>,\n",
       " '_cloudwatch': <botocore.client.CloudWatch at 0x7f6cb13a02e8>,\n",
       " '_training_job_name': 'cnn-training-job-1655871262',\n",
       " '_start_time': None,\n",
       " '_end_time': None,\n",
       " '_period': 60,\n",
       " '_metric_names': ['test:accuracy'],\n",
       " '_dataframe': None,\n",
       " '_data': defaultdict(list, {}),\n",
       " '_time_interval': {'start_time': datetime.datetime(2022, 6, 22, 4, 15, 56, 247000, tzinfo=tzlocal()),\n",
       "  'end_time': datetime.datetime(2022, 6, 22, 4, 20, 6, 584000, tzinfo=tzlocal())}}"
      ]
     },
     "execution_count": 75,
     "metadata": {},
     "output_type": "execute_result"
    }
   ],
   "source": [
    "analytics.__dict__ #['_cloudwatch'].list_metrics()"
   ]
  },
  {
   "cell_type": "markdown",
   "metadata": {},
   "source": [
    "# Experiment Cleanup"
   ]
  },
  {
   "cell_type": "code",
   "execution_count": 94,
   "metadata": {},
   "outputs": [],
   "source": [
    "# def cleanup_sme_sdk(experiment):\n",
    "#     for trial_summary in experiment.list_trials():\n",
    "#         trial = Trial.load(trial_name=trial_summary.trial_name)\n",
    "#         for trial_component_summary in trial.list_trial_components():\n",
    "#             tc = TrialComponent.load(\n",
    "#                 trial_component_name=trial_component_summary.trial_component_name)\n",
    "#             trial.remove_trial_component(tc)\n",
    "#             try:\n",
    "#                 # comment out to keep trial components\n",
    "#                 tc.delete()\n",
    "#             except:\n",
    "#                 # tc is associated with another trial\n",
    "#                 continue\n",
    "#             # to prevent throttling\n",
    "#             time.sleep(.5)\n",
    "#         trial.delete()\n",
    "#         experiment_name = experiment.experiment_name\n",
    "#     experiment.delete()\n",
    "#     print(f\"\\nExperiment {experiment_name} deleted\")"
   ]
  },
  {
   "cell_type": "code",
   "execution_count": null,
   "metadata": {},
   "outputs": [],
   "source": [
    "# cleanup_sme_sdk('cifar-10-dataset-experiment')"
   ]
  },
  {
   "cell_type": "markdown",
   "metadata": {},
   "source": [
    "# LOAD TRAINED MODEL"
   ]
  },
  {
   "cell_type": "code",
   "execution_count": 16,
   "metadata": {},
   "outputs": [],
   "source": [
    "model_path = f's3://{BUCKET}/cv-models/cifar_10/out/cnn-training-job-1655978931/output/model.tar.gz'\n",
    "from sagemaker.tensorflow.model import TensorFlowModel\n",
    "\n",
    "model = TensorFlowModel(model_data=model_path, role=role, framework_version=\"2.3.0\")"
   ]
  },
  {
   "cell_type": "markdown",
   "metadata": {},
   "source": [
    "# Deploy"
   ]
  },
  {
   "cell_type": "code",
   "execution_count": 17,
   "metadata": {},
   "outputs": [],
   "source": [
    "from sagemaker.model_monitor import DataCaptureConfig\n",
    "\n",
    "data_capture_prefix = \"{}/monitoring/datacapture/\".format(MONITORING_FOLDER)\n",
    "s3_capture_upload_path = \"s3://{}/{}\".format(BUCKET, data_capture_prefix)\n",
    "\n",
    "data_capture_configuration=DataCaptureConfig(\n",
    "        enable_capture=True, sampling_percentage=100, destination_s3_uri=s3_capture_upload_path\n",
    "    )"
   ]
  },
  {
   "cell_type": "code",
   "execution_count": 18,
   "metadata": {},
   "outputs": [
    {
     "name": "stderr",
     "output_type": "stream",
     "text": [
      "update_endpoint is a no-op in sagemaker>=2.\n",
      "See: https://sagemaker.readthedocs.io/en/stable/v2.html for details.\n"
     ]
    },
    {
     "name": "stdout",
     "output_type": "stream",
     "text": [
      "-------------!\n",
      "Successfully deployed at tensorflow-cv-1656064111...\n"
     ]
    }
   ],
   "source": [
    "endpoint_name=f'tensorflow-cv-{int(time.time())}'\n",
    "predictor = model.deploy(initial_instance_count=1,\n",
    "                       instance_type='ml.m5.xlarge',\n",
    "                       endpoint_name=endpoint_name,\n",
    " data_capture_config = data_capture_configuration)\n",
    "print(f\"\\nSuccessfully deployed at {endpoint_name}...\")"
   ]
  },
  {
   "cell_type": "code",
   "execution_count": 19,
   "metadata": {},
   "outputs": [
    {
     "data": {
      "text/plain": [
       "{'EndpointName': 'tensorflow-cv-1656064111',\n",
       " 'EndpointArn': 'arn:aws:sagemaker:us-east-1:949263681218:endpoint/tensorflow-cv-1656064111',\n",
       " 'EndpointConfigName': 'tensorflow-cv-1656064111',\n",
       " 'ProductionVariants': [{'VariantName': 'AllTraffic',\n",
       "   'DeployedImages': [{'SpecifiedImage': '763104351884.dkr.ecr.us-east-1.amazonaws.com/tensorflow-inference:2.3.0-cpu',\n",
       "     'ResolvedImage': '763104351884.dkr.ecr.us-east-1.amazonaws.com/tensorflow-inference@sha256:91ebb7428846c5f7b515d5d9b8389a14c73d0c5d02657f4a6413592124333278',\n",
       "     'ResolutionTime': datetime.datetime(2022, 6, 24, 9, 48, 35, 301000, tzinfo=tzlocal())}],\n",
       "   'CurrentWeight': 1.0,\n",
       "   'DesiredWeight': 1.0,\n",
       "   'CurrentInstanceCount': 1,\n",
       "   'DesiredInstanceCount': 1}],\n",
       " 'DataCaptureConfig': {'EnableCapture': True,\n",
       "  'CaptureStatus': 'Started',\n",
       "  'CurrentSamplingPercentage': 100,\n",
       "  'DestinationS3Uri': 's3://sagemaker-us-east-1-949263681218/DEMO-tf2-ModelMonitor/monitoring/datacapture/'},\n",
       " 'EndpointStatus': 'InService',\n",
       " 'CreationTime': datetime.datetime(2022, 6, 24, 9, 48, 32, 214000, tzinfo=tzlocal()),\n",
       " 'LastModifiedTime': datetime.datetime(2022, 6, 24, 9, 54, 52, 870000, tzinfo=tzlocal()),\n",
       " 'ResponseMetadata': {'RequestId': 'a14a251e-2f9c-4863-afd9-35927a37a892',\n",
       "  'HTTPStatusCode': 200,\n",
       "  'HTTPHeaders': {'x-amzn-requestid': 'a14a251e-2f9c-4863-afd9-35927a37a892',\n",
       "   'content-type': 'application/x-amz-json-1.1',\n",
       "   'content-length': '932',\n",
       "   'date': 'Fri, 24 Jun 2022 09:55:11 GMT'},\n",
       "  'RetryAttempts': 0}}"
      ]
     },
     "execution_count": 19,
     "metadata": {},
     "output_type": "execute_result"
    }
   ],
   "source": [
    "import boto3\n",
    "sm.describe_endpoint(EndpointName = endpoint_name)"
   ]
  },
  {
   "cell_type": "markdown",
   "metadata": {},
   "source": [
    "# Invoking the Deployed Model"
   ]
  },
  {
   "cell_type": "code",
   "execution_count": 20,
   "metadata": {},
   "outputs": [],
   "source": [
    "%matplotlib inline\n",
    "from tensorflow.keras.preprocessing.image import img_to_array\n",
    "from tensorflow.keras.preprocessing.image import load_img\n",
    "from tensorflow.keras.preprocessing import image\n",
    "from IPython.display import Image\n",
    "import matplotlib.image as mpimg \n",
    "import matplotlib.pyplot as plt\n",
    "import numpy as np\n",
    "CIFAR10_LABELS = ['airplane', 'automobile', 'bird', 'cat', 'deer', 'dog', 'frog', 'horse', 'ship', 'truck']"
   ]
  },
  {
   "cell_type": "code",
   "execution_count": 21,
   "metadata": {},
   "outputs": [],
   "source": [
    "from sagemaker.tensorflow.model import TensorFlowPredictor\n",
    "predictor = TensorFlowPredictor(endpoint_name = endpoint_name)"
   ]
  },
  {
   "cell_type": "code",
   "execution_count": 22,
   "metadata": {},
   "outputs": [],
   "source": [
    "img = load_img('./data/cifar_10/raw_images/jeep.png', target_size=(32, 32))\n",
    "data = img_to_array(img)\n",
    "data = data.astype('float32')\n",
    "data = data / 255.0\n",
    "data = data.reshape(1, 32, 32, 3)\n"
   ]
  },
  {
   "cell_type": "code",
   "execution_count": 23,
   "metadata": {},
   "outputs": [
    {
     "name": "stdout",
     "output_type": "stream",
     "text": [
      "(1, 32, 32, 3)\n"
     ]
    }
   ],
   "source": [
    "print(data.shape)"
   ]
  },
  {
   "cell_type": "code",
   "execution_count": 24,
   "metadata": {},
   "outputs": [],
   "source": [
    "payload = {'instances': data}"
   ]
  },
  {
   "cell_type": "code",
   "execution_count": 25,
   "metadata": {},
   "outputs": [
    {
     "name": "stdout",
     "output_type": "stream",
     "text": [
      "Predicted Label: [truck]\n"
     ]
    }
   ],
   "source": [
    "resp = predictor.predict(payload)\n",
    "predicted_label = CIFAR10_LABELS[np.argmax(resp['predictions'])]\n",
    "print(f'Predicted Label: [{predicted_label}]')"
   ]
  },
  {
   "cell_type": "code",
   "execution_count": 27,
   "metadata": {},
   "outputs": [
    {
     "name": "stdout",
     "output_type": "stream",
     "text": [
      "metadata\n"
     ]
    }
   ],
   "source": [
    "!ls /opt/ml"
   ]
  },
  {
   "cell_type": "markdown",
   "metadata": {},
   "source": [
    "# Sending Test Traffic"
   ]
  },
  {
   "cell_type": "code",
   "execution_count": 28,
   "metadata": {},
   "outputs": [
    {
     "name": "stdout",
     "output_type": "stream",
     "text": [
      "Sending test traffic to the endpoint tensorflow-cv-1656064111. \n",
      "Please wait...\n",
      "Done!\n",
      "predictions: \t['dog' 'ship' 'ship' 'ship' 'frog' 'frog' 'truck' 'frog' 'dog'\n",
      " 'automobile' 'dog' 'truck' 'dog' 'dog' 'truck' 'ship' 'dog' 'horse'\n",
      " 'ship' 'frog' 'horse' 'airplane' 'bird' 'automobile' 'horse' 'horse'\n",
      " 'dog' 'horse' 'truck' 'frog' 'cat' 'horse' 'deer' 'dog' 'truck' 'dog'\n",
      " 'horse' 'automobile' 'automobile' 'dog' 'truck' 'frog' 'cat' 'dog'\n",
      " 'truck' 'truck' 'cat' 'truck' 'deer' 'bird' 'truck' 'ship' 'dog' 'cat'\n",
      " 'ship' 'ship' 'dog' 'cat' 'bird' 'dog' 'horse' 'dog' 'automobile' 'truck'\n",
      " 'frog' 'frog' 'automobile' 'airplane' 'cat' 'horse' 'bird' 'horse' 'ship'\n",
      " 'ship' 'truck' 'bird' 'truck' 'dog' 'dog' 'truck' 'ship' 'automobile'\n",
      " 'automobile' 'horse' 'bird' 'bird' 'bird' 'ship' 'truck' 'automobile'\n",
      " 'ship' 'dog' 'ship' 'frog' 'deer' 'horse' 'frog' 'bird' 'horse' 'horse'\n",
      " 'horse' 'horse' 'dog' 'cat' 'automobile' 'automobile' 'dog' 'frog' 'dog'\n",
      " 'dog' 'horse' 'airplane' 'bird' 'bird' 'automobile' 'horse' 'airplane'\n",
      " 'horse' 'cat' 'dog' 'ship' 'dog' 'truck' 'deer' 'airplane' 'frog'\n",
      " 'airplane' 'dog' 'horse' 'cat' 'deer' 'truck' 'ship' 'truck' 'horse'\n",
      " 'dog' 'truck' 'horse' 'bird' 'ship' 'horse' 'dog' 'cat' 'dog' 'ship'\n",
      " 'horse' 'dog' 'dog' 'dog' 'dog' 'automobile' 'truck' 'truck' 'horse'\n",
      " 'bird' 'dog' 'bird' 'truck' 'dog' 'horse' 'bird' 'automobile' 'cat'\n",
      " 'frog' 'ship' 'horse' 'ship' 'dog' 'horse' 'airplane' 'truck'\n",
      " 'automobile' 'frog' 'ship' 'truck' 'truck' 'dog' 'horse' 'cat' 'truck'\n",
      " 'truck' 'horse' 'horse' 'cat' 'horse' 'ship' 'dog' 'cat' 'dog' 'airplane'\n",
      " 'horse' 'dog' 'automobile' 'automobile' 'horse' 'dog' 'horse' 'bird'\n",
      " 'dog' 'dog']\n",
      "CPU times: user 1.19 s, sys: 48.1 ms, total: 1.24 s\n",
      "Wall time: 1min 44s\n"
     ]
    }
   ],
   "source": [
    "%%time\n",
    "\n",
    "import time\n",
    "print(\"Sending test traffic to the endpoint {}. \\nPlease wait...\".format(endpoint_name))\n",
    "\n",
    "flat_list = []\n",
    "for i in range(200):\n",
    "    data = np.array([X_test[i]])\n",
    "    payload = {'instances': data}\n",
    "    resp = predictor.predict(payload)\n",
    "    predicted_label = CIFAR10_LABELS[np.argmax(resp['predictions'])]\n",
    "    flat_list.append(predicted_label)\n",
    "    time.sleep(0.5)\n",
    "\n",
    "print(\"Done!\")\n",
    "print(\"predictions: \\t{}\".format(np.array(flat_list)))"
   ]
  },
  {
   "cell_type": "code",
   "execution_count": 38,
   "metadata": {},
   "outputs": [
    {
     "name": "stdout",
     "output_type": "stream",
     "text": [
      "Found Capture Files:\n",
      "DEMO-tf2-ModelMonitor/monitoring/datacapture/\n",
      "sagemaker-us-east-1-949263681218\n"
     ]
    }
   ],
   "source": [
    "s3_client = boto3.Session().client(\"s3\")\n",
    "result = s3_client.list_objects(Bucket=BUCKET, Prefix=data_capture_prefix)\n",
    "capture_files = [capture_file.get(\"Key\") for capture_file in result.get(\"Contents\")]\n",
    "print(\"Found Capture Files:\")\n",
    "print(\"\\n \".join(capture_files))\n",
    "print(BUCKET)"
   ]
  },
  {
   "cell_type": "markdown",
   "metadata": {},
   "source": [
    "# Prepare baseline Dataset"
   ]
  },
  {
   "cell_type": "code",
   "execution_count": 22,
   "metadata": {},
   "outputs": [],
   "source": [
    "validate_dataset = \"validation_with_predictions.csv\""
   ]
  },
  {
   "cell_type": "code",
   "execution_count": null,
   "metadata": {},
   "outputs": [],
   "source": [
    "# X_train, y_train\n",
    "# ['airplane', 'automobile', 'bird', 'cat', 'deer', 'dog', 'frog', 'horse', 'ship', 'truck']"
   ]
  },
  {
   "cell_type": "code",
   "execution_count": null,
   "metadata": {},
   "outputs": [],
   "source": [
    "data = np.array([X_test[i]])\n",
    "    payload = {'instances': data}\n",
    "    resp = predictor.predict(payload)\n",
    "    predicted_label = CIFAR10_LABELS[np.argmax(resp['predictions'])]"
   ]
  },
  {
   "cell_type": "code",
   "execution_count": 27,
   "metadata": {},
   "outputs": [
    {
     "name": "stdout",
     "output_type": "stream",
     "text": [
      "Done!\n"
     ]
    }
   ],
   "source": [
    "i = 0\n",
    "with open(f\"{validate_dataset}\", \"w\") as baseline_file:\n",
    "    baseline_file.write(\"probability,prediction,label\\n\")  # our header\n",
    "    for i in range(1000):\n",
    "        data = np.array([X_train[i]])\n",
    "        payload = {'instances': data}\n",
    "        resp = predictor.predict(payload)\n",
    "        probability = max(resp['predictions'][0])\n",
    "        prediction = np.argmax(resp['predictions'])\n",
    "        label = y_train[i][0]\n",
    "        \n",
    "        baseline_file.write(f\"{probability},{prediction},{label}\\n\")\n",
    "print(\"Done!\")"
   ]
  },
  {
   "cell_type": "code",
   "execution_count": 28,
   "metadata": {},
   "outputs": [
    {
     "name": "stdout",
     "output_type": "stream",
     "text": [
      "upload: ./validation_with_predictions.csv to s3://sagemaker-us-east-1-949263681218/DEMO-tf2-ModelMonitor/monitoring/baseline/validation_with_predictions.csv\n"
     ]
    }
   ],
   "source": [
    "!aws s3 cp ./validation_with_predictions.csv s3://{BUCKET}/DEMO-tf2-ModelMonitor/monitoring/baseline/"
   ]
  },
  {
   "cell_type": "markdown",
   "metadata": {},
   "source": [
    "# MODEL MONITORING"
   ]
  },
  {
   "cell_type": "code",
   "execution_count": 29,
   "metadata": {},
   "outputs": [],
   "source": [
    "from sagemaker.model_monitor import DefaultModelMonitor\n",
    "from sagemaker.model_monitor.dataset_format import DatasetFormat"
   ]
  },
  {
   "cell_type": "code",
   "execution_count": 30,
   "metadata": {},
   "outputs": [],
   "source": [
    "my_default_monitor = DefaultModelMonitor(\n",
    "    role=role,\n",
    "    instance_count=1,\n",
    "    instance_type='ml.m5.xlarge',\n",
    "    volume_size_in_gb=20,\n",
    "    max_runtime_in_seconds=3600,\n",
    ")"
   ]
  },
  {
   "cell_type": "code",
   "execution_count": 33,
   "metadata": {
    "collapsed": true,
    "jupyter": {
     "outputs_hidden": true
    }
   },
   "outputs": [
    {
     "name": "stdout",
     "output_type": "stream",
     "text": [
      "\n",
      "Job Name:  test-baseline-job\n",
      "Inputs:  [{'InputName': 'baseline_dataset_input', 'AppManaged': False, 'S3Input': {'S3Uri': 's3://sagemaker-us-east-1-949263681218/DEMO-tf2-ModelMonitor/monitoring/baseline/', 'LocalPath': '/opt/ml/processing/input/baseline_dataset_input', 'S3DataType': 'S3Prefix', 'S3InputMode': 'File', 'S3DataDistributionType': 'FullyReplicated', 'S3CompressionType': 'None'}}]\n",
      "Outputs:  [{'OutputName': 'monitoring_output', 'AppManaged': False, 'S3Output': {'S3Uri': 's3://sagemaker-us-east-1-949263681218/DEMO-tf2-ModelMonitor/monitoring/baseline/output', 'LocalPath': '/opt/ml/processing/output', 'S3UploadMode': 'EndOfJob'}}]\n",
      "..........................\u001b[34m2022-06-24 04:20:21,447 - matplotlib.font_manager - INFO - Generating new fontManager, this may take some time...\u001b[0m\n",
      "\u001b[34m2022-06-24 04:20:21.983797: W tensorflow/stream_executor/platform/default/dso_loader.cc:64] Could not load dynamic library 'libcudart.so.11.0'; dlerror: libcudart.so.11.0: cannot open shared object file: No such file or directory\u001b[0m\n",
      "\u001b[34m2022-06-24 04:20:21.983825: I tensorflow/stream_executor/cuda/cudart_stub.cc:29] Ignore above cudart dlerror if you do not have a GPU set up on your machine.\u001b[0m\n",
      "\u001b[34m2022-06-24 04:20:23.572029: W tensorflow/stream_executor/platform/default/dso_loader.cc:64] Could not load dynamic library 'libcuda.so.1'; dlerror: libcuda.so.1: cannot open shared object file: No such file or directory\u001b[0m\n",
      "\u001b[34m2022-06-24 04:20:23.572058: W tensorflow/stream_executor/cuda/cuda_driver.cc:269] failed call to cuInit: UNKNOWN ERROR (303)\u001b[0m\n",
      "\u001b[34m2022-06-24 04:20:23.572080: I tensorflow/stream_executor/cuda/cuda_diagnostics.cc:156] kernel driver does not appear to be running on this host (ip-10-2-89-123.ec2.internal): /proc/driver/nvidia/version does not exist\u001b[0m\n",
      "\u001b[34m2022-06-24 04:20:23.572342: I tensorflow/core/platform/cpu_feature_guard.cc:142] This TensorFlow binary is optimized with oneAPI Deep Neural Network Library (oneDNN) to use the following CPU instructions in performance-critical operations:  AVX2 AVX512F FMA\u001b[0m\n",
      "\u001b[34mTo enable them in other operations, rebuild TensorFlow with the appropriate compiler flags.\u001b[0m\n",
      "\u001b[34m2022-06-24 04:20:25,168 - __main__ - INFO - All params:{'ProcessingJobArn': 'arn:aws:sagemaker:us-east-1:949263681218:processing-job/test-baseline-job', 'ProcessingJobName': 'test-baseline-job', 'Environment': {'dataset_format': '{\"csv\": {\"header\": true, \"output_columns_position\": \"START\"}}', 'dataset_source': '/opt/ml/processing/input/baseline_dataset_input', 'output_path': '/opt/ml/processing/output', 'publish_cloudwatch_metrics': 'Disabled'}, 'AppSpecification': {'ImageUri': '156813124566.dkr.ecr.us-east-1.amazonaws.com/sagemaker-model-monitor-analyzer', 'ContainerEntrypoint': None, 'ContainerArguments': None}, 'ProcessingInputs': [{'InputName': 'baseline_dataset_input', 'AppManaged': False, 'S3Input': {'LocalPath': '/opt/ml/processing/input/baseline_dataset_input', 'S3Uri': 's3://sagemaker-us-east-1-949263681218/DEMO-tf2-ModelMonitor/monitoring/baseline/', 'S3DataDistributionType': 'FullyReplicated', 'S3DataType': 'S3Prefix', 'S3InputMode': 'File', 'S3CompressionType': 'None', 'S3DownloadMode': 'StartOfJob'}, 'DatasetDefinition': None}], 'ProcessingOutputConfig': {'Outputs': [{'OutputName': 'monitoring_output', 'AppManaged': False, 'S3Output': {'LocalPath': '/opt/ml/processing/output', 'S3Uri': 's3://sagemaker-us-east-1-949263681218/DEMO-tf2-ModelMonitor/monitoring/baseline/output', 'S3UploadMode': 'EndOfJob'}, 'FeatureStoreOutput': None}], 'KmsKeyId': None}, 'ProcessingResources': {'ClusterConfig': {'InstanceCount': 1, 'InstanceType': 'ml.m5.xlarge', 'VolumeSizeInGB': 20, 'VolumeKmsKeyId': None}}, 'RoleArn': 'arn:aws:iam::949263681218:role/service-role/AmazonSageMaker-ExecutionRole-20220609T100106', 'StoppingCondition': {'MaxRuntimeInSeconds': 3600}}\u001b[0m\n",
      "\u001b[34m2022-06-24 04:20:25,168 - __main__ - INFO - Current Environment:{'dataset_format': '{\"csv\": {\"header\": true, \"output_columns_position\": \"START\"}}', 'dataset_source': '/opt/ml/processing/input/baseline_dataset_input', 'output_path': '/opt/ml/processing/output', 'publish_cloudwatch_metrics': 'Disabled'}\u001b[0m\n",
      "\u001b[34m2022-06-24 04:20:25,169 - DefaultDataAnalyzer - INFO - Performing analysis with input: {\"dataset_source\": \"/opt/ml/processing/input/baseline_dataset_input\", \"dataset_format\": {\"csv\": {\"header\": true, \"output_columns_position\": \"START\"}}, \"output_path\": \"/opt/ml/processing/output\", \"analysis_type\": null, \"problem_type\": null, \"inference_attribute\": null, \"probability_attribute\": null, \"ground_truth_attribute\": null, \"probability_threshold_attribute\": null, \"positive_label\": null, \"record_preprocessor_script\": null, \"post_analytics_processor_script\": null, \"baseline_constraints\": null, \"baseline_statistics\": null, \"start_time\": null, \"end_time\": null, \"metric_time\": null, \"cloudwatch_metrics_directory\": \"/opt/ml/output/metrics/cloudwatch\", \"publish_cloudwatch_metrics\": \"Disabled\", \"sagemaker_endpoint_name\": null, \"sagemaker_monitoring_schedule_name\": null, \"output_message_file\": \"/opt/ml/output/message\", \"detect_outliers\": null, \"detect_drift\": null, \"image_data\": null, \"report_enabled\": false, \"auto_ml_job_detail\": null}\u001b[0m\n",
      "\u001b[34m2022-06-24 04:20:25,169 - DefaultDataAnalyzer - INFO - Bootstrapping yarn\u001b[0m\n",
      "\u001b[34m2022-06-24 04:20:25,169 - bootstrap - INFO - Copy aws jars\u001b[0m\n",
      "\u001b[34m2022-06-24 04:20:25,226 - bootstrap - INFO - Copy cluster config\u001b[0m\n",
      "\u001b[34m2022-06-24 04:20:25,227 - bootstrap - INFO - Write runtime cluster config\u001b[0m\n",
      "\u001b[34m2022-06-24 04:20:25,227 - bootstrap - INFO - Resource Config is: {'current_host': 'algo-1', 'hosts': ['algo-1']}\u001b[0m\n",
      "\u001b[34m2022-06-24 04:20:25,238 - bootstrap - INFO - Finished Yarn configuration files setup.\u001b[0m\n",
      "\u001b[34m2022-06-24 04:20:25,238 - bootstrap - INFO - Starting spark process for master node algo-1\u001b[0m\n",
      "\u001b[34m2022-06-24 04:20:25,238 - bootstrap - INFO - Running command: /usr/hadoop-3.0.0/bin/hdfs namenode -format -force\u001b[0m\n",
      "\u001b[34mWARNING: /usr/hadoop-3.0.0/logs does not exist. Creating.\u001b[0m\n",
      "\u001b[34m2022-06-24 04:20:25,702 INFO namenode.NameNode: STARTUP_MSG: \u001b[0m\n",
      "\u001b[34m/************************************************************\u001b[0m\n",
      "\u001b[34mSTARTUP_MSG: Starting NameNode\u001b[0m\n",
      "\u001b[34mSTARTUP_MSG:   host = algo-1/10.2.89.123\u001b[0m\n",
      "\u001b[34mSTARTUP_MSG:   args = [-format, -force]\u001b[0m\n",
      "\u001b[34mSTARTUP_MSG:   version = 3.0.0\u001b[0m\n",
      "\u001b[34mSTARTUP_MSG:   classpath = /usr/hadoop-3.0.0/etc/hadoop:/usr/hadoop-3.0.0/share/hadoop/common/lib/jul-to-slf4j-1.7.25.jar:/usr/hadoop-3.0.0/share/hadoop/common/lib/jersey-core-1.19.jar:/usr/hadoop-3.0.0/share/hadoop/common/lib/jersey-server-1.19.jar:/usr/hadoop-3.0.0/share/hadoop/common/lib/jetty-servlet-9.3.19.v20170502.jar:/usr/hadoop-3.0.0/share/hadoop/common/lib/jsr311-api-1.1.1.jar:/usr/hadoop-3.0.0/share/hadoop/common/lib/woodstox-core-5.0.3.jar:/usr/hadoop-3.0.0/share/hadoop/common/lib/commons-configuration2-2.1.1.jar:/usr/hadoop-3.0.0/share/hadoop/common/lib/jackson-mapper-asl-1.9.13.jar:/usr/hadoop-3.0.0/share/hadoop/common/lib/slf4j-log4j12-1.7.25.jar:/usr/hadoop-3.0.0/share/hadoop/common/lib/jersey-servlet-1.19.jar:/usr/hadoop-3.0.0/share/hadoop/common/lib/commons-math3-3.1.1.jar:/usr/hadoop-3.0.0/share/hadoop/common/lib/commons-lang3-3.4.jar:/usr/hadoop-3.0.0/share/hadoop/common/lib/curator-framework-2.12.0.jar:/usr/hadoop-3.0.0/share/hadoop/common/lib/kerby-util-1.0.1.jar:/usr/hadoop-3.0.0/share/hadoop/common/lib/kerby-asn1-1.0.1.jar:/usr/hadoop-3.0.0/share/hadoop/common/lib/commons-lang-2.6.jar:/usr/hadoop-3.0.0/share/hadoop/common/lib/guava-11.0.2.jar:/usr/hadoop-3.0.0/share/hadoop/common/lib/curator-client-2.12.0.jar:/usr/hadoop-3.0.0/share/hadoop/common/lib/jetty-xml-9.3.19.v20170502.jar:/usr/hadoop-3.0.0/share/hadoop/common/lib/jetty-server-9.3.19.v20170502.jar:/usr/hadoop-3.0.0/share/hadoop/common/lib/htrace-core4-4.1.0-incubating.jar:/usr/hadoop-3.0.0/share/hadoop/common/lib/jackson-core-asl-1.9.13.jar:/usr/hadoop-3.0.0/share/hadoop/common/lib/asm-5.0.4.jar:/usr/hadoop-3.0.0/share/hadoop/common/lib/kerb-server-1.0.1.jar:/usr/hadoop-3.0.0/share/hadoop/common/lib/jetty-webapp-9.3.19.v20170502.jar:/usr/hadoop-3.0.0/share/hadoop/common/lib/kerb-common-1.0.1.jar:/usr/hadoop-3.0.0/share/hadoop/common/lib/commons-io-2.4.jar:/usr/hadoop-3.0.0/share/hadoop/common/lib/jsch-0.1.54.jar:/usr/hadoop-3.0.0/share/hadoop/common/lib/kerb-client-1.0.1.jar:/usr/hadoop-3.0.0/share/hadoop/common/lib/hadoop-auth-3.0.0.jar:/usr/hadoop-3.0.0/share/hadoop/common/lib/nimbus-jose-jwt-4.41.1.jar:/usr/hadoop-3.0.0/share/hadoop/common/lib/kerby-config-1.0.1.jar:/usr/hadoop-3.0.0/share/hadoop/common/lib/jetty-security-9.3.19.v20170502.jar:/usr/hadoop-3.0.0/share/hadoop/common/lib/jaxb-impl-2.2.3-1.jar:/usr/hadoop-3.0.0/share/hadoop/common/lib/kerby-xdr-1.0.1.jar:/usr/hadoop-3.0.0/share/hadoop/common/lib/kerb-crypto-1.0.1.jar:/usr/hadoop-3.0.0/share/hadoop/common/lib/log4j-1.2.17.jar:/usr/hadoop-3.0.0/share/hadoop/common/lib/hadoop-annotations-3.0.0.jar:/usr/hadoop-3.0.0/share/hadoop/common/lib/httpclient-4.5.2.jar:/usr/hadoop-3.0.0/share/hadoop/common/lib/jackson-databind-2.7.8.jar:/usr/hadoop-3.0.0/share/hadoop/common/lib/jackson-jaxrs-1.9.13.jar:/usr/hadoop-3.0.0/share/hadoop/common/lib/junit-4.11.jar:/usr/hadoop-3.0.0/share/hadoop/common/lib/kerb-identity-1.0.1.jar:/usr/hadoop-3.0.0/share/hadoop/common/lib/commons-beanutils-1.9.3.jar:/usr/hadoop-3.0.0/share/hadoop/common/lib/slf4j-api-1.7.25.jar:/usr/hadoop-3.0.0/share/hadoop/common/lib/jsp-api-2.1.jar:/usr/hadoop-3.0.0/share/hadoop/common/lib/httpcore-4.4.4.jar:/usr/hadoop-3.0.0/share/hadoop/common/lib/kerb-simplekdc-1.0.1.jar:/usr/hadoop-3.0.0/share/hadoop/common/lib/netty-3.10.5.Final.jar:/usr/hadoop-3.0.0/share/hadoop/common/lib/jackson-core-2.7.8.jar:/usr/hadoop-3.0.0/share/hadoop/common/lib/jetty-http-9.3.19.v20170502.jar:/usr/hadoop-3.0.0/share/hadoop/common/lib/curator-recipes-2.12.0.jar:/usr/hadoop-3.0.0/share/hadoop/common/lib/json-smart-2.3.jar:/usr/hadoop-3.0.0/share/hadoop/common/lib/gson-2.2.4.jar:/usr/hadoop-3.0.0/share/hadoop/common/lib/jetty-io-9.3.19.v20170502.jar:/usr/hadoop-3.0.0/share/hadoop/common/lib/jackson-xc-1.9.13.jar:/usr/hadoop-3.0.0/share/hadoop/common/lib/stax2-api-3.1.4.jar:/usr/hadoop-3.0.0/share/hadoop/common/lib/jetty-util-9.3.19.v20170502.jar:/usr/hadoop-3.0.0/share/hadoop/common/lib/javax.servlet-api-3.1.0.jar:/usr/hadoop-3.0.0/share/hadoop/common/lib/kerb-core-1.0.1.jar:/usr/hadoop-3.0.0/share/hadoop/common/lib/metrics-core-3.0.1.jar:/usr/hadoop-3.0.0/share/hadoop/common/lib/re2j-1.1.jar:/usr/hadoop-3.0.0/share/hadoop/common/lib/avro-1.7.7.jar:/usr/hadoop-3.0.0/share/hadoop/common/lib/jettison-1.1.jar:/usr/hadoop-3.0.0/share/hadoop/common/lib/jackson-annotations-2.7.8.jar:/usr/hadoop-3.0.0/share/hadoop/common/lib/jersey-json-1.19.jar:/usr/hadoop-3.0.0/share/hadoop/common/lib/kerb-util-1.0.1.jar:/usr/hadoop-3.0.0/share/hadoop/common/lib/kerb-admin-1.0.1.jar:/usr/hadoop-3.0.0/share/hadoop/common/lib/zookeeper-3.4.9.jar:/usr/hadoop-3.0.0/share/hadoop/common/lib/snappy-java-1.0.5.jar:/usr/hadoop-3.0.0/share/hadoop/common/lib/commons-compress-1.4.1.jar:/usr/hadoop-3.0.0/share/hadoop/common/lib/commons-logging-1.1.3.jar:/usr/hadoop-3.0.0/share/hadoop/common/lib/commons-collections-3.2.2.jar:/usr/hadoop-3.0.0/share/hadoop/common/lib/hamcrest-core-1.3.jar:/usr/hadoop-3.0.0/share/hadoop/common/lib/commons-cli-1.2.jar:/usr/hadoop-3.0.0/share/hadoop/common/lib/protobuf-java-2.5.0.jar:/usr/hadoop-3.0.0/share/hadoop/common/lib/token-provider-1.0.1.jar:/usr/hadoop-3.0.0/share/hadoop/common/lib/commons-net-3.1.jar:/usr/hadoop-3.0.0/share/hadoop/common/lib/commons-codec-1.4.jar:/usr/hadoop-3.0.0/share/hadoop/common/lib/xz-1.0.jar:/usr/hadoop-3.0.0/share/hadoop/common/lib/jcip-annotations-1.0-1.jar:/usr/hadoop-3.0.0/share/hadoop/common/lib/kerby-pkix-1.0.1.jar:/usr/hadoop-3.0.0/share/hadoop/common/lib/paranamer-2.3.jar:/usr/hadoop-3.0.0/share/hadoop/common/lib/accessors-smart-1.2.jar:/usr/hadoop-3.0.0/share/hadoop/common/lib/jaxb-api-2.2.11.jar:/usr/hadoop-3.0.0/share/hadoop/common/lib/jsr305-3.0.0.jar:/usr/hadoop-3.0.0/share/hadoop/common/lib/mockito-all-1.8.5.jar:/usr/hadoop-3.0.0/share/hadoop/common/lib/hadoop-aws-3.0.0.jar:/usr/hadoop-3.0.0/share/hadoop/common/lib/aws-java-sdk-bundle-1.11.199.jar:/usr/hadoop-3.0.0/share/hadoop/common/hadoop-common-3.0.0-tests.jar:/usr/hadoop-3.0.0/share/hadoop/common/hadoop-common-3.0.0.jar:/usr/hadoop-3.0.0/share/hadoop/common/hadoop-kms-3.0.0.jar:/usr/hadoop-3.0.0/share/hadoop/common/hadoop-nfs-3.0.0.jar:/usr/hadoop-3.0.0/share/hadoop/hdfs:/usr/hadoop-3.0.0/share/hadoop/hdfs/lib/jersey-core-1.19.jar:/usr/hadoop-3.0.0/share/hadoop/hdfs/lib/jersey-server-1.19.jar:/usr/hadoop-3.0.0/share/hadoop/hdfs/lib/jetty-servlet-9.3.19.v20170502.jar:/usr/hadoop-3.0.0/share/hadoop/hdfs/lib/jsr311-api-1.1.1.jar:/usr/hadoop-3.0.0/share/hadoop/hdfs/lib/woodstox-core-5.0.3.jar:/usr/hadoop-3.0.0/share/hadoop/hdfs/lib/commons-configuration2-2.1.1.jar:/usr/hadoop-3.0.0/share/hadoop/hdfs/lib/jackson-mapper-asl-1.9.13.jar:/usr/hadoop-3.0.0/share/hadoop/hdfs/lib/jersey-servlet-1.19.jar:/usr/hadoop-3.0.0/share/hadoop/hdfs/lib/commons-math3-3.1.1.jar:/usr/hadoop-3.0.0/share/hadoop/hdfs/lib/commons-lang3-3.4.jar:/usr/hadoop-3.0.0/share/hadoop/hdfs/lib/curator-framework-2.12.0.jar:/usr/hadoop-3.0.0/share/hadoop/hdfs/lib/okio-1.4.0.jar:/usr/hadoop-3.0.0/share/hadoop/hdfs/lib/kerby-util-1.0.1.jar:/usr/hadoop-3.0.0/share/hadoop/hdfs/lib/kerby-asn1-1.0.1.jar:/usr/hadoop-3.0.0/share/hadoop/hdfs/lib/commons-lang-2.6.jar:/usr/hadoop-3.0.0/share/hadoop/hdfs/lib/guava-11.0.2.jar:/usr/hadoop-3.0.0/share/hadoop/hdfs/lib/curator-client-2.12.0.jar:/usr/hadoop-3.0.0/share/hadoop/hdfs/lib/jetty-xml-9.3.19.v20170502.jar:/usr/hadoop-3.0.0/share/hadoop/hdfs/lib/jetty-server-9.3.19.v20170502.jar:/usr/hadoop-3.0.0/share/hadoop/hdfs/lib/htrace-core4-4.1.0-incubating.jar:/usr/hadoop-3.0.0/share/hadoop/hdfs/lib/jackson-core-asl-1.9.13.jar:/usr/hadoop-3.0.0/share/hadoop/hdfs/lib/asm-5.0.4.jar:/usr/hadoop-3.0.0/share/hadoop/hdfs/lib/kerb-server-1.0.1.jar:/usr/hadoop-3.0.0/share/hadoop/hdfs/lib/jetty-webapp-9.3.19.v20170502.jar:/usr/hadoop-3.0.0/share/hadoop/hdfs/lib/kerb-common-1.0.1.jar:/usr/hadoop-3.0.0/share/hadoop/hdfs/lib/commons-io-2.4.jar:/usr/hadoop-3.0.0/share/hadoop/hdfs/lib/jsch-0.1.54.jar:/usr/hadoop-3.0.0/share/hadoop/hdfs/lib/kerb-client-1.0.1.jar:/usr/hadoop-3.0.0/share/hadoop/hdfs/lib/hadoop-auth-3.0.0.jar:/usr/hadoop-3.0.0/share/hadoop/hdfs/lib/nimbus-jose-jwt-4.41.1.jar:/usr/hadoop-3.0.0/share/hadoop/hdfs/lib/kerby-config-1.0.1.jar:/usr/hadoop-3.0.0/share/hadoop/hdfs/lib/jetty-security-9.3.19.v20170502.jar:/usr/hadoop-3.0.0/share/hadoop/hdfs/lib/jaxb-impl-2.2.3-1.jar:/usr/hadoop-3.0.0/share/hadoop/hdfs/lib/kerby-xdr-1.0.1.jar:/usr/hadoop-3.0.0/share/hadoop/hdfs/lib/jetty-util-ajax-9.3.19.v20170502.jar:/usr/hadoop-3.0.0/share/hadoop/hdfs/lib/json-simple-1.1.1.jar:/usr/hadoop-3.0.0/share/hadoop/hdfs/lib/kerb-crypto-1.0.1.jar:/usr/hadoop-3.0.0/share/hadoop/hdfs/lib/log4j-1.2.17.jar:/usr/hadoop-3.0.0/share/hadoop/hdfs/lib/hadoop-annotations-3.0.0.jar:/usr/hadoop-3.0.0/share/hadoop/hdfs/lib/httpclient-4.5.2.jar:/usr/hadoop-3.0.0/share/hadoop/hdfs/lib/commons-daemon-1.0.13.jar:/usr/hadoop-3.0.0/share/hadoop/hdfs/lib/jackson-databind-2.7.8.jar:/usr/hadoop-3.0.0/share/hadoop/hdfs/lib/jackson-jaxrs-1.9.13.jar:/usr/hadoop-3.0.0/share/hadoop/hdfs/lib/kerb-identity-1.0.1.jar:/usr/hadoop-3.0.0/share/hadoop/hdfs/lib/commons-beanutils-1.9.3.jar:/usr/hadoop-3.0.0/share/hadoop/hdfs/lib/httpcore-4.4.4.jar:/usr/hadoop-3.0.0/share/hadoop/hdfs/lib/kerb-simplekdc-1.0.1.jar:/usr/hadoop-3.0.0/share/hadoop/hdfs/lib/leveldbjni-all-1.8.jar:/usr/hadoop-3.0.0/share/hadoop/hdfs/lib/netty-3.10.5.Final.jar:/usr/hadoop-3.0.0/share/hadoop/hdfs/lib/jackson-core-2.7.8.jar:/usr/hadoop-3.0.0/share/hadoop/hdfs/lib/jetty-http-9.3.19.v20170502.jar:/usr/hadoop-3.0.0/share/hadoop/hdfs/lib/curator-recipes-2.12.0.jar:/usr/hadoop-3.0.0/share/hadoop/hdfs/lib/json-smart-2.3.jar:/usr/hadoop-3.0.0/share/hadoop/hdfs/lib/gson-2.2.4.jar:/usr/hadoop-3.0.0/share/hadoop/hdfs/lib/jetty-io-9.3.19.v20170502.jar:/usr/hadoop-3.0.0/share/hadoop/hdfs/lib/jackson-xc-1.9.13.jar:/usr/hadoop-3.0.0/share/hadoop/hdfs/lib/stax2-api-3.1.4.jar:/usr/hadoop-3.0.0/share/hadoop/hdfs/lib/jetty-util-9.3.19.v20170502.jar:/usr/hadoop-3.0.0/share/hadoop/hdfs/lib/javax.servlet-api-3.1.0.jar:/usr/hadoop-3.0.0/share/hadoop/hdfs/lib/kerb-core-1.0.1.jar:/usr/hadoop-3.0.0/share/hadoop/hdfs/lib/re2j-1.1.jar:/usr/hadoop-3.0.0/share/hadoop/hdfs/lib/avro-1.7.7.jar:/usr/hadoop-3.0.0/share/hadoop/hdfs/lib/jettison-1.1.jar:/usr/hadoop-3.0.0/share/hadoop/hdfs/lib/jackson-annotations-2.7.8.jar:/usr/hadoop-3.0.0/share/hadoop/hdfs/lib/jersey-json-1.19.jar:/usr/hadoop-3.0.0/share/hadoop/hdfs/lib/kerb-util-1.0.1.jar:/usr/hadoop-3.0.0/share/hadoop/hdfs/lib/kerb-admin-1.0.1.jar:/usr/hadoop-3.0.0/share/hadoop/hdfs/lib/zookeeper-3.4.9.jar:/usr/hadoop-3.0.0/share/hadoop/hdfs/lib/snappy-java-1.0.5.jar:/usr/hadoop-3.0.0/share/hadoop/hdfs/lib/commons-compress-1.4.1.jar:/usr/hadoop-3.0.0/share/hadoop/hdfs/lib/commons-logging-1.1.3.jar:/usr/hadoop-3.0.0/share/hadoop/hdfs/lib/commons-collections-3.2.2.jar:/usr/hadoop-3.0.0/share/hadoop/hdfs/lib/commons-cli-1.2.jar:/usr/hadoop-3.0.0/share/hadoop/hdfs/lib/protobuf-java-2.5.0.jar:/usr/hadoop-3.0.0/share/hadoop/hdfs/lib/token-provider-1.0.1.jar:/usr/hadoop-3.0.0/share/hadoop/hdfs/lib/commons-net-3.1.jar:/usr/hadoop-3.0.0/share/hadoop/hdfs/lib/commons-codec-1.4.jar:/usr/hadoop-3.0.0/share/hadoop/hdfs/lib/okhttp-2.4.0.jar:/usr/hadoop-3.0.0/share/hadoop/hdfs/lib/xz-1.0.jar:/usr/hadoop-3.0.0/share/hadoop/hdfs/lib/jcip-annotations-1.0-1.jar:/usr/hadoop-3.0.0/share/hadoop/hdfs/lib/kerby-pkix-1.0.1.jar:/usr/hadoop-3.0.0/share/hadoop/hdfs/lib/paranamer-2.3.jar:/usr/hadoop-3.0.0/share/hadoop/hdfs/lib/accessors-smart-1.2.jar:/usr/hadoop-3.0.0/share/hadoop/hdfs/lib/netty-all-4.0.23.Final.jar:/usr/hadoop-3.0.0/share/hadoop/hdfs/lib/jaxb-api-2.2.11.jar:/usr/hadoop-3.0.0/share/hadoop/hdfs/lib/jsr305-3.0.0.jar:/usr/hadoop-3.0.0/share/hadoop/hdfs/hadoop-hdfs-client-3.0.0-tests.jar:/usr/hadoop-3.0.0/share/hadoop/hdfs/hadoop-hdfs-3.0.0-tests.jar:/usr/hadoop-3.0.0/share/hadoop/hdfs/hadoop-hdfs-native-client-3.0.0.jar:/usr/hadoop-3.0.0/share/hadoop/hdfs/hadoop-hdfs-httpfs-3.0.0.jar:/usr/hadoop-3.0.0/share/hadoop/hdfs/hadoop-hdfs-native-client-3.0.0-tests.jar:/usr/hadoop-3.0.0/share/hadoop/hdfs/hadoop-hdfs-client-3.0.0.jar:/usr/hadoop-3.0.0/share/hadoop/hdfs/hadoop-hdfs-nfs-3.0.0.jar:/usr/hadoop-3.0.0/share/hadoop/hdfs/hadoop-hdfs-3.0.0.jar:/usr/hadoop-3.0.0/share/hadoop/mapreduce/hadoop-mapreduce-client-hs-plugins-3.0.0.jar:/usr/hadoop-3.0.0/share/hadoop/mapreduce/hadoop-mapreduce-client-common-3.0.0.jar:/usr/hadoop-3.0.0/share/hadoop/mapreduce/hadoop-mapreduce-client-nativetask-3.0.0.jar:/usr/hadoop-3.0.0/share/hadoop/mapreduce/hadoop-mapreduce-client-core-3.0.0.jar:/usr/hadoop-3.0.0/share/hadoop/mapreduce/hadoop-mapreduce-client-shuffle-3.0.0.jar:/usr/hadoop-3.0.0/share/hadoop/mapreduce/hadoop-mapreduce-client-hs-3.0.0.jar:/usr/hadoop-3.0.0/share/hadoop/mapreduce/hadoop-mapreduce-client-jobclient-3.0.0-tests.jar:/usr/hadoop-3.0.0/share/hadoop/mapreduce/hadoop-mapreduce-examples-3.0.0.jar:/usr/hadoop-3.0.0/share/hadoop/mapreduce/hadoop-mapreduce-client-app-3.0.0.jar:/usr/hadoop-3.0.0/share/hadoop/mapreduce/hadoop-mapreduce-client-jobclient-3.0.0.jar:/usr/hadoop-3.0.0/share/hadoop/yarn:/usr/hadoop-3.0.0/share/hadoop/yarn/lib/joni-2.1.2.jar:/usr/hadoop-3.0.0/share/hadoop/yarn/lib/jasper-compiler-5.5.23.jar:/usr/hadoop-3.0.0/share/hadoop/yarn/lib/hbase-protocol-1.2.6.jar:/usr/hadoop-3.0.0/share/hadoop/yarn/lib/json-io-2.5.1.jar:/usr/hadoop-3.0.0/share/hadoop/yarn/lib/jackson-module-jaxb-annotations-2.7.8.jar:/usr/hadoop-3.0.0/share/hadoop/yarn/lib/javax.inject-1.jar:/usr/hadoop-3.0.0/share/hadoop/yarn/lib/commons-math-2.2.jar:/usr/hadoop-3.0.0/share/hadoop/yarn/lib/hbase-procedure-1.2.6.jar:/usr/hadoop-3.0.0/share/hadoop/yarn/lib/hbase-hadoop-compat-1.2.6.jar:/usr/hadoop-3.0.0/share/hadoop/yarn/lib/geronimo-jcache_1.0_spec-1.0-alpha-1.jar:/usr/hadoop-3.0.0/share/hadoop/yarn/lib/jasper-runtime-5.5.23.jar:/usr/hadoop-3.0.0/share/hadoop/yarn/lib/findbugs-annotations-1.3.9-1.jar:/usr/hadoop-3.0.0/share/hadoop/yarn/lib/mssql-jdbc-6.2.1.jre7.jar:/usr/hadoop-3.0.0/share/hadoop/yarn/lib/disruptor-3.3.0.jar:/usr/hadoop-3.0.0/share/hadoop/yarn/lib/jackson-jaxrs-base-2.7.8.jar:/usr/hadoop-3.0.0/share/hadoop/yarn/lib/hbase-server-1.2.6.jar:/usr/hadoop-3.0.0/share/hadoop/yarn/lib/hbase-prefix-tree-1.2.6.jar:/usr/hadoop-3.0.0/share/hadoop/yarn/lib/commons-httpclient-3.1.jar:/usr/hadoop-3.0.0/share/hadoop/yarn/lib/jcodings-1.0.8.jar:/usr/hadoop-3.0.0/share/hadoop/yarn/lib/hbase-common-1.2.6.jar:/usr/hadoop-3.0.0/share/hadoop/yarn/lib/ehcache-3.3.1.jar:/usr/hadoop-3.0.0/share/hadoop/yarn/lib/guice-4.0.jar:/usr/hadoop-3.0.0/share/hadoop/yarn/lib/fst-2.50.jar:/usr/hadoop-3.0.0/share/hadoop/yarn/lib/servlet-api-2.5-6.1.14.jar:/usr/hadoop-3.0.0/share/hadoop/yarn/lib/jersey-guice-1.19.jar:/usr/hadoop-3.0.0/share/hadoop/yarn/lib/aopalliance-1.0.jar:/usr/hadoop-3.0.0/share/hadoop/yarn/lib/htrace-core-3.1.0-incubating.jar:/usr/hadoop-3.0.0/share/hadoop/yarn/lib/jersey-client-1.19.jar:/usr/hadoop-3.0.0/share/hadoop/yarn/lib/jamon-runtime-2.4.1.jar:/usr/hadoop-3.0.0/share/hadoop/yarn/lib/jackson-jaxrs-json-provider-2.7.8.jar:/usr/hadoop-3.0.0/share/hadoop/yarn/lib/HikariCP-java7-2.4.12.jar:/usr/hadoop-3.0.0/share/hadoop/yarn/lib/jsp-api-2.1-6.1.14.jar:/usr/hadoop-3.0.0/share/hadoop/yarn/lib/hbase-annotations-1.2.6.jar:/usr/hadoop-3.0.0/share/hadoop/yarn/lib/hbase-hadoop2-compat-1.2.6.jar:/usr/hadoop-3.0.0/share/hadoop/yarn/lib/java-util-1.9.0.jar:/usr/hadoop-3.0.0/share/hadoop/yarn/lib/metrics-core-3.0.1.jar:/usr/hadoop-3.0.0/share/hadoop/yarn/lib/commons-csv-1.0.jar:/usr/hadoop-3.0.0/share/hadoop/yarn/lib/guice-servlet-4.0.jar:/usr/hadoop-3.0.0/share/hadoop/yarn/lib/hbase-client-1.2.6.jar:/usr/hadoop-3.0.0/share/hadoop/yarn/lib/jsp-2.1-6.1.14.jar:/usr/hadoop-3.0.0/share/hadoop/yarn/lib/commons-el-1.0.jar:/usr/hadoop-3.0.0/share/hadoop/yarn/lib/metrics-core-2.2.0.jar:/usr/hadoop-3.0.0/share/hadoop/yarn/hadoop-yarn-api-3.0.0.jar:/usr/hadoop-3.0.0/share/hadoop/yarn/hadoop-yarn-applications-unmanaged-am-launcher-3.0.0.jar:/usr/hadoop-3.0.0/share/hadoop/yarn/hadoop-yarn-server-tests-3.0.0.jar:/usr/hadoop-3.0.0/share/hadoop/yarn/hadoop-yarn-server-sharedcachemanager-3.0.0.jar:/usr/hadoop-3.0.0/share/hadoop/yarn/hadoop-yarn-server-applicationhistoryservice-3.0.0.jar:/usr/hadoop-3.0.0/share/hadoop/yarn/hadoop-yarn-server-router-3.0.0.jar:/usr/hadoop-3.0.0/share/hadoop/yarn/hadoop-yarn-applications-distributedshell-3.0.0.jar:/usr/hadoop-3.0.0/share/hadoop/yarn/hadoop-yarn-server-web-proxy-3.0.0.jar:/usr/hadoop-3.0.0/shar\u001b[0m\n",
      "\u001b[34me/hadoop/yarn/hadoop-yarn-server-resourcemanager-3.0.0.jar:/usr/hadoop-3.0.0/share/hadoop/yarn/hadoop-yarn-server-timelineservice-hbase-tests-3.0.0.jar:/usr/hadoop-3.0.0/share/hadoop/yarn/hadoop-yarn-server-timeline-pluginstorage-3.0.0.jar:/usr/hadoop-3.0.0/share/hadoop/yarn/hadoop-yarn-server-timelineservice-hbase-3.0.0.jar:/usr/hadoop-3.0.0/share/hadoop/yarn/hadoop-yarn-common-3.0.0.jar:/usr/hadoop-3.0.0/share/hadoop/yarn/hadoop-yarn-server-timelineservice-3.0.0.jar:/usr/hadoop-3.0.0/share/hadoop/yarn/hadoop-yarn-client-3.0.0.jar:/usr/hadoop-3.0.0/share/hadoop/yarn/hadoop-yarn-server-nodemanager-3.0.0.jar:/usr/hadoop-3.0.0/share/hadoop/yarn/hadoop-yarn-server-common-3.0.0.jar:/usr/hadoop-3.0.0/share/hadoop/yarn/hadoop-yarn-registry-3.0.0.jar\u001b[0m\n",
      "\u001b[34mSTARTUP_MSG:   build = https://git-wip-us.apache.org/repos/asf/hadoop.git -r c25427ceca461ee979d30edd7a4b0f50718e6533; compiled by 'andrew' on 2017-12-08T19:16Z\u001b[0m\n",
      "\u001b[34mSTARTUP_MSG:   java = 1.8.0_312\u001b[0m\n",
      "\u001b[34m************************************************************/\u001b[0m\n",
      "\u001b[34m2022-06-24 04:20:25,709 INFO namenode.NameNode: registered UNIX signal handlers for [TERM, HUP, INT]\u001b[0m\n",
      "\u001b[34m2022-06-24 04:20:25,713 INFO namenode.NameNode: createNameNode [-format, -force]\u001b[0m\n",
      "\u001b[34mFormatting using clusterid: CID-73f321b4-1127-4bb1-ac1d-3e090180085b\u001b[0m\n",
      "\u001b[34m2022-06-24 04:20:26,188 INFO namenode.FSEditLog: Edit logging is async:true\u001b[0m\n",
      "\u001b[34m2022-06-24 04:20:26,198 INFO namenode.FSNamesystem: KeyProvider: null\u001b[0m\n",
      "\u001b[34m2022-06-24 04:20:26,199 INFO namenode.FSNamesystem: fsLock is fair: true\u001b[0m\n",
      "\u001b[34m2022-06-24 04:20:26,201 INFO namenode.FSNamesystem: Detailed lock hold time metrics enabled: false\u001b[0m\n",
      "\u001b[34m2022-06-24 04:20:26,206 INFO namenode.FSNamesystem: fsOwner             = root (auth:SIMPLE)\u001b[0m\n",
      "\u001b[34m2022-06-24 04:20:26,206 INFO namenode.FSNamesystem: supergroup          = supergroup\u001b[0m\n",
      "\u001b[34m2022-06-24 04:20:26,206 INFO namenode.FSNamesystem: isPermissionEnabled = true\u001b[0m\n",
      "\u001b[34m2022-06-24 04:20:26,207 INFO namenode.FSNamesystem: HA Enabled: false\u001b[0m\n",
      "\u001b[34m2022-06-24 04:20:26,237 INFO common.Util: dfs.datanode.fileio.profiling.sampling.percentage set to 0. Disabling file IO profiling\u001b[0m\n",
      "\u001b[34m2022-06-24 04:20:26,250 INFO blockmanagement.DatanodeManager: dfs.block.invalidate.limit: configured=1000, counted=60, effected=1000\u001b[0m\n",
      "\u001b[34m2022-06-24 04:20:26,250 INFO blockmanagement.DatanodeManager: dfs.namenode.datanode.registration.ip-hostname-check=true\u001b[0m\n",
      "\u001b[34m2022-06-24 04:20:26,253 INFO blockmanagement.BlockManager: dfs.namenode.startup.delay.block.deletion.sec is set to 000:00:00:00.000\u001b[0m\n",
      "\u001b[34m2022-06-24 04:20:26,254 INFO blockmanagement.BlockManager: The block deletion will start around 2022 Jun 24 04:20:26\u001b[0m\n",
      "\u001b[34m2022-06-24 04:20:26,255 INFO util.GSet: Computing capacity for map BlocksMap\u001b[0m\n",
      "\u001b[34m2022-06-24 04:20:26,255 INFO util.GSet: VM type       = 64-bit\u001b[0m\n",
      "\u001b[34m2022-06-24 04:20:26,256 INFO util.GSet: 2.0% max memory 3.1 GB = 63.9 MB\u001b[0m\n",
      "\u001b[34m2022-06-24 04:20:26,256 INFO util.GSet: capacity      = 2^23 = 8388608 entries\u001b[0m\n",
      "\u001b[34m2022-06-24 04:20:26,333 INFO blockmanagement.BlockManager: dfs.block.access.token.enable = false\u001b[0m\n",
      "\u001b[34m2022-06-24 04:20:26,337 INFO Configuration.deprecation: No unit for dfs.namenode.safemode.extension(30000) assuming MILLISECONDS\u001b[0m\n",
      "\u001b[34m2022-06-24 04:20:26,337 INFO blockmanagement.BlockManagerSafeMode: dfs.namenode.safemode.threshold-pct = 0.9990000128746033\u001b[0m\n",
      "\u001b[34m2022-06-24 04:20:26,337 INFO blockmanagement.BlockManagerSafeMode: dfs.namenode.safemode.min.datanodes = 0\u001b[0m\n",
      "\u001b[34m2022-06-24 04:20:26,338 INFO blockmanagement.BlockManagerSafeMode: dfs.namenode.safemode.extension = 30000\u001b[0m\n",
      "\u001b[34m2022-06-24 04:20:26,338 INFO blockmanagement.BlockManager: defaultReplication         = 3\u001b[0m\n",
      "\u001b[34m2022-06-24 04:20:26,338 INFO blockmanagement.BlockManager: maxReplication             = 512\u001b[0m\n",
      "\u001b[34m2022-06-24 04:20:26,338 INFO blockmanagement.BlockManager: minReplication             = 1\u001b[0m\n",
      "\u001b[34m2022-06-24 04:20:26,338 INFO blockmanagement.BlockManager: maxReplicationStreams      = 2\u001b[0m\n",
      "\u001b[34m2022-06-24 04:20:26,338 INFO blockmanagement.BlockManager: redundancyRecheckInterval  = 3000ms\u001b[0m\n",
      "\u001b[34m2022-06-24 04:20:26,338 INFO blockmanagement.BlockManager: encryptDataTransfer        = false\u001b[0m\n",
      "\u001b[34m2022-06-24 04:20:26,338 INFO blockmanagement.BlockManager: maxNumBlocksToLog          = 1000\u001b[0m\n",
      "\u001b[34m2022-06-24 04:20:26,363 INFO util.GSet: Computing capacity for map INodeMap\u001b[0m\n",
      "\u001b[34m2022-06-24 04:20:26,364 INFO util.GSet: VM type       = 64-bit\u001b[0m\n",
      "\u001b[34m2022-06-24 04:20:26,364 INFO util.GSet: 1.0% max memory 3.1 GB = 31.9 MB\u001b[0m\n",
      "\u001b[34m2022-06-24 04:20:26,364 INFO util.GSet: capacity      = 2^22 = 4194304 entries\u001b[0m\n",
      "\u001b[34m2022-06-24 04:20:26,366 INFO namenode.FSDirectory: ACLs enabled? false\u001b[0m\n",
      "\u001b[34m2022-06-24 04:20:26,366 INFO namenode.FSDirectory: POSIX ACL inheritance enabled? true\u001b[0m\n",
      "\u001b[34m2022-06-24 04:20:26,366 INFO namenode.FSDirectory: XAttrs enabled? true\u001b[0m\n",
      "\u001b[34m2022-06-24 04:20:26,366 INFO namenode.NameNode: Caching file names occurring more than 10 times\u001b[0m\n",
      "\u001b[34m2022-06-24 04:20:26,370 INFO snapshot.SnapshotManager: Loaded config captureOpenFiles: false, skipCaptureAccessTimeOnlyChange: false, snapshotDiffAllowSnapRootDescendant: true\u001b[0m\n",
      "\u001b[34m2022-06-24 04:20:26,374 INFO util.GSet: Computing capacity for map cachedBlocks\u001b[0m\n",
      "\u001b[34m2022-06-24 04:20:26,374 INFO util.GSet: VM type       = 64-bit\u001b[0m\n",
      "\u001b[34m2022-06-24 04:20:26,374 INFO util.GSet: 0.25% max memory 3.1 GB = 8.0 MB\u001b[0m\n",
      "\u001b[34m2022-06-24 04:20:26,374 INFO util.GSet: capacity      = 2^20 = 1048576 entries\u001b[0m\n",
      "\u001b[34m2022-06-24 04:20:26,380 INFO metrics.TopMetrics: NNTop conf: dfs.namenode.top.window.num.buckets = 10\u001b[0m\n",
      "\u001b[34m2022-06-24 04:20:26,381 INFO metrics.TopMetrics: NNTop conf: dfs.namenode.top.num.users = 10\u001b[0m\n",
      "\u001b[34m2022-06-24 04:20:26,381 INFO metrics.TopMetrics: NNTop conf: dfs.namenode.top.windows.minutes = 1,5,25\u001b[0m\n",
      "\u001b[34m2022-06-24 04:20:26,384 INFO namenode.FSNamesystem: Retry cache on namenode is enabled\u001b[0m\n",
      "\u001b[34m2022-06-24 04:20:26,384 INFO namenode.FSNamesystem: Retry cache will use 0.03 of total heap and retry cache entry expiry time is 600000 millis\u001b[0m\n",
      "\u001b[34m2022-06-24 04:20:26,386 INFO util.GSet: Computing capacity for map NameNodeRetryCache\u001b[0m\n",
      "\u001b[34m2022-06-24 04:20:26,386 INFO util.GSet: VM type       = 64-bit\u001b[0m\n",
      "\u001b[34m2022-06-24 04:20:26,386 INFO util.GSet: 0.029999999329447746% max memory 3.1 GB = 980.9 KB\u001b[0m\n",
      "\u001b[34m2022-06-24 04:20:26,386 INFO util.GSet: capacity      = 2^17 = 131072 entries\u001b[0m\n",
      "\u001b[34m2022-06-24 04:20:26,407 INFO namenode.FSImage: Allocated new BlockPoolId: BP-1103074007-10.2.89.123-1656044426401\u001b[0m\n",
      "\u001b[34m2022-06-24 04:20:26,419 INFO common.Storage: Storage directory /opt/amazon/hadoop/hdfs/namenode has been successfully formatted.\u001b[0m\n",
      "\u001b[34m2022-06-24 04:20:26,427 INFO namenode.FSImageFormatProtobuf: Saving image file /opt/amazon/hadoop/hdfs/namenode/current/fsimage.ckpt_0000000000000000000 using no compression\u001b[0m\n",
      "\u001b[34m2022-06-24 04:20:26,512 INFO namenode.FSImageFormatProtobuf: Image file /opt/amazon/hadoop/hdfs/namenode/current/fsimage.ckpt_0000000000000000000 of size 389 bytes saved in 0 seconds.\u001b[0m\n",
      "\u001b[34m2022-06-24 04:20:26,526 INFO namenode.NNStorageRetentionManager: Going to retain 1 images with txid >= 0\u001b[0m\n",
      "\u001b[34m2022-06-24 04:20:26,529 INFO namenode.NameNode: SHUTDOWN_MSG: \u001b[0m\n",
      "\u001b[34m/************************************************************\u001b[0m\n",
      "\u001b[34mSHUTDOWN_MSG: Shutting down NameNode at algo-1/10.2.89.123\u001b[0m\n",
      "\u001b[34m************************************************************/\u001b[0m\n",
      "\u001b[34m2022-06-24 04:20:26,542 - bootstrap - INFO - Running command: /usr/hadoop-3.0.0/bin/hdfs --daemon start namenode\u001b[0m\n",
      "\u001b[34m2022-06-24 04:20:28,613 - bootstrap - INFO - Failed to run /usr/hadoop-3.0.0/bin/hdfs --daemon start namenode, return code 1\u001b[0m\n",
      "\u001b[34m2022-06-24 04:20:28,613 - bootstrap - INFO - Running command: /usr/hadoop-3.0.0/bin/hdfs --daemon start datanode\u001b[0m\n",
      "\u001b[34m2022-06-24 04:20:30,693 - bootstrap - INFO - Failed to run /usr/hadoop-3.0.0/bin/hdfs --daemon start datanode, return code 1\u001b[0m\n",
      "\u001b[34m2022-06-24 04:20:30,693 - bootstrap - INFO - Running command: /usr/hadoop-3.0.0/bin/yarn --daemon start resourcemanager\u001b[0m\n",
      "\u001b[34mWARNING: YARN_LOG_DIR has been replaced by HADOOP_LOG_DIR. Using value of YARN_LOG_DIR.\u001b[0m\n",
      "\u001b[34mWARNING: /var/log/yarn/ does not exist. Creating.\u001b[0m\n",
      "\u001b[34m2022-06-24 04:20:32,767 - bootstrap - INFO - Failed to run /usr/hadoop-3.0.0/bin/yarn --daemon start resourcemanager, return code 1\u001b[0m\n",
      "\u001b[34m2022-06-24 04:20:32,767 - bootstrap - INFO - Running command: /usr/hadoop-3.0.0/bin/yarn --daemon start nodemanager\u001b[0m\n",
      "\u001b[34mWARNING: YARN_LOG_DIR has been replaced by HADOOP_LOG_DIR. Using value of YARN_LOG_DIR.\u001b[0m\n",
      "\u001b[34m2022-06-24 04:20:34,860 - bootstrap - INFO - Failed to run /usr/hadoop-3.0.0/bin/yarn --daemon start nodemanager, return code 1\u001b[0m\n",
      "\u001b[34m2022-06-24 04:20:34,860 - bootstrap - INFO - Running command: /usr/hadoop-3.0.0/bin/yarn --daemon start proxyserver\u001b[0m\n",
      "\u001b[34mWARNING: YARN_LOG_DIR has been replaced by HADOOP_LOG_DIR. Using value of YARN_LOG_DIR.\u001b[0m\n",
      "\u001b[34m2022-06-24 04:20:36,948 - bootstrap - INFO - Failed to run /usr/hadoop-3.0.0/bin/yarn --daemon start proxyserver, return code 1\u001b[0m\n",
      "\u001b[34m2022-06-24 04:20:36,949 - DefaultDataAnalyzer - INFO - Total number of hosts in the cluster: 1\u001b[0m\n",
      "\u001b[34m2022-06-24 04:20:46,952 - DefaultDataAnalyzer - INFO - Running command: bin/spark-submit --master yarn --deploy-mode client --conf spark.hadoop.fs.s3a.aws.credentials.provider=org.apache.hadoop.fs.s3a.SimpleAWSCredentialsProvider --conf spark.serializer=org.apache.spark.serializer.KryoSerializer /opt/amazon/sagemaker-data-analyzer-1.0-jar-with-dependencies.jar --analytics_input /tmp/spark_job_config.json\u001b[0m\n",
      "\u001b[34m2022-06-24 04:20:48 WARN  NativeCodeLoader:60 - Unable to load native-hadoop library for your platform... using builtin-java classes where applicable\u001b[0m\n",
      "\u001b[34m2022-06-24 04:20:48 INFO  Main:28 - Start analyzing with args: --analytics_input /tmp/spark_job_config.json\u001b[0m\n",
      "\u001b[34m2022-06-24 04:20:48 INFO  Main:31 - Analytics input path: DataAnalyzerParams(/tmp/spark_job_config.json,yarn)\u001b[0m\n",
      "\u001b[34m2022-06-24 04:20:48 INFO  FileUtil:66 - Read file from path /tmp/spark_job_config.json.\u001b[0m\n",
      "\u001b[34m2022-06-24 04:20:48 INFO  SparkContext:54 - Running Spark version 2.3.1\u001b[0m\n",
      "\u001b[34m2022-06-24 04:20:48 INFO  SparkContext:54 - Submitted application: SageMakerDataAnalyzer\u001b[0m\n",
      "\u001b[34m2022-06-24 04:20:48 INFO  SecurityManager:54 - Changing view acls to: root\u001b[0m\n",
      "\u001b[34m2022-06-24 04:20:48 INFO  SecurityManager:54 - Changing modify acls to: root\u001b[0m\n",
      "\u001b[34m2022-06-24 04:20:48 INFO  SecurityManager:54 - Changing view acls groups to: \u001b[0m\n",
      "\u001b[34m2022-06-24 04:20:48 INFO  SecurityManager:54 - Changing modify acls groups to: \u001b[0m\n",
      "\u001b[34m2022-06-24 04:20:48 INFO  SecurityManager:54 - SecurityManager: authentication disabled; ui acls disabled; users  with view permissions: Set(root); groups with view permissions: Set(); users  with modify permissions: Set(root); groups with modify permissions: Set()\u001b[0m\n",
      "\u001b[34m2022-06-24 04:20:48 INFO  Utils:54 - Successfully started service 'sparkDriver' on port 33187.\u001b[0m\n",
      "\u001b[34m2022-06-24 04:20:48 INFO  SparkEnv:54 - Registering MapOutputTracker\u001b[0m\n",
      "\u001b[34m2022-06-24 04:20:48 INFO  SparkEnv:54 - Registering BlockManagerMaster\u001b[0m\n",
      "\u001b[34m2022-06-24 04:20:48 INFO  BlockManagerMasterEndpoint:54 - Using org.apache.spark.storage.DefaultTopologyMapper for getting topology information\u001b[0m\n",
      "\u001b[34m2022-06-24 04:20:48 INFO  BlockManagerMasterEndpoint:54 - BlockManagerMasterEndpoint up\u001b[0m\n",
      "\u001b[34m2022-06-24 04:20:48 INFO  DiskBlockManager:54 - Created local directory at /tmp/blockmgr-8953621c-42c8-4886-a835-dcc14cf6d616\u001b[0m\n",
      "\u001b[34m2022-06-24 04:20:48 INFO  MemoryStore:54 - MemoryStore started with capacity 1458.6 MB\u001b[0m\n",
      "\u001b[34m2022-06-24 04:20:48 INFO  SparkEnv:54 - Registering OutputCommitCoordinator\u001b[0m\n",
      "\u001b[34m2022-06-24 04:20:48 INFO  SparkContext:54 - Added JAR file:/opt/amazon/sagemaker-data-analyzer-1.0-jar-with-dependencies.jar at spark://10.2.89.123:33187/jars/sagemaker-data-analyzer-1.0-jar-with-dependencies.jar with timestamp 1656044448974\u001b[0m\n",
      "\u001b[34m2022-06-24 04:20:49 INFO  RMProxy:133 - Connecting to ResourceManager at /10.2.89.123:8032\u001b[0m\n",
      "\u001b[34m2022-06-24 04:20:50 INFO  Client:54 - Requesting a new application from cluster with 1 NodeManagers\u001b[0m\n",
      "\u001b[34m2022-06-24 04:20:50 INFO  Configuration:2636 - resource-types.xml not found\u001b[0m\n",
      "\u001b[34m2022-06-24 04:20:50 INFO  ResourceUtils:427 - Unable to find 'resource-types.xml'.\u001b[0m\n",
      "\u001b[34m2022-06-24 04:20:50 INFO  Client:54 - Verifying our application has not requested more than the maximum memory capability of the cluster (15743 MB per container)\u001b[0m\n",
      "\u001b[34m2022-06-24 04:20:50 INFO  Client:54 - Will allocate AM container, with 896 MB memory including 384 MB overhead\u001b[0m\n",
      "\u001b[34m2022-06-24 04:20:50 INFO  Client:54 - Setting up container launch context for our AM\u001b[0m\n",
      "\u001b[34m2022-06-24 04:20:50 INFO  Client:54 - Setting up the launch environment for our AM container\u001b[0m\n",
      "\u001b[34m2022-06-24 04:20:50 INFO  Client:54 - Preparing resources for our AM container\u001b[0m\n",
      "\u001b[34m2022-06-24 04:20:51 WARN  Client:66 - Neither spark.yarn.jars nor spark.yarn.archive is set, falling back to uploading libraries under SPARK_HOME.\u001b[0m\n",
      "\u001b[34m2022-06-24 04:20:52 INFO  Client:54 - Uploading resource file:/tmp/spark-7a757c95-2dc1-4585-bf12-b62ca35d0e14/__spark_libs__165432778241591973.zip -> hdfs://10.2.89.123/user/root/.sparkStaging/application_1656044432283_0001/__spark_libs__165432778241591973.zip\u001b[0m\n",
      "\u001b[34m2022-06-24 04:20:53 INFO  Client:54 - Uploading resource file:/tmp/spark-7a757c95-2dc1-4585-bf12-b62ca35d0e14/__spark_conf__5957463762055826307.zip -> hdfs://10.2.89.123/user/root/.sparkStaging/application_1656044432283_0001/__spark_conf__.zip\u001b[0m\n",
      "\u001b[34m2022-06-24 04:20:54 INFO  SecurityManager:54 - Changing view acls to: root\u001b[0m\n",
      "\u001b[34m2022-06-24 04:20:54 INFO  SecurityManager:54 - Changing modify acls to: root\u001b[0m\n",
      "\u001b[34m2022-06-24 04:20:54 INFO  SecurityManager:54 - Changing view acls groups to: \u001b[0m\n",
      "\u001b[34m2022-06-24 04:20:54 INFO  SecurityManager:54 - Changing modify acls groups to: \u001b[0m\n",
      "\u001b[34m2022-06-24 04:20:54 INFO  SecurityManager:54 - SecurityManager: authentication disabled; ui acls disabled; users  with view permissions: Set(root); groups with view permissions: Set(); users  with modify permissions: Set(root); groups with modify permissions: Set()\u001b[0m\n",
      "\u001b[34m2022-06-24 04:20:54 INFO  Client:54 - Submitting application application_1656044432283_0001 to ResourceManager\u001b[0m\n",
      "\u001b[34m2022-06-24 04:20:54 INFO  YarnClientImpl:310 - Submitted application application_1656044432283_0001\u001b[0m\n",
      "\u001b[34m2022-06-24 04:20:54 INFO  SchedulerExtensionServices:54 - Starting Yarn extension services with app application_1656044432283_0001 and attemptId None\u001b[0m\n",
      "\u001b[34m2022-06-24 04:20:55 INFO  Client:54 - Application report for application_1656044432283_0001 (state: ACCEPTED)\u001b[0m\n",
      "\u001b[34m2022-06-24 04:20:55 INFO  Client:54 - \u001b[0m\n",
      "\u001b[34m#011 client token: N/A\u001b[0m\n",
      "\u001b[34m#011 diagnostics: [Fri Jun 24 04:20:55 +0000 2022] Scheduler has assigned a container for AM, waiting for AM container to be launched\u001b[0m\n",
      "\u001b[34m#011 ApplicationMaster host: N/A\u001b[0m\n",
      "\u001b[34m#011 ApplicationMaster RPC port: -1\u001b[0m\n",
      "\u001b[34m#011 queue: default\u001b[0m\n",
      "\u001b[34m#011 start time: 1656044454582\u001b[0m\n",
      "\u001b[34m#011 final status: UNDEFINED\u001b[0m\n",
      "\u001b[34m#011 tracking URL: http://algo-1:8088/proxy/application_1656044432283_0001/\u001b[0m\n",
      "\u001b[34m#011 user: root\u001b[0m\n",
      "\u001b[34m2022-06-24 04:20:56 INFO  Client:54 - Application report for application_1656044432283_0001 (state: ACCEPTED)\u001b[0m\n",
      "\u001b[34m2022-06-24 04:20:57 INFO  Client:54 - Application report for application_1656044432283_0001 (state: ACCEPTED)\u001b[0m\n",
      "\u001b[34m2022-06-24 04:20:58 INFO  Client:54 - Application report for application_1656044432283_0001 (state: ACCEPTED)\u001b[0m\n",
      "\u001b[34m2022-06-24 04:20:59 INFO  YarnClientSchedulerBackend:54 - Add WebUI Filter. org.apache.hadoop.yarn.server.webproxy.amfilter.AmIpFilter, Map(PROXY_HOSTS -> algo-1, PROXY_URI_BASES -> http://algo-1:8088/proxy/application_1656044432283_0001), /proxy/application_1656044432283_0001\u001b[0m\n",
      "\u001b[34m2022-06-24 04:20:59 INFO  Client:54 - Application report for application_1656044432283_0001 (state: ACCEPTED)\u001b[0m\n",
      "\u001b[34m2022-06-24 04:20:59 INFO  YarnSchedulerBackend$YarnSchedulerEndpoint:54 - ApplicationMaster registered as NettyRpcEndpointRef(spark-client://YarnAM)\u001b[0m\n",
      "\u001b[34m2022-06-24 04:21:00 INFO  Client:54 - Application report for application_1656044432283_0001 (state: RUNNING)\u001b[0m\n",
      "\u001b[34m2022-06-24 04:21:00 INFO  Client:54 - \u001b[0m\n",
      "\u001b[34m#011 client token: N/A\u001b[0m\n",
      "\u001b[34m#011 diagnostics: N/A\u001b[0m\n",
      "\u001b[34m#011 ApplicationMaster host: 10.2.89.123\u001b[0m\n",
      "\u001b[34m#011 ApplicationMaster RPC port: 0\u001b[0m\n",
      "\u001b[34m#011 queue: default\u001b[0m\n",
      "\u001b[34m#011 start time: 1656044454582\u001b[0m\n",
      "\u001b[34m#011 final status: UNDEFINED\u001b[0m\n",
      "\u001b[34m#011 tracking URL: http://algo-1:8088/proxy/application_1656044432283_0001/\u001b[0m\n",
      "\u001b[34m#011 user: root\u001b[0m\n",
      "\u001b[34m2022-06-24 04:21:00 INFO  YarnClientSchedulerBackend:54 - Application application_1656044432283_0001 has started running.\u001b[0m\n",
      "\u001b[34m2022-06-24 04:21:00 INFO  Utils:54 - Successfully started service 'org.apache.spark.network.netty.NettyBlockTransferService' on port 46099.\u001b[0m\n",
      "\u001b[34m2022-06-24 04:21:00 INFO  NettyBlockTransferService:54 - Server created on 10.2.89.123:46099\u001b[0m\n",
      "\u001b[34m2022-06-24 04:21:00 INFO  BlockManager:54 - Using org.apache.spark.storage.RandomBlockReplicationPolicy for block replication policy\u001b[0m\n",
      "\u001b[34m2022-06-24 04:21:00 INFO  BlockManagerMaster:54 - Registering BlockManager BlockManagerId(driver, 10.2.89.123, 46099, None)\u001b[0m\n",
      "\u001b[34m2022-06-24 04:21:00 INFO  BlockManagerMasterEndpoint:54 - Registering block manager 10.2.89.123:46099 with 1458.6 MB RAM, BlockManagerId(driver, 10.2.89.123, 46099, None)\u001b[0m\n",
      "\u001b[34m2022-06-24 04:21:00 INFO  BlockManagerMaster:54 - Registered BlockManager BlockManagerId(driver, 10.2.89.123, 46099, None)\u001b[0m\n",
      "\u001b[34m2022-06-24 04:21:00 INFO  BlockManager:54 - Initialized BlockManager: BlockManagerId(driver, 10.2.89.123, 46099, None)\u001b[0m\n",
      "\u001b[34m2022-06-24 04:21:00 INFO  log:192 - Logging initialized @13756ms\u001b[0m\n",
      "\u001b[34m2022-06-24 04:21:02 INFO  YarnSchedulerBackend$YarnDriverEndpoint:54 - Registered executor NettyRpcEndpointRef(spark-client://Executor) (10.2.89.123:34610) with ID 1\u001b[0m\n",
      "\u001b[34m2022-06-24 04:21:02 INFO  BlockManagerMasterEndpoint:54 - Registering block manager algo-1:43745 with 5.8 GB RAM, BlockManagerId(1, algo-1, 43745, None)\u001b[0m\n",
      "\u001b[34m2022-06-24 04:21:19 INFO  YarnClientSchedulerBackend:54 - SchedulerBackend is ready for scheduling beginning after waiting maxRegisteredResourcesWaitingTime: 30000(ms)\u001b[0m\n",
      "\u001b[34m2022-06-24 04:21:19 WARN  SparkContext:66 - Spark is not running in local mode, therefore the checkpoint directory must not be on the local filesystem. Directory '/tmp' appears to be on the local filesystem.\u001b[0m\n",
      "\u001b[34m2022-06-24 04:21:19 INFO  DatasetReader:132 - Files to process:List(file:///opt/ml/processing/input/baseline_dataset_input/validation_with_predictions.csv)\u001b[0m\n",
      "\u001b[34m2022-06-24 04:21:19 INFO  SharedState:54 - Setting hive.metastore.warehouse.dir ('null') to the value of spark.sql.warehouse.dir ('file:/usr/spark-2.3.1/spark-warehouse').\u001b[0m\n",
      "\u001b[34m2022-06-24 04:21:19 INFO  SharedState:54 - Warehouse path is 'file:/usr/spark-2.3.1/spark-warehouse'.\u001b[0m\n",
      "\u001b[34m2022-06-24 04:21:19 INFO  StateStoreCoordinatorRef:54 - Registered StateStoreCoordinator endpoint\u001b[0m\n",
      "\u001b[34m2022-06-24 04:21:20 INFO  FileSourceStrategy:54 - Pruning directories with: \u001b[0m\n",
      "\u001b[34m2022-06-24 04:21:20 INFO  FileSourceStrategy:54 - Post-Scan Filters: (length(trim(value#0, None)) > 0)\u001b[0m\n",
      "\u001b[34m2022-06-24 04:21:20 INFO  FileSourceStrategy:54 - Output Data Schema: struct<value: string>\u001b[0m\n",
      "\u001b[34m2022-06-24 04:21:20 INFO  FileSourceScanExec:54 - Pushed Filters: \u001b[0m\n",
      "\u001b[34m2022-06-24 04:21:20 INFO  CodeGenerator:54 - Code generated in 173.654833 ms\u001b[0m\n",
      "\u001b[34m2022-06-24 04:21:20 INFO  CodeGenerator:54 - Code generated in 23.380982 ms\u001b[0m\n",
      "\u001b[34m2022-06-24 04:21:21 INFO  MemoryStore:54 - Block broadcast_0 stored as values in memory (estimated size 429.7 KB, free 1458.2 MB)\u001b[0m\n",
      "\u001b[34m2022-06-24 04:21:21 INFO  MemoryStore:54 - Block broadcast_0_piece0 stored as bytes in memory (estimated size 38.3 KB, free 1458.1 MB)\u001b[0m\n",
      "\u001b[34m2022-06-24 04:21:21 INFO  BlockManagerInfo:54 - Added broadcast_0_piece0 in memory on 10.2.89.123:46099 (size: 38.3 KB, free: 1458.6 MB)\u001b[0m\n",
      "\u001b[34m2022-06-24 04:21:21 INFO  SparkContext:54 - Created broadcast 0 from csv at DatasetReader.scala:83\u001b[0m\n",
      "\u001b[34m2022-06-24 04:21:21 INFO  FileSourceScanExec:54 - Planning scan with bin packing, max size: 4194304 bytes, open cost is considered as scanning 4194304 bytes.\u001b[0m\n",
      "\u001b[34m2022-06-24 04:21:21 INFO  SparkContext:54 - Starting job: csv at DatasetReader.scala:83\u001b[0m\n",
      "\u001b[34m2022-06-24 04:21:21 INFO  DAGScheduler:54 - Got job 0 (csv at DatasetReader.scala:83) with 1 output partitions\u001b[0m\n",
      "\u001b[34m2022-06-24 04:21:21 INFO  DAGScheduler:54 - Final stage: ResultStage 0 (csv at DatasetReader.scala:83)\u001b[0m\n",
      "\u001b[34m2022-06-24 04:21:21 INFO  DAGScheduler:54 - Parents of final stage: List()\u001b[0m\n",
      "\u001b[34m2022-06-24 04:21:21 INFO  DAGScheduler:54 - Missing parents: List()\u001b[0m\n",
      "\u001b[34m2022-06-24 04:21:21 INFO  DAGScheduler:54 - Submitting ResultStage 0 (MapPartitionsRDD[3] at csv at DatasetReader.scala:83), which has no missing parents\u001b[0m\n",
      "\u001b[34m2022-06-24 04:21:21 INFO  MemoryStore:54 - Block broadcast_1 stored as values in memory (estimated size 9.4 KB, free 1458.1 MB)\u001b[0m\n",
      "\u001b[34m2022-06-24 04:21:21 INFO  MemoryStore:54 - Block broadcast_1_piece0 stored as bytes in memory (estimated size 4.5 KB, free 1458.1 MB)\u001b[0m\n",
      "\u001b[34m2022-06-24 04:21:21 INFO  BlockManagerInfo:54 - Added broadcast_1_piece0 in memory on 10.2.89.123:46099 (size: 4.5 KB, free: 1458.6 MB)\u001b[0m\n",
      "\u001b[34m2022-06-24 04:21:21 INFO  SparkContext:54 - Created broadcast 1 from broadcast at DAGScheduler.scala:1039\u001b[0m\n",
      "\u001b[34m2022-06-24 04:21:21 INFO  DAGScheduler:54 - Submitting 1 missing tasks from ResultStage 0 (MapPartitionsRDD[3] at csv at DatasetReader.scala:83) (first 15 tasks are for partitions Vector(0))\u001b[0m\n",
      "\u001b[34m2022-06-24 04:21:21 INFO  YarnScheduler:54 - Adding task set 0.0 with 1 tasks\u001b[0m\n",
      "\u001b[34m2022-06-24 04:21:21 INFO  TaskSetManager:54 - Starting task 0.0 in stage 0.0 (TID 0, algo-1, executor 1, partition 0, PROCESS_LOCAL, 8362 bytes)\u001b[0m\n",
      "\u001b[34m2022-06-24 04:21:22 INFO  BlockManagerInfo:54 - Added broadcast_1_piece0 in memory on algo-1:43745 (size: 4.5 KB, free: 5.8 GB)\u001b[0m\n",
      "\u001b[34m2022-06-24 04:21:23 INFO  BlockManagerInfo:54 - Added broadcast_0_piece0 in memory on algo-1:43745 (size: 38.3 KB, free: 5.8 GB)\u001b[0m\n",
      "\u001b[34m2022-06-24 04:21:23 INFO  TaskSetManager:54 - Finished task 0.0 in stage 0.0 (TID 0) in 1862 ms on algo-1 (executor 1) (1/1)\u001b[0m\n",
      "\u001b[34m2022-06-24 04:21:23 INFO  YarnScheduler:54 - Removed TaskSet 0.0, whose tasks have all completed, from pool \u001b[0m\n",
      "\u001b[34m2022-06-24 04:21:23 INFO  DAGScheduler:54 - ResultStage 0 (csv at DatasetReader.scala:83) finished in 1.940 s\u001b[0m\n",
      "\u001b[34m2022-06-24 04:21:23 INFO  DAGScheduler:54 - Job 0 finished: csv at DatasetReader.scala:83, took 1.991064 s\u001b[0m\n",
      "\u001b[34m2022-06-24 04:21:23 INFO  FileSourceStrategy:54 - Pruning directories with: \u001b[0m\n",
      "\u001b[34m2022-06-24 04:21:23 INFO  FileSourceStrategy:54 - Post-Scan Filters: \u001b[0m\n",
      "\u001b[34m2022-06-24 04:21:23 INFO  FileSourceStrategy:54 - Output Data Schema: struct<value: string>\u001b[0m\n",
      "\u001b[34m2022-06-24 04:21:23 INFO  FileSourceScanExec:54 - Pushed Filters: \u001b[0m\n",
      "\u001b[34m2022-06-24 04:21:23 INFO  CodeGenerator:54 - Code generated in 8.615421 ms\u001b[0m\n",
      "\u001b[34m2022-06-24 04:21:23 INFO  MemoryStore:54 - Block broadcast_2 stored as values in memory (estimated size 429.7 KB, free 1457.7 MB)\u001b[0m\n",
      "\u001b[34m2022-06-24 04:21:23 INFO  MemoryStore:54 - Block broadcast_2_piece0 stored as bytes in memory (estimated size 38.3 KB, free 1457.7 MB)\u001b[0m\n",
      "\u001b[34m2022-06-24 04:21:23 INFO  BlockManagerInfo:54 - Added broadcast_2_piece0 in memory on 10.2.89.123:46099 (size: 38.3 KB, free: 1458.5 MB)\u001b[0m\n",
      "\u001b[34m2022-06-24 04:21:23 INFO  SparkContext:54 - Created broadcast 2 from csv at DatasetReader.scala:83\u001b[0m\n",
      "\u001b[34m2022-06-24 04:21:23 INFO  FileSourceScanExec:54 - Planning scan with bin packing, max size: 4194304 bytes, open cost is considered as scanning 4194304 bytes.\u001b[0m\n",
      "\u001b[34m2022-06-24 04:21:23 INFO  FileSourceStrategy:54 - Pruning directories with: \u001b[0m\n",
      "\u001b[34m2022-06-24 04:21:23 INFO  FileSourceStrategy:54 - Post-Scan Filters: \u001b[0m\n",
      "\u001b[34m2022-06-24 04:21:23 INFO  FileSourceStrategy:54 - Output Data Schema: struct<probability: string, prediction: string, label: string ... 1 more fields>\u001b[0m\n",
      "\u001b[34m2022-06-24 04:21:23 INFO  FileSourceScanExec:54 - Pushed Filters: \u001b[0m\n",
      "\u001b[34m2022-06-24 04:21:23 INFO  MemoryStore:54 - Block broadcast_3 stored as values in memory (estimated size 429.7 KB, free 1457.3 MB)\u001b[0m\n",
      "\u001b[34m2022-06-24 04:21:23 INFO  MemoryStore:54 - Block broadcast_3_piece0 stored as bytes in memory (estimated size 38.3 KB, free 1457.2 MB)\u001b[0m\n",
      "\u001b[34m2022-06-24 04:21:23 INFO  BlockManagerInfo:54 - Added broadcast_3_piece0 in memory on 10.2.89.123:46099 (size: 38.3 KB, free: 1458.5 MB)\u001b[0m\n",
      "\u001b[34m2022-06-24 04:21:23 INFO  SparkContext:54 - Created broadcast 3 from cache at DataAnalyzer.scala:78\u001b[0m\n",
      "\u001b[34m2022-06-24 04:21:23 INFO  FileSourceScanExec:54 - Planning scan with bin packing, max size: 4194304 bytes, open cost is considered as scanning 4194304 bytes.\u001b[0m\n",
      "\u001b[34m2022-06-24 04:21:23 INFO  CodeGenerator:54 - Code generated in 13.967629 ms\u001b[0m\n",
      "\u001b[34m2022-06-24 04:21:23 INFO  CodeGenerator:54 - Code generated in 14.827758 ms\u001b[0m\n",
      "\u001b[34m2022-06-24 04:21:23 INFO  SparkContext:54 - Starting job: head at DataAnalyzer.scala:81\u001b[0m\n",
      "\u001b[34m2022-06-24 04:21:23 INFO  DAGScheduler:54 - Got job 1 (head at DataAnalyzer.scala:81) with 1 output partitions\u001b[0m\n",
      "\u001b[34m2022-06-24 04:21:23 INFO  DAGScheduler:54 - Final stage: ResultStage 1 (head at DataAnalyzer.scala:81)\u001b[0m\n",
      "\u001b[34m2022-06-24 04:21:23 INFO  DAGScheduler:54 - Parents of final stage: List()\u001b[0m\n",
      "\u001b[34m2022-06-24 04:21:23 INFO  DAGScheduler:54 - Missing parents: List()\u001b[0m\n",
      "\u001b[34m2022-06-24 04:21:23 INFO  DAGScheduler:54 - Submitting ResultStage 1 (MapPartitionsRDD[17] at head at DataAnalyzer.scala:81), which has no missing parents\u001b[0m\n",
      "\u001b[34m2022-06-24 04:21:23 INFO  MemoryStore:54 - Block broadcast_4 stored as values in memory (estimated size 18.7 KB, free 1457.2 MB)\u001b[0m\n",
      "\u001b[34m2022-06-24 04:21:23 INFO  MemoryStore:54 - Block broadcast_4_piece0 stored as bytes in memory (estimated size 8.6 KB, free 1457.2 MB)\u001b[0m\n",
      "\u001b[34m2022-06-24 04:21:23 INFO  BlockManagerInfo:54 - Added broadcast_4_piece0 in memory on 10.2.89.123:46099 (size: 8.6 KB, free: 1458.5 MB)\u001b[0m\n",
      "\u001b[34m2022-06-24 04:21:23 INFO  SparkContext:54 - Created broadcast 4 from broadcast at DAGScheduler.scala:1039\u001b[0m\n",
      "\u001b[34m2022-06-24 04:21:23 INFO  DAGScheduler:54 - Submitting 1 missing tasks from ResultStage 1 (MapPartitionsRDD[17] at head at DataAnalyzer.scala:81) (first 15 tasks are for partitions Vector(0))\u001b[0m\n",
      "\u001b[34m2022-06-24 04:21:23 INFO  YarnScheduler:54 - Adding task set 1.0 with 1 tasks\u001b[0m\n",
      "\u001b[34m2022-06-24 04:21:23 INFO  TaskSetManager:54 - Starting task 0.0 in stage 1.0 (TID 1, algo-1, executor 1, partition 0, PROCESS_LOCAL, 8362 bytes)\u001b[0m\n",
      "\u001b[34m2022-06-24 04:21:23 INFO  BlockManagerInfo:54 - Added broadcast_4_piece0 in memory on algo-1:43745 (size: 8.6 KB, free: 5.8 GB)\u001b[0m\n",
      "\u001b[34m2022-06-24 04:21:23 INFO  BlockManagerInfo:54 - Added broadcast_3_piece0 in memory on algo-1:43745 (size: 38.3 KB, free: 5.8 GB)\u001b[0m\n",
      "\u001b[34m2022-06-24 04:21:23 INFO  BlockManagerInfo:54 - Added rdd_11_0 in memory on algo-1:43745 (size: 19.2 KB, free: 5.8 GB)\u001b[0m\n",
      "\u001b[34m2022-06-24 04:21:24 INFO  TaskSetManager:54 - Finished task 0.0 in stage 1.0 (TID 1) in 433 ms on algo-1 (executor 1) (1/1)\u001b[0m\n",
      "\u001b[34m2022-06-24 04:21:24 INFO  YarnScheduler:54 - Removed TaskSet 1.0, whose tasks have all completed, from pool \u001b[0m\n",
      "\u001b[34m2022-06-24 04:21:24 INFO  DAGScheduler:54 - ResultStage 1 (head at DataAnalyzer.scala:81) finished in 0.469 s\u001b[0m\n",
      "\u001b[34m2022-06-24 04:21:24 INFO  DAGScheduler:54 - Job 1 finished: head at DataAnalyzer.scala:81, took 0.476265 s\u001b[0m\n",
      "\u001b[34m2022-06-24 04:21:24 INFO  DataAnalyzer:89 - The number of columns in the dataframe is 3\u001b[0m\n",
      "\u001b[34m2022-06-24 04:21:24 INFO  DataAnalyzer:116 - Number of shards is: 1\u001b[0m\n",
      "\u001b[34m2022-06-24 04:21:24 WARN  Utils:66 - Truncated the string representation of a plan since it was too large. This behavior can be adjusted by setting 'spark.debug.maxToStringFields' in SparkEnv.conf.\u001b[0m\n",
      "\u001b[34m2022-06-24 04:21:24 INFO  CodeGenerator:54 - Code generated in 16.057614 ms\u001b[0m\n",
      "\u001b[34m2022-06-24 04:21:24 INFO  SparkContext:54 - Starting job: collect at AnalysisRunner.scala:313\u001b[0m\n",
      "\u001b[34m2022-06-24 04:21:24 INFO  DAGScheduler:54 - Registering RDD 22 (collect at AnalysisRunner.scala:313)\u001b[0m\n",
      "\u001b[34m2022-06-24 04:21:24 INFO  DAGScheduler:54 - Got job 2 (collect at AnalysisRunner.scala:313) with 1 output partitions\u001b[0m\n",
      "\u001b[34m2022-06-24 04:21:24 INFO  DAGScheduler:54 - Final stage: ResultStage 3 (collect at AnalysisRunner.scala:313)\u001b[0m\n",
      "\u001b[34m2022-06-24 04:21:24 INFO  DAGScheduler:54 - Parents of final stage: List(ShuffleMapStage 2)\u001b[0m\n",
      "\u001b[34m2022-06-24 04:21:24 INFO  DAGScheduler:54 - Missing parents: List(ShuffleMapStage 2)\u001b[0m\n",
      "\u001b[34m2022-06-24 04:21:24 INFO  DAGScheduler:54 - Submitting ShuffleMapStage 2 (MapPartitionsRDD[22] at collect at AnalysisRunner.scala:313), which has no missing parents\u001b[0m\n",
      "\u001b[34m2022-06-24 04:21:24 INFO  MemoryStore:54 - Block broadcast_5 stored as values in memory (estimated size 47.3 KB, free 1457.1 MB)\u001b[0m\n",
      "\u001b[34m2022-06-24 04:21:24 INFO  MemoryStore:54 - Block broadcast_5_piece0 stored as bytes in memory (estimated size 18.1 KB, free 1457.1 MB)\u001b[0m\n",
      "\u001b[34m2022-06-24 04:21:24 INFO  BlockManagerInfo:54 - Added broadcast_5_piece0 in memory on 10.2.89.123:46099 (size: 18.1 KB, free: 1458.5 MB)\u001b[0m\n",
      "\u001b[34m2022-06-24 04:21:24 INFO  SparkContext:54 - Created broadcast 5 from broadcast at DAGScheduler.scala:1039\u001b[0m\n",
      "\u001b[34m2022-06-24 04:21:24 INFO  DAGScheduler:54 - Submitting 1 missing tasks from ShuffleMapStage 2 (MapPartitionsRDD[22] at collect at AnalysisRunner.scala:313) (first 15 tasks are for partitions Vector(0))\u001b[0m\n",
      "\u001b[34m2022-06-24 04:21:24 INFO  YarnScheduler:54 - Adding task set 2.0 with 1 tasks\u001b[0m\n",
      "\u001b[34m2022-06-24 04:21:24 INFO  TaskSetManager:54 - Starting task 0.0 in stage 2.0 (TID 2, algo-1, executor 1, partition 0, PROCESS_LOCAL, 8351 bytes)\u001b[0m\n",
      "\u001b[34m2022-06-24 04:21:24 INFO  BlockManagerInfo:54 - Added broadcast_5_piece0 in memory on algo-1:43745 (size: 18.1 KB, free: 5.8 GB)\u001b[0m\n",
      "\u001b[34m2022-06-24 04:21:25 INFO  TaskSetManager:54 - Finished task 0.0 in stage 2.0 (TID 2) in 876 ms on algo-1 (executor 1) (1/1)\u001b[0m\n",
      "\u001b[34m2022-06-24 04:21:25 INFO  YarnScheduler:54 - Removed TaskSet 2.0, whose tasks have all completed, from pool \u001b[0m\n",
      "\u001b[34m2022-06-24 04:21:25 INFO  DAGScheduler:54 - ShuffleMapStage 2 (collect at AnalysisRunner.scala:313) finished in 0.897 s\u001b[0m\n",
      "\u001b[34m2022-06-24 04:21:25 INFO  DAGScheduler:54 - looking for newly runnable stages\u001b[0m\n",
      "\u001b[34m2022-06-24 04:21:25 INFO  DAGScheduler:54 - running: Set()\u001b[0m\n",
      "\u001b[34m2022-06-24 04:21:25 INFO  DAGScheduler:54 - waiting: Set(ResultStage 3)\u001b[0m\n",
      "\u001b[34m2022-06-24 04:21:25 INFO  DAGScheduler:54 - failed: Set()\u001b[0m\n",
      "\u001b[34m2022-06-24 04:21:25 INFO  DAGScheduler:54 - Submitting ResultStage 3 (MapPartitionsRDD[25] at collect at AnalysisRunner.scala:313), which has no missing parents\u001b[0m\n",
      "\u001b[34m2022-06-24 04:21:25 INFO  MemoryStore:54 - Block broadcast_6 stored as values in memory (estimated size 55.6 KB, free 1457.1 MB)\u001b[0m\n",
      "\u001b[34m2022-06-24 04:21:25 INFO  MemoryStore:54 - Block broadcast_6_piece0 stored as bytes in memory (estimated size 20.6 KB, free 1457.1 MB)\u001b[0m\n",
      "\u001b[34m2022-06-24 04:21:25 INFO  BlockManagerInfo:54 - Added broadcast_6_piece0 in memory on 10.2.89.123:46099 (size: 20.6 KB, free: 1458.4 MB)\u001b[0m\n",
      "\u001b[34m2022-06-24 04:21:25 INFO  SparkContext:54 - Created broadcast 6 from broadcast at DAGScheduler.scala:1039\u001b[0m\n",
      "\u001b[34m2022-06-24 04:21:25 INFO  DAGScheduler:54 - Submitting 1 missing tasks from ResultStage 3 (MapPartitionsRDD[25] at collect at AnalysisRunner.scala:313) (first 15 tasks are for partitions Vector(0))\u001b[0m\n",
      "\u001b[34m2022-06-24 04:21:25 INFO  YarnScheduler:54 - Adding task set 3.0 with 1 tasks\u001b[0m\n",
      "\u001b[34m2022-06-24 04:21:25 INFO  TaskSetManager:54 - Starting task 0.0 in stage 3.0 (TID 3, algo-1, executor 1, partition 0, NODE_LOCAL, 7765 bytes)\u001b[0m\n",
      "\u001b[34m2022-06-24 04:21:25 INFO  BlockManagerInfo:54 - Added broadcast_6_piece0 in memory on algo-1:43745 (size: 20.6 KB, free: 5.8 GB)\u001b[0m\n",
      "\u001b[34m2022-06-24 04:21:25 INFO  MapOutputTrackerMasterEndpoint:54 - Asked to send map output locations for shuffle 0 to 10.2.89.123:34610\u001b[0m\n",
      "\u001b[34m2022-06-24 04:21:25 INFO  TaskSetManager:54 - Finished task 0.0 in stage 3.0 (TID 3) in 239 ms on algo-1 (executor 1) (1/1)\u001b[0m\n",
      "\u001b[34m2022-06-24 04:21:25 INFO  YarnScheduler:54 - Removed TaskSet 3.0, whose tasks have all completed, from pool \u001b[0m\n",
      "\u001b[34m2022-06-24 04:21:25 INFO  DAGScheduler:54 - ResultStage 3 (collect at AnalysisRunner.scala:313) finished in 0.253 s\u001b[0m\n",
      "\u001b[34m2022-06-24 04:21:25 INFO  DAGScheduler:54 - Job 2 finished: collect at AnalysisRunner.scala:313, took 1.170424 s\u001b[0m\n",
      "\u001b[34m2022-06-24 04:21:25 INFO  CodeGenerator:54 - Code generated in 17.595462 ms\u001b[0m\n",
      "\u001b[34m2022-06-24 04:21:25 INFO  SparkContext:54 - Starting job: treeReduce at KLLRunner.scala:107\u001b[0m\n",
      "\u001b[34m2022-06-24 04:21:25 INFO  DAGScheduler:54 - Got job 3 (treeReduce at KLLRunner.scala:107) with 1 output partitions\u001b[0m\n",
      "\u001b[34m2022-06-24 04:21:25 INFO  DAGScheduler:54 - Final stage: ResultStage 4 (treeReduce at KLLRunner.scala:107)\u001b[0m\n",
      "\u001b[34m2022-06-24 04:21:25 INFO  DAGScheduler:54 - Parents of final stage: List()\u001b[0m\n",
      "\u001b[34m2022-06-24 04:21:25 INFO  DAGScheduler:54 - Missing parents: List()\u001b[0m\n",
      "\u001b[34m2022-06-24 04:21:25 INFO  DAGScheduler:54 - Submitting ResultStage 4 (MapPartitionsRDD[34] at treeReduce at KLLRunner.scala:107), which has no missing parents\u001b[0m\n",
      "\u001b[34m2022-06-24 04:21:25 INFO  MemoryStore:54 - Block broadcast_7 stored as values in memory (estimated size 22.8 KB, free 1457.0 MB)\u001b[0m\n",
      "\u001b[34m2022-06-24 04:21:25 INFO  MemoryStore:54 - Block broadcast_7_piece0 stored as bytes in memory (estimated size 10.4 KB, free 1457.0 MB)\u001b[0m\n",
      "\u001b[34m2022-06-24 04:21:25 INFO  BlockManagerInfo:54 - Added broadcast_7_piece0 in memory on 10.2.89.123:46099 (size: 10.4 KB, free: 1458.4 MB)\u001b[0m\n",
      "\u001b[34m2022-06-24 04:21:25 INFO  SparkContext:54 - Created broadcast 7 from broadcast at DAGScheduler.scala:1039\u001b[0m\n",
      "\u001b[34m2022-06-24 04:21:25 INFO  DAGScheduler:54 - Submitting 1 missing tasks from ResultStage 4 (MapPartitionsRDD[34] at treeReduce at KLLRunner.scala:107) (first 15 tasks are for partitions Vector(0))\u001b[0m\n",
      "\u001b[34m2022-06-24 04:21:25 INFO  YarnScheduler:54 - Adding task set 4.0 with 1 tasks\u001b[0m\n",
      "\u001b[34m2022-06-24 04:21:25 INFO  TaskSetManager:54 - Starting task 0.0 in stage 4.0 (TID 4, algo-1, executor 1, partition 0, PROCESS_LOCAL, 8362 bytes)\u001b[0m\n",
      "\u001b[34m2022-06-24 04:21:25 INFO  BlockManagerInfo:54 - Added broadcast_7_piece0 in memory on algo-1:43745 (size: 10.4 KB, free: 5.8 GB)\u001b[0m\n",
      "\u001b[34m2022-06-24 04:21:26 INFO  TaskSetManager:54 - Finished task 0.0 in stage 4.0 (TID 4) in 253 ms on algo-1 (executor 1) (1/1)\u001b[0m\n",
      "\u001b[34m2022-06-24 04:21:26 INFO  YarnScheduler:54 - Removed TaskSet 4.0, whose tasks have all completed, from pool \u001b[0m\n",
      "\u001b[34m2022-06-24 04:21:26 INFO  DAGScheduler:54 - ResultStage 4 (treeReduce at KLLRunner.scala:107) finished in 0.264 s\u001b[0m\n",
      "\u001b[34m2022-06-24 04:21:26 INFO  DAGScheduler:54 - Job 3 finished: treeReduce at KLLRunner.scala:107, took 0.268648 s\u001b[0m\n",
      "\u001b[34m2022-06-24 04:21:26 INFO  CodeGenerator:54 - Code generated in 44.705101 ms\u001b[0m\n",
      "\u001b[34m2022-06-24 04:21:26 INFO  CodeGenerator:54 - Code generated in 73.815507 ms\u001b[0m\n",
      "\u001b[34m2022-06-24 04:21:26 INFO  CodeGenerator:54 - Code generated in 52.691398 ms\u001b[0m\n",
      "\u001b[34m2022-06-24 04:21:26 INFO  SparkContext:54 - Starting job: collect at AnalysisRunner.scala:313\u001b[0m\n",
      "\u001b[34m2022-06-24 04:21:26 INFO  DAGScheduler:54 - Registering RDD 39 (collect at AnalysisRunner.scala:313)\u001b[0m\n",
      "\u001b[34m2022-06-24 04:21:26 INFO  DAGScheduler:54 - Got job 4 (collect at AnalysisRunner.scala:313) with 1 output partitions\u001b[0m\n",
      "\u001b[34m2022-06-24 04:21:26 INFO  DAGScheduler:54 - Final stage: ResultStage 6 (collect at AnalysisRunner.scala:313)\u001b[0m\n",
      "\u001b[34m2022-06-24 04:21:26 INFO  DAGScheduler:54 - Parents of final stage: List(ShuffleMapStage 5)\u001b[0m\n",
      "\u001b[34m2022-06-24 04:21:26 INFO  DAGScheduler:54 - Missing parents: List(ShuffleMapStage 5)\u001b[0m\n",
      "\u001b[34m2022-06-24 04:21:26 INFO  DAGScheduler:54 - Submitting ShuffleMapStage 5 (MapPartitionsRDD[39] at collect at AnalysisRunner.scala:313), which has no missing parents\u001b[0m\n",
      "\u001b[34m2022-06-24 04:21:26 INFO  MemoryStore:54 - Block broadcast_8 stored as values in memory (estimated size 46.1 KB, free 1457.0 MB)\u001b[0m\n",
      "\u001b[34m2022-06-24 04:21:26 INFO  MemoryStore:54 - Block broadcast_8_piece0 stored as bytes in memory (estimated size 17.6 KB, free 1457.0 MB)\u001b[0m\n",
      "\u001b[34m2022-06-24 04:21:26 INFO  BlockManagerInfo:54 - Added broadcast_8_piece0 in memory on 10.2.89.123:46099 (size: 17.6 KB, free: 1458.4 MB)\u001b[0m\n",
      "\u001b[34m2022-06-24 04:21:26 INFO  SparkContext:54 - Created broadcast 8 from broadcast at DAGScheduler.scala:1039\u001b[0m\n",
      "\u001b[34m2022-06-24 04:21:26 INFO  DAGScheduler:54 - Submitting 1 missing tasks from ShuffleMapStage 5 (MapPartitionsRDD[39] at collect at AnalysisRunner.scala:313) (first 15 tasks are for partitions Vector(0))\u001b[0m\n",
      "\u001b[34m2022-06-24 04:21:26 INFO  YarnScheduler:54 - Adding task set 5.0 with 1 tasks\u001b[0m\n",
      "\u001b[34m2022-06-24 04:21:26 INFO  TaskSetManager:54 - Starting task 0.0 in stage 5.0 (TID 5, algo-1, executor 1, partition 0, PROCESS_LOCAL, 8351 bytes)\u001b[0m\n",
      "\u001b[34m2022-06-24 04:21:26 INFO  BlockManagerInfo:54 - Added broadcast_8_piece0 in memory on algo-1:43745 (size: 17.6 KB, free: 5.8 GB)\u001b[0m\n",
      "\u001b[34m2022-06-24 04:21:26 INFO  TaskSetManager:54 - Finished task 0.0 in stage 5.0 (TID 5) in 105 ms on algo-1 (executor 1) (1/1)\u001b[0m\n",
      "\u001b[34m2022-06-24 04:21:26 INFO  YarnScheduler:54 - Removed TaskSet 5.0, whose tasks have all completed, from pool \u001b[0m\n",
      "\u001b[34m2022-06-24 04:21:26 INFO  DAGScheduler:54 - ShuffleMapStage 5 (collect at AnalysisRunner.scala:313) finished in 0.121 s\u001b[0m\n",
      "\u001b[34m2022-06-24 04:21:26 INFO  DAGScheduler:54 - looking for newly runnable stages\u001b[0m\n",
      "\u001b[34m2022-06-24 04:21:26 INFO  DAGScheduler:54 - running: Set()\u001b[0m\n",
      "\u001b[34m2022-06-24 04:21:26 INFO  DAGScheduler:54 - waiting: Set(ResultStage 6)\u001b[0m\n",
      "\u001b[34m2022-06-24 04:21:26 INFO  DAGScheduler:54 - failed: Set()\u001b[0m\n",
      "\u001b[34m2022-06-24 04:21:26 INFO  DAGScheduler:54 - Submitting ResultStage 6 (MapPartitionsRDD[42] at collect at AnalysisRunner.scala:313), which has no missing parents\u001b[0m\n",
      "\u001b[34m2022-06-24 04:21:26 INFO  MemoryStore:54 - Block broadcast_9 stored as values in memory (estimated size 35.4 KB, free 1456.9 MB)\u001b[0m\n",
      "\u001b[34m2022-06-24 04:21:26 INFO  MemoryStore:54 - Block broadcast_9_piece0 stored as bytes in memory (estimated size 12.2 KB, free 1456.9 MB)\u001b[0m\n",
      "\u001b[34m2022-06-24 04:21:26 INFO  BlockManagerInfo:54 - Added broadcast_9_piece0 in memory on 10.2.89.123:46099 (size: 12.2 KB, free: 1458.4 MB)\u001b[0m\n",
      "\u001b[34m2022-06-24 04:21:26 INFO  SparkContext:54 - Created broadcast 9 from broadcast at DAGScheduler.scala:1039\u001b[0m\n",
      "\u001b[34m2022-06-24 04:21:26 INFO  DAGScheduler:54 - Submitting 1 missing tasks from ResultStage 6 (MapPartitionsRDD[42] at collect at AnalysisRunner.scala:313) (first 15 tasks are for partitions Vector(0))\u001b[0m\n",
      "\u001b[34m2022-06-24 04:21:26 INFO  YarnScheduler:54 - Adding task set 6.0 with 1 tasks\u001b[0m\n",
      "\u001b[34m2022-06-24 04:21:26 INFO  TaskSetManager:54 - Starting task 0.0 in stage 6.0 (TID 6, algo-1, executor 1, partition 0, NODE_LOCAL, 7765 bytes)\u001b[0m\n",
      "\u001b[34m2022-06-24 04:21:26 INFO  BlockManagerInfo:54 - Added broadcast_9_piece0 in memory on algo-1:43745 (size: 12.2 KB, free: 5.8 GB)\u001b[0m\n",
      "\u001b[34m2022-06-24 04:21:26 INFO  MapOutputTrackerMasterEndpoint:54 - Asked to send map output locations for shuffle 1 to 10.2.89.123:34610\u001b[0m\n",
      "\u001b[34m2022-06-24 04:21:26 INFO  TaskSetManager:54 - Finished task 0.0 in stage 6.0 (TID 6) in 76 ms on algo-1 (executor 1) (1/1)\u001b[0m\n",
      "\u001b[34m2022-06-24 04:21:26 INFO  YarnScheduler:54 - Removed TaskSet 6.0, whose tasks have all completed, from pool \u001b[0m\n",
      "\u001b[34m2022-06-24 04:21:26 INFO  DAGScheduler:54 - ResultStage 6 (collect at AnalysisRunner.scala:313) finished in 0.087 s\u001b[0m\n",
      "\u001b[34m2022-06-24 04:21:26 INFO  DAGScheduler:54 - Job 4 finished: collect at AnalysisRunner.scala:313, took 0.218794 s\u001b[0m\n",
      "\u001b[34m2022-06-24 04:21:26 INFO  SparkContext:54 - Starting job: countByKey at ColumnProfiler.scala:566\u001b[0m\n",
      "\u001b[34m2022-06-24 04:21:26 INFO  DAGScheduler:54 - Registering RDD 49 (countByKey at ColumnProfiler.scala:566)\u001b[0m\n",
      "\u001b[34m2022-06-24 04:21:26 INFO  DAGScheduler:54 - Got job 5 (countByKey at ColumnProfiler.scala:566) with 1 output partitions\u001b[0m\n",
      "\u001b[34m2022-06-24 04:21:26 INFO  DAGScheduler:54 - Final stage: ResultStage 8 (countByKey at ColumnProfiler.scala:566)\u001b[0m\n",
      "\u001b[34m2022-06-24 04:21:26 INFO  DAGScheduler:54 - Parents of final stage: List(ShuffleMapStage 7)\u001b[0m\n",
      "\u001b[34m2022-06-24 04:21:26 INFO  DAGScheduler:54 - Missing parents: List(ShuffleMapStage 7)\u001b[0m\n",
      "\u001b[34m2022-06-24 04:21:26 INFO  DAGScheduler:54 - Submitting ShuffleMapStage 7 (MapPartitionsRDD[49] at countByKey at ColumnProfiler.scala:566), which has no missing parents\u001b[0m\n",
      "\u001b[34m2022-06-24 04:21:26 INFO  MemoryStore:54 - Block broadcast_10 stored as values in memory (estimated size 18.5 KB, free 1456.9 MB)\u001b[0m\n",
      "\u001b[34m2022-06-24 04:21:26 INFO  MemoryStore:54 - Block broadcast_10_piece0 stored as bytes in memory (estimated size 9.3 KB, free 1456.9 MB)\u001b[0m\n",
      "\u001b[34m2022-06-24 04:21:26 INFO  BlockManagerInfo:54 - Added broadcast_10_piece0 in memory on 10.2.89.123:46099 (size: 9.3 KB, free: 1458.4 MB)\u001b[0m\n",
      "\u001b[34m2022-06-24 04:21:26 INFO  SparkContext:54 - Created broadcast 10 from broadcast at DAGScheduler.scala:1039\u001b[0m\n",
      "\u001b[34m2022-06-24 04:21:26 INFO  DAGScheduler:54 - Submitting 1 missing tasks from ShuffleMapStage 7 (MapPartitionsRDD[49] at countByKey at ColumnProfiler.scala:566) (first 15 tasks are for partitions Vector(0))\u001b[0m\n",
      "\u001b[34m2022-06-24 04:21:26 INFO  YarnScheduler:54 - Adding task set 7.0 with 1 tasks\u001b[0m\n",
      "\u001b[34m2022-06-24 04:21:26 INFO  TaskSetManager:54 - Starting task 0.0 in stage 7.0 (TID 7, algo-1, executor 1, partition 0, PROCESS_LOCAL, 8351 bytes)\u001b[0m\n",
      "\u001b[34m2022-06-24 04:21:26 INFO  BlockManagerInfo:54 - Added broadcast_10_piece0 in memory on algo-1:43745 (size: 9.3 KB, free: 5.8 GB)\u001b[0m\n",
      "\u001b[34m2022-06-24 04:21:28 INFO  TaskSetManager:54 - Finished task 0.0 in stage 7.0 (TID 7) in 1224 ms on algo-1 (executor 1) (1/1)\u001b[0m\n",
      "\u001b[34m2022-06-24 04:21:28 INFO  YarnScheduler:54 - Removed TaskSet 7.0, whose tasks have all completed, from pool \u001b[0m\n",
      "\u001b[34m2022-06-24 04:21:28 INFO  DAGScheduler:54 - ShuffleMapStage 7 (countByKey at ColumnProfiler.scala:566) finished in 1.270 s\u001b[0m\n",
      "\u001b[34m2022-06-24 04:21:28 INFO  DAGScheduler:54 - looking for newly runnable stages\u001b[0m\n",
      "\u001b[34m2022-06-24 04:21:28 INFO  DAGScheduler:54 - running: Set()\u001b[0m\n",
      "\u001b[34m2022-06-24 04:21:28 INFO  DAGScheduler:54 - waiting: Set(ResultStage 8)\u001b[0m\n",
      "\u001b[34m2022-06-24 04:21:28 INFO  DAGScheduler:54 - failed: Set()\u001b[0m\n",
      "\u001b[34m2022-06-24 04:21:28 INFO  DAGScheduler:54 - Submitting ResultStage 8 (ShuffledRDD[50] at countByKey at ColumnProfiler.scala:566), which has no missing parents\u001b[0m\n",
      "\u001b[34m2022-06-24 04:21:28 INFO  MemoryStore:54 - Block broadcast_11 stored as values in memory (estimated size 3.2 KB, free 1456.9 MB)\u001b[0m\n",
      "\u001b[34m2022-06-24 04:21:28 INFO  MemoryStore:54 - Block broadcast_11_piece0 stored as bytes in memory (estimated size 1924.0 B, free 1456.9 MB)\u001b[0m\n",
      "\u001b[34m2022-06-24 04:21:28 INFO  BlockManagerInfo:54 - Added broadcast_11_piece0 in memory on 10.2.89.123:46099 (size: 1924.0 B, free: 1458.4 MB)\u001b[0m\n",
      "\u001b[34m2022-06-24 04:21:28 INFO  SparkContext:54 - Created broadcast 11 from broadcast at DAGScheduler.scala:1039\u001b[0m\n",
      "\u001b[34m2022-06-24 04:21:28 INFO  DAGScheduler:54 - Submitting 1 missing tasks from ResultStage 8 (ShuffledRDD[50] at countByKey at ColumnProfiler.scala:566) (first 15 tasks are for partitions Vector(0))\u001b[0m\n",
      "\u001b[34m2022-06-24 04:21:28 INFO  YarnScheduler:54 - Adding task set 8.0 with 1 tasks\u001b[0m\n",
      "\u001b[34m2022-06-24 04:21:28 INFO  TaskSetManager:54 - Starting task 0.0 in stage 8.0 (TID 8, algo-1, executor 1, partition 0, NODE_LOCAL, 7660 bytes)\u001b[0m\n",
      "\u001b[34m2022-06-24 04:21:28 INFO  BlockManagerInfo:54 - Added broadcast_11_piece0 in memory on algo-1:43745 (size: 1924.0 B, free: 5.8 GB)\u001b[0m\n",
      "\u001b[34m2022-06-24 04:21:28 INFO  MapOutputTrackerMasterEndpoint:54 - Asked to send map output locations for shuffle 2 to 10.2.89.123:34610\u001b[0m\n",
      "\u001b[34m2022-06-24 04:21:28 INFO  TaskSetManager:54 - Finished task 0.0 in stage 8.0 (TID 8) in 47 ms on algo-1 (executor 1) (1/1)\u001b[0m\n",
      "\u001b[34m2022-06-24 04:21:28 INFO  YarnScheduler:54 - Removed TaskSet 8.0, whose tasks have all completed, from pool \u001b[0m\n",
      "\u001b[34m2022-06-24 04:21:28 INFO  DAGScheduler:54 - ResultStage 8 (countByKey at ColumnProfiler.scala:566) finished in 0.064 s\u001b[0m\n",
      "\u001b[34m2022-06-24 04:21:28 INFO  DAGScheduler:54 - Job 5 finished: countByKey at ColumnProfiler.scala:566, took 1.356056 s\u001b[0m\n",
      "\u001b[34m2022-06-24 04:21:28 INFO  ConstraintGenerator:45 - Generating Constraints:\u001b[0m\n",
      "\n",
      "\u001b[34m2022-06-24 04:21:28 INFO  ConstraintGenerator:50 - Constraints: {\n",
      "  \"version\" : 0.0,\n",
      "  \"features\" : [ {\n",
      "    \"name\" : \"probability\",\n",
      "    \"inferred_type\" : \"Fractional\",\n",
      "    \"completeness\" : 1.0,\n",
      "    \"num_constraints\" : {\n",
      "      \"is_non_negative\" : true\n",
      "    }\n",
      "  }, {\n",
      "    \"name\" : \"prediction\",\n",
      "    \"inferred_type\" : \"Integral\",\n",
      "    \"completeness\" : 1.0,\n",
      "    \"num_constraints\" : {\n",
      "      \"is_non_negative\" : true\n",
      "    }\n",
      "  }, {\n",
      "    \"name\" : \"label\",\n",
      "    \"inferred_type\" : \"Integral\",\n",
      "    \"completeness\" : 1.0,\n",
      "    \"num_constraints\" : {\n",
      "      \"is_non_negative\" : true\n",
      "    }\n",
      "  } ],\n",
      "  \"monitoring_config\" : {\n",
      "    \"evaluate_constraints\" : \"Enabled\",\n",
      "    \"emit_metrics\" : \"Enabled\",\n",
      "    \"datatype_check_threshold\" : 1.0,\n",
      "    \"domain_content_threshold\" : 1.0,\n",
      "    \"distribution_constraints\" : {\n",
      "      \"perform_comparison\" : \"Enabled\",\n",
      "      \"comparison_threshold\" : 0.1,\n",
      "      \"comparison_method\" : \"Robust\"\n",
      "    }\n",
      "  }\u001b[0m\n",
      "\u001b[34m}\u001b[0m\n",
      "\u001b[34m2022-06-24 04:21:28 INFO  FileUtil:29 - Write to file constraints.json at path /opt/ml/processing/output.\u001b[0m\n",
      "\u001b[34m2022-06-24 04:21:28 INFO  StatsGenerator:65 - Generating Stats:\u001b[0m\n",
      "\u001b[34m2022-06-24 04:21:28 INFO  ContextCleaner:54 - Cleaned accumulator 133\u001b[0m\n",
      "\u001b[34m2022-06-24 04:21:28 INFO  ContextCleaner:54 - Cleaned accumulator 85\u001b[0m\n",
      "\u001b[34m2022-06-24 04:21:28 INFO  ContextCleaner:54 - Cleaned accumulator 184\u001b[0m\n",
      "\u001b[34m2022-06-24 04:21:28 INFO  ContextCleaner:54 - Cleaned accumulator 191\u001b[0m\n",
      "\u001b[34m2022-06-24 04:21:28 INFO  ContextCleaner:54 - Cleaned accumulator 233\u001b[0m\n",
      "\u001b[34m2022-06-24 04:21:28 INFO  ContextCleaner:54 - Cleaned accumulator 182\u001b[0m\n",
      "\u001b[34m2022-06-24 04:21:28 INFO  ContextCleaner:54 - Cleaned accumulator 104\u001b[0m\n",
      "\u001b[34m2022-06-24 04:21:28 INFO  ContextCleaner:54 - Cleaned accumulator 174\u001b[0m\n",
      "\u001b[34m2022-06-24 04:21:28 INFO  ContextCleaner:54 - Cleaned accumulator 14\u001b[0m\n",
      "\u001b[34m2022-06-24 04:21:28 INFO  ContextCleaner:54 - Cleaned accumulator 79\u001b[0m\n",
      "\u001b[34m2022-06-24 04:21:28 INFO  ContextCleaner:54 - Cleaned accumulator 190\u001b[0m\n",
      "\u001b[34m2022-06-24 04:21:28 INFO  ContextCleaner:54 - Cleaned accumulator 273\u001b[0m\n",
      "\u001b[34m2022-06-24 04:21:28 INFO  ContextCleaner:54 - Cleaned accumulator 112\u001b[0m\n",
      "\u001b[34m2022-06-24 04:21:28 INFO  ContextCleaner:54 - Cleaned accumulator 221\u001b[0m\n",
      "\u001b[34m2022-06-24 04:21:28 INFO  ContextCleaner:54 - Cleaned accumulator 111\u001b[0m\n",
      "\u001b[34m2022-06-24 04:21:28 INFO  ContextCleaner:54 - Cleaned accumulator 168\u001b[0m\n",
      "\u001b[34m2022-06-24 04:21:28 INFO  ContextCleaner:54 - Cleaned accumulator 32\u001b[0m\n",
      "\u001b[34m2022-06-24 04:21:28 INFO  ContextCleaner:54 - Cleaned accumulator 44\u001b[0m\n",
      "\u001b[34m2022-06-24 04:21:28 INFO  ContextCleaner:54 - Cleaned accumulator 97\u001b[0m\n",
      "\u001b[34m2022-06-24 04:21:28 INFO  ContextCleaner:54 - Cleaned accumulator 179\u001b[0m\n",
      "\u001b[34m2022-06-24 04:21:28 INFO  ContextCleaner:54 - Cleaned accumulator 59\u001b[0m\n",
      "\u001b[34m2022-06-24 04:21:28 INFO  ContextCleaner:54 - Cleaned accumulator 201\u001b[0m\n",
      "\u001b[34m2022-06-24 04:21:28 INFO  ContextCleaner:54 - Cleaned accumulator 71\u001b[0m\n",
      "\u001b[34m2022-06-24 04:21:28 INFO  ContextCleaner:54 - Cleaned accumulator 193\u001b[0m\n",
      "\u001b[34m2022-06-24 04:21:28 INFO  CodeGenerator:54 - Code generated in 26.101133 ms\u001b[0m\n",
      "\u001b[34m2022-06-24 04:21:28 INFO  BlockManagerInfo:54 - Removed broadcast_5_piece0 on algo-1:43745 in memory (size: 18.1 KB, free: 5.8 GB)\u001b[0m\n",
      "\u001b[34m2022-06-24 04:21:28 INFO  BlockManagerInfo:54 - Removed broadcast_5_piece0 on 10.2.89.123:46099 in memory (size: 18.1 KB, free: 1458.4 MB)\u001b[0m\n",
      "\u001b[34m2022-06-24 04:21:28 INFO  CodeGenerator:54 - Code generated in 15.210833 ms\u001b[0m\n",
      "\u001b[34m2022-06-24 04:21:28 INFO  SparkContext:54 - Starting job: count at StatsGenerator.scala:67\u001b[0m\n",
      "\u001b[34m2022-06-24 04:21:28 INFO  DAGScheduler:54 - Registering RDD 55 (count at StatsGenerator.scala:67)\u001b[0m\n",
      "\u001b[34m2022-06-24 04:21:28 INFO  DAGScheduler:54 - Got job 6 (count at StatsGenerator.scala:67) with 1 output partitions\u001b[0m\n",
      "\u001b[34m2022-06-24 04:21:28 INFO  DAGScheduler:54 - Final stage: ResultStage 10 (count at StatsGenerator.scala:67)\u001b[0m\n",
      "\u001b[34m2022-06-24 04:21:28 INFO  DAGScheduler:54 - Parents of final stage: List(ShuffleMapStage 9)\u001b[0m\n",
      "\u001b[34m2022-06-24 04:21:28 INFO  DAGScheduler:54 - Missing parents: List(ShuffleMapStage 9)\u001b[0m\n",
      "\u001b[34m2022-06-24 04:21:28 INFO  DAGScheduler:54 - Submitting ShuffleMapStage 9 (MapPartitionsRDD[55] at count at StatsGenerator.scala:67), which has no missing parents\u001b[0m\n",
      "\u001b[34m2022-06-24 04:21:28 INFO  MemoryStore:54 - Block broadcast_12 stored as values in memory (estimated size 19.6 KB, free 1456.9 MB)\u001b[0m\n",
      "\u001b[34m2022-06-24 04:21:28 INFO  MemoryStore:54 - Block broadcast_12_piece0 stored as bytes in memory (estimated size 9.3 KB, free 1456.9 MB)\u001b[0m\n",
      "\u001b[34m2022-06-24 04:21:28 INFO  BlockManagerInfo:54 - Added broadcast_12_piece0 in memory on 10.2.89.123:46099 (size: 9.3 KB, free: 1458.4 MB)\u001b[0m\n",
      "\u001b[34m2022-06-24 04:21:28 INFO  ContextCleaner:54 - Cleaned accumulator 123\u001b[0m\n",
      "\u001b[34m2022-06-24 04:21:28 INFO  ContextCleaner:54 - Cleaned accumulator 227\u001b[0m\n",
      "\u001b[34m2022-06-24 04:21:28 INFO  ContextCleaner:54 - Cleaned accumulator 144\u001b[0m\n",
      "\u001b[34m2022-06-24 04:21:28 INFO  ContextCleaner:54 - Cleaned accumulator 236\u001b[0m\n",
      "\u001b[34m2022-06-24 04:21:28 INFO  ContextCleaner:54 - Cleaned accumulator 154\u001b[0m\n",
      "\u001b[34m2022-06-24 04:21:28 INFO  SparkContext:54 - Created broadcast 12 from broadcast at DAGScheduler.scala:1039\u001b[0m\n",
      "\u001b[34m2022-06-24 04:21:28 INFO  ContextCleaner:54 - Cleaned accumulator 176\u001b[0m\n",
      "\u001b[34m2022-06-24 04:21:28 INFO  ContextCleaner:54 - Cleaned accumulator 116\u001b[0m\n",
      "\u001b[34m2022-06-24 04:21:28 INFO  ContextCleaner:54 - Cleaned accumulator 28\u001b[0m\n",
      "\u001b[34m2022-06-24 04:21:28 INFO  ContextCleaner:54 - Cleaned accumulator 64\u001b[0m\n",
      "\u001b[34m2022-06-24 04:21:28 INFO  DAGScheduler:54 - Submitting 1 missing tasks from ShuffleMapStage 9 (MapPartitionsRDD[55] at count at StatsGenerator.scala:67) (first 15 tasks are for partitions Vector(0))\u001b[0m\n",
      "\u001b[34m2022-06-24 04:21:28 INFO  ContextCleaner:54 - Cleaned accumulator 230\u001b[0m\n",
      "\u001b[34m2022-06-24 04:21:28 INFO  YarnScheduler:54 - Adding task set 9.0 with 1 tasks\u001b[0m\n",
      "\u001b[34m2022-06-24 04:21:28 INFO  ContextCleaner:54 - Cleaned accumulator 42\u001b[0m\n",
      "\u001b[34m2022-06-24 04:21:28 INFO  ContextCleaner:54 - Cleaned accumulator 258\u001b[0m\n",
      "\u001b[34m2022-06-24 04:21:28 INFO  ContextCleaner:54 - Cleaned accumulator 195\u001b[0m\n",
      "\u001b[34m2022-06-24 04:21:28 INFO  ContextCleaner:54 - Cleaned accumulator 81\u001b[0m\n",
      "\u001b[34m2022-06-24 04:21:28 INFO  ContextCleaner:54 - Cleaned accumulator 266\u001b[0m\n",
      "\u001b[34m2022-06-24 04:21:28 INFO  ContextCleaner:54 - Cleaned accumulator 210\u001b[0m\n",
      "\u001b[34m2022-06-24 04:21:28 INFO  TaskSetManager:54 - Starting task 0.0 in stage 9.0 (TID 9, algo-1, executor 1, partition 0, PROCESS_LOCAL, 8351 bytes)\u001b[0m\n",
      "\u001b[34m2022-06-24 04:21:28 INFO  ContextCleaner:54 - Cleaned accumulator 171\u001b[0m\n",
      "\u001b[34m2022-06-24 04:21:28 INFO  ContextCleaner:54 - Cleaned accumulator 237\u001b[0m\n",
      "\u001b[34m2022-06-24 04:21:28 INFO  ContextCleaner:54 - Cleaned accumulator 247\u001b[0m\n",
      "\u001b[34m2022-06-24 04:21:28 INFO  ContextCleaner:54 - Cleaned accumulator 251\u001b[0m\n",
      "\u001b[34m2022-06-24 04:21:28 INFO  ContextCleaner:54 - Cleaned accumulator 209\u001b[0m\n",
      "\u001b[34m2022-06-24 04:21:28 INFO  ContextCleaner:54 - Cleaned accumulator 248\u001b[0m\n",
      "\u001b[34m2022-06-24 04:21:28 INFO  ContextCleaner:54 - Cleaned accumulator 95\u001b[0m\n",
      "\u001b[34m2022-06-24 04:21:28 INFO  ContextCleaner:54 - Cleaned accumulator 228\u001b[0m\n",
      "\u001b[34m2022-06-24 04:21:28 INFO  ContextCleaner:54 - Cleaned accumulator 106\u001b[0m\n",
      "\u001b[34m2022-06-24 04:21:28 INFO  ContextCleaner:54 - Cleaned accumulator 256\u001b[0m\n",
      "\u001b[34m2022-06-24 04:21:28 INFO  ContextCleaner:54 - Cleaned accumulator 275\u001b[0m\n",
      "\u001b[34m2022-06-24 04:21:28 INFO  ContextCleaner:54 - Cleaned accumulator 5\u001b[0m\n",
      "\u001b[34m2022-06-24 04:21:28 INFO  ContextCleaner:54 - Cleaned accumulator 47\u001b[0m\n",
      "\u001b[34m2022-06-24 04:21:28 INFO  ContextCleaner:54 - Cleaned accumulator 27\u001b[0m\n",
      "\u001b[34m2022-06-24 04:21:28 INFO  ContextCleaner:54 - Cleaned accumulator 62\u001b[0m\n",
      "\u001b[34m2022-06-24 04:21:28 INFO  ContextCleaner:54 - Cleaned shuffle 2\u001b[0m\n",
      "\u001b[34m2022-06-24 04:21:28 INFO  ContextCleaner:54 - Cleaned accumulator 279\u001b[0m\n",
      "\u001b[34m2022-06-24 04:21:28 INFO  ContextCleaner:54 - Cleaned accumulator 124\u001b[0m\n",
      "\u001b[34m2022-06-24 04:21:28 INFO  ContextCleaner:54 - Cleaned accumulator 222\u001b[0m\n",
      "\u001b[34m2022-06-24 04:21:28 INFO  ContextCleaner:54 - Cleaned accumulator 242\u001b[0m\n",
      "\u001b[34m2022-06-24 04:21:28 INFO  ContextCleaner:54 - Cleaned accumulator 2\u001b[0m\n",
      "\u001b[34m2022-06-24 04:21:28 INFO  ContextCleaner:54 - Cleaned accumulator 219\u001b[0m\n",
      "\u001b[34m2022-06-24 04:21:28 INFO  ContextCleaner:54 - Cleaned accumulator 259\u001b[0m\n",
      "\u001b[34m2022-06-24 04:21:28 INFO  ContextCleaner:54 - Cleaned accumulator 145\u001b[0m\n",
      "\u001b[34m2022-06-24 04:21:28 INFO  ContextCleaner:54 - Cleaned accumulator 166\u001b[0m\n",
      "\u001b[34m2022-06-24 04:21:28 INFO  ContextCleaner:54 - Cleaned accumulator 187\u001b[0m\n",
      "\u001b[34m2022-06-24 04:21:28 INFO  ContextCleaner:54 - Cleaned accumulator 15\u001b[0m\n",
      "\u001b[34m2022-06-24 04:21:28 INFO  ContextCleaner:54 - Cleaned accumulator 46\u001b[0m\n",
      "\u001b[34m2022-06-24 04:21:28 INFO  ContextCleaner:54 - Cleaned accumulator 100\u001b[0m\n",
      "\u001b[34m2022-06-24 04:21:28 INFO  ContextCleaner:54 - Cleaned accumulator 117\u001b[0m\n",
      "\u001b[34m2022-06-24 04:21:28 INFO  BlockManagerInfo:54 - Added broadcast_12_piece0 in memory on algo-1:43745 (size: 9.3 KB, free: 5.8 GB)\u001b[0m\n",
      "\u001b[34m2022-06-24 04:21:28 INFO  ContextCleaner:54 - Cleaned accumulator 173\u001b[0m\n",
      "\u001b[34m2022-06-24 04:21:28 INFO  ContextCleaner:54 - Cleaned accumulator 160\u001b[0m\n",
      "\u001b[34m2022-06-24 04:21:28 INFO  ContextCleaner:54 - Cleaned accumulator 138\u001b[0m\n",
      "\u001b[34m2022-06-24 04:21:28 INFO  ContextCleaner:54 - Cleaned accumulator 20\u001b[0m\n",
      "\u001b[34m2022-06-24 04:21:28 INFO  ContextCleaner:54 - Cleaned accumulator 178\u001b[0m\n",
      "\u001b[34m2022-06-24 04:21:28 INFO  ContextCleaner:54 - Cleaned accumulator 229\u001b[0m\n",
      "\u001b[34m2022-06-24 04:21:28 INFO  ContextCleaner:54 - Cleaned accumulator 268\u001b[0m\n",
      "\u001b[34m2022-06-24 04:21:28 INFO  ContextCleaner:54 - Cleaned accumulator 185\u001b[0m\n",
      "\u001b[34m2022-06-24 04:21:28 INFO  ContextCleaner:54 - Cleaned accumulator 278\u001b[0m\n",
      "\u001b[34m2022-06-24 04:21:28 INFO  BlockManagerInfo:54 - Removed broadcast_0_piece0 on 10.2.89.123:46099 in memory (size: 38.3 KB, free: 1458.4 MB)\u001b[0m\n",
      "\u001b[34m2022-06-24 04:21:28 INFO  BlockManagerInfo:54 - Removed broadcast_0_piece0 on algo-1:43745 in memory (size: 38.3 KB, free: 5.8 GB)\u001b[0m\n",
      "\u001b[34m2022-06-24 04:21:28 INFO  ContextCleaner:54 - Cleaned accumulator 188\u001b[0m\n",
      "\u001b[34m2022-06-24 04:21:28 INFO  ContextCleaner:54 - Cleaned accumulator 241\u001b[0m\n",
      "\u001b[34m2022-06-24 04:21:28 INFO  ContextCleaner:54 - Cleaned accumulator 148\u001b[0m\n",
      "\u001b[34m2022-06-24 04:21:28 INFO  ContextCleaner:54 - Cleaned accumulator 161\u001b[0m\n",
      "\u001b[34m2022-06-24 04:21:28 INFO  ContextCleaner:54 - Cleaned accumulator 213\u001b[0m\n",
      "\u001b[34m2022-06-24 04:21:28 INFO  ContextCleaner:54 - Cleaned accumulator 146\u001b[0m\n",
      "\u001b[34m2022-06-24 04:21:28 INFO  ContextCleaner:54 - Cleaned accumulator 238\u001b[0m\n",
      "\u001b[34m2022-06-24 04:21:28 INFO  BlockManagerInfo:54 - Removed broadcast_9_piece0 on 10.2.89.123:46099 in memory (size: 12.2 KB, free: 1458.4 MB)\u001b[0m\n",
      "\u001b[34m2022-06-24 04:21:28 INFO  BlockManagerInfo:54 - Removed broadcast_9_piece0 on algo-1:43745 in memory (size: 12.2 KB, free: 5.8 GB)\u001b[0m\n",
      "\u001b[34m2022-06-24 04:21:28 INFO  ContextCleaner:54 - Cleaned accumulator 257\u001b[0m\n",
      "\u001b[34m2022-06-24 04:21:28 INFO  ContextCleaner:54 - Cleaned accumulator 84\u001b[0m\n",
      "\u001b[34m2022-06-24 04:21:28 INFO  ContextCleaner:54 - Cleaned accumulator 90\u001b[0m\n",
      "\u001b[34m2022-06-24 04:21:28 INFO  ContextCleaner:54 - Cleaned accumulator 215\u001b[0m\n",
      "\u001b[34m2022-06-24 04:21:28 INFO  ContextCleaner:54 - Cleaned accumulator 200\u001b[0m\n",
      "\u001b[34m2022-06-24 04:21:28 INFO  BlockManagerInfo:54 - Removed broadcast_11_piece0 on 10.2.89.123:46099 in memory (size: 1924.0 B, free: 1458.4 MB)\u001b[0m\n",
      "\u001b[34m2022-06-24 04:21:28 INFO  BlockManagerInfo:54 - Removed broadcast_11_piece0 on algo-1:43745 in memory (size: 1924.0 B, free: 5.8 GB)\u001b[0m\n",
      "\u001b[34m2022-06-24 04:21:28 INFO  ContextCleaner:54 - Cleaned accumulator 121\u001b[0m\n",
      "\u001b[34m2022-06-24 04:21:28 INFO  ContextCleaner:54 - Cleaned accumulator 207\u001b[0m\n",
      "\u001b[34m2022-06-24 04:21:28 INFO  ContextCleaner:54 - Cleaned accumulator 218\u001b[0m\n",
      "\u001b[34m2022-06-24 04:21:28 INFO  ContextCleaner:54 - Cleaned accumulator 246\u001b[0m\n",
      "\u001b[34m2022-06-24 04:21:28 INFO  BlockManagerInfo:54 - Removed broadcast_10_piece0 on 10.2.89.123:46099 in memory (size: 9.3 KB, free: 1458.5 MB)\u001b[0m\n",
      "\u001b[34m2022-06-24 04:21:28 INFO  BlockManagerInfo:54 - Removed broadcast_10_piece0 on algo-1:43745 in memory (size: 9.3 KB, free: 5.8 GB)\u001b[0m\n",
      "\u001b[34m2022-06-24 04:21:28 INFO  BlockManagerInfo:54 - Removed broadcast_2_piece0 on 10.2.89.123:46099 in memory (size: 38.3 KB, free: 1458.5 MB)\u001b[0m\n",
      "\u001b[34m2022-06-24 04:21:28 INFO  ContextCleaner:54 - Cleaned accumulator 21\u001b[0m\n",
      "\u001b[34m2022-06-24 04:21:28 INFO  ContextCleaner:54 - Cleaned accumulator 16\u001b[0m\n",
      "\u001b[34m2022-06-24 04:21:28 INFO  ContextCleaner:54 - Cleaned accumulator 55\u001b[0m\n",
      "\u001b[34m2022-06-24 04:21:28 INFO  ContextCleaner:54 - Cleaned accumulator 72\u001b[0m\n",
      "\u001b[34m2022-06-24 04:21:28 INFO  ContextCleaner:54 - Cleaned accumulator 92\u001b[0m\n",
      "\u001b[34m2022-06-24 04:21:28 INFO  ContextCleaner:54 - Cleaned accumulator 135\u001b[0m\n",
      "\u001b[34m2022-06-24 04:21:28 INFO  ContextCleaner:54 - Cleaned accumulator 263\u001b[0m\n",
      "\u001b[34m2022-06-24 04:21:28 INFO  ContextCleaner:54 - Cleaned accumulator 274\u001b[0m\n",
      "\u001b[34m2022-06-24 04:21:28 INFO  ContextCleaner:54 - Cleaned accumulator 58\u001b[0m\n",
      "\u001b[34m2022-06-24 04:21:28 INFO  ContextCleaner:54 - Cleaned accumulator 141\u001b[0m\n",
      "\u001b[34m2022-06-24 04:21:28 INFO  ContextCleaner:54 - Cleaned accumulator 149\u001b[0m\n",
      "\u001b[34m2022-06-24 04:21:28 INFO  ContextCleaner:54 - Cleaned accumulator 102\u001b[0m\n",
      "\u001b[34m2022-06-24 04:21:28 INFO  ContextCleaner:54 - Cleaned accumulator 127\u001b[0m\n",
      "\u001b[34m2022-06-24 04:21:28 INFO  ContextCleaner:54 - Cleaned accumulator 17\u001b[0m\n",
      "\u001b[34m2022-06-24 04:21:28 INFO  ContextCleaner:54 - Cleaned accumulator 265\u001b[0m\n",
      "\u001b[34m2022-06-24 04:21:28 INFO  ContextCleaner:54 - Cleaned accumulator 269\u001b[0m\n",
      "\u001b[34m2022-06-24 04:21:28 INFO  ContextCleaner:54 - Cleaned accumulator 25\u001b[0m\n",
      "\u001b[34m2022-06-24 04:21:28 INFO  ContextCleaner:54 - Cleaned accumulator 216\u001b[0m\n",
      "\u001b[34m2022-06-24 04:21:28 INFO  ContextCleaner:54 - Cleaned accumulator 30\u001b[0m\n",
      "\u001b[34m2022-06-24 04:21:28 INFO  ContextCleaner:54 - Cleaned accumulator 271\u001b[0m\n",
      "\u001b[34m2022-06-24 04:21:28 INFO  ContextCleaner:54 - Cleaned accumulator 9\u001b[0m\n",
      "\u001b[34m2022-06-24 04:21:28 INFO  ContextCleaner:54 - Cleaned accumulator 96\u001b[0m\n",
      "\u001b[34m2022-06-24 04:21:28 INFO  ContextCleaner:54 - Cleaned accumulator 253\u001b[0m\n",
      "\u001b[34m2022-06-24 04:21:28 INFO  ContextCleaner:54 - Cleaned accumulator 29\u001b[0m\n",
      "\u001b[34m2022-06-24 04:21:28 INFO  ContextCleaner:54 - Cleaned accumulator 214\u001b[0m\n",
      "\u001b[34m2022-06-24 04:21:28 INFO  ContextCleaner:54 - Cleaned accumulator 249\u001b[0m\n",
      "\u001b[34m2022-06-24 04:21:28 INFO  ContextCleaner:54 - Cleaned accumulator 239\u001b[0m\n",
      "\u001b[34m2022-06-24 04:21:28 INFO  ContextCleaner:54 - Cleaned accumulator 94\u001b[0m\n",
      "\u001b[34m2022-06-24 04:21:28 INFO  ContextCleaner:54 - Cleaned accumulator 235\u001b[0m\n",
      "\u001b[34m2022-06-24 04:21:28 INFO  ContextCleaner:54 - Cleaned accumulator 61\u001b[0m\n",
      "\u001b[34m2022-06-24 04:21:28 INFO  ContextCleaner:54 - Cleaned accumulator 255\u001b[0m\n",
      "\u001b[34m2022-06-24 04:21:28 INFO  ContextCleaner:54 - Cleaned accumulator 151\u001b[0m\n",
      "\u001b[34m2022-06-24 04:21:28 INFO  ContextCleaner:54 - Cleaned accumulator 63\u001b[0m\n",
      "\u001b[34m2022-06-24 04:21:28 INFO  ContextCleaner:54 - Cleaned accumulator 109\u001b[0m\n",
      "\u001b[34m2022-06-24 04:21:28 INFO  ContextCleaner:54 - Cleaned accumulator 150\u001b[0m\n",
      "\u001b[34m2022-06-24 04:21:28 INFO  ContextCleaner:54 - Cleaned accumulator 162\u001b[0m\n",
      "\u001b[34m2022-06-24 04:21:28 INFO  ContextCleaner:54 - Cleaned accumulator 6\u001b[0m\n",
      "\u001b[34m2022-06-24 04:21:28 INFO  ContextCleaner:54 - Cleaned accumulator 119\u001b[0m\n",
      "\u001b[34m2022-06-24 04:21:28 INFO  ContextCleaner:54 - Cleaned accumulator 7\u001b[0m\n",
      "\u001b[34m2022-06-24 04:21:28 INFO  ContextCleaner:54 - Cleaned accumulator 199\u001b[0m\n",
      "\u001b[34m2022-06-24 04:21:28 INFO  ContextCleaner:54 - Cleaned accumulator 181\u001b[0m\n",
      "\u001b[34m2022-06-24 04:21:28 INFO  ContextCleaner:54 - Cleaned accumulator 194\u001b[0m\n",
      "\u001b[34m2022-06-24 04:21:28 INFO  ContextCleaner:54 - Cleaned accumulator 12\u001b[0m\n",
      "\u001b[34m2022-06-24 04:21:28 INFO  ContextCleaner:54 - Cleaned accumulator 75\u001b[0m\n",
      "\u001b[34m2022-06-24 04:21:28 INFO  ContextCleaner:54 - Cleaned accumulator 208\u001b[0m\n",
      "\u001b[34m2022-06-24 04:21:28 INFO  ContextCleaner:54 - Cleaned accumulator 189\u001b[0m\n",
      "\u001b[34m2022-06-24 04:21:28 INFO  ContextCleaner:54 - Cleaned accumulator 164\u001b[0m\n",
      "\u001b[34m2022-06-24 04:21:28 INFO  ContextCleaner:54 - Cleaned accumulator 78\u001b[0m\n",
      "\u001b[34m2022-06-24 04:21:28 INFO  ContextCleaner:54 - Cleaned accumulator 77\u001b[0m\n",
      "\u001b[34m2022-06-24 04:21:28 INFO  ContextCleaner:54 - Cleaned accumulator 13\u001b[0m\n",
      "\u001b[34m2022-06-24 04:21:28 INFO  ContextCleaner:54 - Cleaned accumulator 175\u001b[0m\n",
      "\u001b[34m2022-06-24 04:21:28 INFO  ContextCleaner:54 - Cleaned accumulator 57\u001b[0m\n",
      "\u001b[34m2022-06-24 04:21:28 INFO  ContextCleaner:54 - Cleaned accumulator 24\u001b[0m\n",
      "\u001b[34m2022-06-24 04:21:28 INFO  ContextCleaner:54 - Cleaned accumulator 80\u001b[0m\n",
      "\u001b[34m2022-06-24 04:21:28 INFO  ContextCleaner:54 - Cleaned accumulator 137\u001b[0m\n",
      "\u001b[34m2022-06-24 04:21:28 INFO  ContextCleaner:54 - Cleaned accumulator 54\u001b[0m\n",
      "\u001b[34m2022-06-24 04:21:28 INFO  ContextCleaner:54 - Cleaned accumulator 3\u001b[0m\n",
      "\u001b[34m2022-06-24 04:21:28 INFO  ContextCleaner:54 - Cleaned accumulator 114\u001b[0m\n",
      "\u001b[34m2022-06-24 04:21:28 INFO  ContextCleaner:54 - Cleaned accumulator 101\u001b[0m\n",
      "\u001b[34m2022-06-24 04:21:28 INFO  ContextCleaner:54 - Cleaned accumulator 10\u001b[0m\n",
      "\u001b[34m2022-06-24 04:21:28 INFO  ContextCleaner:54 - Cleaned accumulator 98\u001b[0m\n",
      "\u001b[34m2022-06-24 04:21:28 INFO  ContextCleaner:54 - Cleaned accumulator 202\u001b[0m\n",
      "\u001b[34m2022-06-24 04:21:28 INFO  ContextCleaner:54 - Cleaned accumulator 35\u001b[0m\n",
      "\u001b[34m2022-06-24 04:21:28 INFO  ContextCleaner:54 - Cleaned accumulator 88\u001b[0m\n",
      "\u001b[34m2022-06-24 04:21:28 INFO  ContextCleaner:54 - Cleaned accumulator 167\u001b[0m\n",
      "\u001b[34m2022-06-24 04:21:28 INFO  ContextCleaner:54 - Cleaned accumulator 250\u001b[0m\n",
      "\u001b[34m2022-06-24 04:21:28 INFO  ContextCleaner:54 - Cleaned accumulator 243\u001b[0m\n",
      "\u001b[34m2022-06-24 04:21:28 INFO  ContextCleaner:54 - Cleaned accumulator 244\u001b[0m\n",
      "\u001b[34m2022-06-24 04:21:28 INFO  ContextCleaner:54 - Cleaned accumulator 126\u001b[0m\n",
      "\u001b[34m2022-06-24 04:21:28 INFO  ContextCleaner:54 - Cleaned accumulator 103\u001b[0m\n",
      "\u001b[34m2022-06-24 04:21:28 INFO  ContextCleaner:54 - Cleaned accumulator 0\u001b[0m\n",
      "\u001b[34m2022-06-24 04:21:28 INFO  ContextCleaner:54 - Cleaned accumulator 254\u001b[0m\n",
      "\u001b[34m2022-06-24 04:21:28 INFO  ContextCleaner:54 - Cleaned accumulator 272\u001b[0m\n",
      "\u001b[34m2022-06-24 04:21:28 INFO  ContextCleaner:54 - Cleaned accumulator 110\u001b[0m\n",
      "\u001b[34m2022-06-24 04:21:28 INFO  ContextCleaner:54 - Cleaned accumulator 211\u001b[0m\n",
      "\u001b[34m2022-06-24 04:21:28 INFO  ContextCleaner:54 - Cleaned accumulator 22\u001b[0m\n",
      "\u001b[34m2022-06-24 04:21:28 INFO  ContextCleaner:54 - Cleaned accumulator 83\u001b[0m\n",
      "\u001b[34m2022-06-24 04:21:28 INFO  ContextCleaner:54 - Cleaned accumulator 205\u001b[0m\n",
      "\u001b[34m2022-06-24 04:21:28 INFO  ContextCleaner:54 - Cleaned accumulator 4\u001b[0m\n",
      "\u001b[34m2022-06-24 04:21:28 INFO  ContextCleaner:54 - Cleaned accumulator 140\u001b[0m\n",
      "\u001b[34m2022-06-24 04:21:28 INFO  ContextCleaner:54 - Cleaned accumulator 270\u001b[0m\n",
      "\u001b[34m2022-06-24 04:21:28 INFO  ContextCleaner:54 - Cleaned accumulator 23\u001b[0m\n",
      "\u001b[34m2022-06-24 04:21:28 INFO  ContextCleaner:54 - Cleaned accumulator 73\u001b[0m\n",
      "\u001b[34m2022-06-24 04:21:28 INFO  ContextCleaner:54 - Cleaned accumulator 159\u001b[0m\n",
      "\u001b[34m2022-06-24 04:21:28 INFO  ContextCleaner:54 - Cleaned accumulator 220\u001b[0m\n",
      "\u001b[34m2022-06-24 04:21:28 INFO  ContextCleaner:54 - Cleaned accumulator 19\u001b[0m\n",
      "\u001b[34m2022-06-24 04:21:28 INFO  ContextCleaner:54 - Cleaned accumulator 52\u001b[0m\n",
      "\u001b[34m2022-06-24 04:21:28 INFO  ContextCleaner:54 - Cleaned accumulator 108\u001b[0m\n",
      "\u001b[34m2022-06-24 04:21:28 INFO  ContextCleaner:54 - Cleaned accumulator 49\u001b[0m\n",
      "\u001b[34m2022-06-24 04:21:28 INFO  ContextCleaner:54 - Cleaned accumulator 99\u001b[0m\n",
      "\u001b[34m2022-06-24 04:21:28 INFO  ContextCleaner:54 - Cleaned accumulator 262\u001b[0m\n",
      "\u001b[34m2022-06-24 04:21:28 INFO  ContextCleaner:54 - Cleaned accumulator 34\u001b[0m\n",
      "\u001b[34m2022-06-24 04:21:28 INFO  ContextCleaner:54 - Cleaned accumulator 180\u001b[0m\n",
      "\u001b[34m2022-06-24 04:21:28 INFO  ContextCleaner:54 - Cleaned accumulator 240\u001b[0m\n",
      "\u001b[34m2022-06-24 04:21:28 INFO  ContextCleaner:54 - Cleaned accumulator 33\u001b[0m\n",
      "\u001b[34m2022-06-24 04:21:28 INFO  ContextCleaner:54 - Cleaned accumulator 158\u001b[0m\n",
      "\u001b[34m2022-06-24 04:21:28 INFO  ContextCleaner:54 - Cleaned accumulator 18\u001b[0m\n",
      "\u001b[34m2022-06-24 04:21:28 INFO  ContextCleaner:54 - Cleaned accumulator 113\u001b[0m\n",
      "\u001b[34m2022-06-24 04:21:28 INFO  ContextCleaner:54 - Cleaned accumulator 128\u001b[0m\n",
      "\u001b[34m2022-06-24 04:21:28 INFO  ContextCleaner:54 - Cleaned accumulator 232\u001b[0m\n",
      "\u001b[34m2022-06-24 04:21:28 INFO  ContextCleaner:54 - Cleaned accumulator 172\u001b[0m\n",
      "\u001b[34m2022-06-24 04:21:28 INFO  ContextCleaner:54 - Cleaned accumulator 26\u001b[0m\n",
      "\u001b[34m2022-06-24 04:21:28 INFO  ContextCleaner:54 - Cleaned accumulator 198\u001b[0m\n",
      "\u001b[34m2022-06-24 04:21:28 INFO  BlockManagerInfo:54 - Removed broadcast_6_piece0 on 10.2.89.123:46099 in memory (size: 20.6 KB, free: 1458.5 MB)\u001b[0m\n",
      "\u001b[34m2022-06-24 04:21:28 INFO  BlockManagerInfo:54 - Removed broadcast_6_piece0 on algo-1:43745 in memory (size: 20.6 KB, free: 5.8 GB)\u001b[0m\n",
      "\u001b[34m2022-06-24 04:21:28 INFO  ContextCleaner:54 - Cleaned accumulator 129\u001b[0m\n",
      "\u001b[34m2022-06-24 04:21:28 INFO  ContextCleaner:54 - Cleaned accumulator 86\u001b[0m\n",
      "\u001b[34m2022-06-24 04:21:28 INFO  ContextCleaner:54 - Cleaned accumulator 118\u001b[0m\n",
      "\u001b[34m2022-06-24 04:21:28 INFO  ContextCleaner:54 - Cleaned accumulator 226\u001b[0m\n",
      "\u001b[34m2022-06-24 04:21:28 INFO  ContextCleaner:54 - Cleaned accumulator 245\u001b[0m\n",
      "\u001b[34m2022-06-24 04:21:28 INFO  ContextCleaner:54 - Cleaned accumulator 70\u001b[0m\n",
      "\u001b[34m2022-06-24 04:21:28 INFO  ContextCleaner:54 - Cleaned accumulator 225\u001b[0m\n",
      "\u001b[34m2022-06-24 04:21:28 INFO  ContextCleaner:54 - Cleaned accumulator 74\u001b[0m\n",
      "\u001b[34m2022-06-24 04:21:28 INFO  ContextCleaner:54 - Cleaned accumulator 76\u001b[0m\n",
      "\u001b[34m2022-06-24 04:21:28 INFO  ContextCleaner:54 - Cleaned accumulator 69\u001b[0m\n",
      "\u001b[34m2022-06-24 04:21:28 INFO  ContextCleaner:54 - Cleaned accumulator 31\u001b[0m\n",
      "\u001b[34m2022-06-24 04:21:28 INFO  ContextCleaner:54 - Cleaned accumulator 157\u001b[0m\n",
      "\u001b[34m2022-06-24 04:21:28 INFO  ContextCleaner:54 - Cleaned accumulator 45\u001b[0m\n",
      "\u001b[34m2022-06-24 04:21:28 INFO  BlockManagerInfo:54 - Removed broadcast_4_piece0 on 10.2.89.123:46099 in memory (size: 8.6 KB, free: 1458.5 MB)\u001b[0m\n",
      "\u001b[34m2022-06-24 04:21:28 INFO  BlockManagerInfo:54 - Removed broadcast_4_piece0 on algo-1:43745 in memory (size: 8.6 KB, free: 5.8 GB)\u001b[0m\n",
      "\u001b[34m2022-06-24 04:21:28 INFO  ContextCleaner:54 - Cleaned accumulator 277\u001b[0m\n",
      "\u001b[34m2022-06-24 04:21:28 INFO  ContextCleaner:54 - Cleaned accumulator 204\u001b[0m\n",
      "\u001b[34m2022-06-24 04:21:28 INFO  ContextCleaner:54 - Cleaned accumulator 51\u001b[0m\n",
      "\u001b[34m2022-06-24 04:21:28 INFO  ContextCleaner:54 - Cleaned accumulator 170\u001b[0m\n",
      "\u001b[34m2022-06-24 04:21:28 INFO  BlockManagerInfo:54 - Removed broadcast_8_piece0 on 10.2.89.123:46099 in memory (size: 17.6 KB, free: 1458.5 MB)\u001b[0m\n",
      "\u001b[34m2022-06-24 04:21:28 INFO  BlockManagerInfo:54 - Removed broadcast_8_piece0 on algo-1:43745 in memory (size: 17.6 KB, free: 5.8 GB)\u001b[0m\n",
      "\u001b[34m2022-06-24 04:21:28 INFO  ContextCleaner:54 - Cleaned accumulator 91\u001b[0m\n",
      "\u001b[34m2022-06-24 04:21:28 INFO  BlockManagerInfo:54 - Removed broadcast_1_piece0 on 10.2.89.123:46099 in memory (size: 4.5 KB, free: 1458.5 MB)\u001b[0m\n",
      "\u001b[34m2022-06-24 04:21:28 INFO  BlockManagerInfo:54 - Removed broadcast_1_piece0 on algo-1:43745 in memory (size: 4.5 KB, free: 5.8 GB)\u001b[0m\n",
      "\u001b[34m2022-06-24 04:21:28 INFO  ContextCleaner:54 - Cleaned accumulator 264\u001b[0m\n",
      "\u001b[34m2022-06-24 04:21:28 INFO  ContextCleaner:54 - Cleaned accumulator 66\u001b[0m\n",
      "\u001b[34m2022-06-24 04:21:28 INFO  ContextCleaner:54 - Cleaned shuffle 1\u001b[0m\n",
      "\u001b[34m2022-06-24 04:21:28 INFO  ContextCleaner:54 - Cleaned accumulator 206\u001b[0m\n",
      "\u001b[34m2022-06-24 04:21:28 INFO  ContextCleaner:54 - Cleaned accumulator 153\u001b[0m\n",
      "\u001b[34m2022-06-24 04:21:28 INFO  ContextCleaner:54 - Cleaned accumulator 261\u001b[0m\n",
      "\u001b[34m2022-06-24 04:21:28 INFO  ContextCleaner:54 - Cleaned accumulator 152\u001b[0m\n",
      "\u001b[34m2022-06-24 04:21:28 INFO  ContextCleaner:54 - Cleaned accumulator 136\u001b[0m\n",
      "\u001b[34m2022-06-24 04:21:28 INFO  ContextCleaner:54 - Cleaned accumulator 156\u001b[0m\n",
      "\u001b[34m2022-06-24 04:21:28 INFO  ContextCleaner:54 - Cleaned accumulator 60\u001b[0m\n",
      "\u001b[34m2022-06-24 04:21:28 INFO  ContextCleaner:54 - Cleaned accumulator 142\u001b[0m\n",
      "\u001b[34m2022-06-24 04:21:28 INFO  ContextCleaner:54 - Cleaned accumulator 276\u001b[0m\n",
      "\u001b[34m2022-06-24 04:21:28 INFO  ContextCleaner:54 - Cleaned accumulator 56\u001b[0m\n",
      "\u001b[34m2022-06-24 04:21:28 INFO  ContextCleaner:54 - Cleaned accumulator 267\u001b[0m\n",
      "\u001b[34m2022-06-24 04:21:28 INFO  ContextCleaner:54 - Cleaned accumulator 186\u001b[0m\n",
      "\u001b[34m2022-06-24 04:21:28 INFO  ContextCleaner:54 - Cleaned accumulator 169\u001b[0m\n",
      "\u001b[34m2022-06-24 04:21:28 INFO  ContextCleaner:54 - Cleaned accumulator 43\u001b[0m\n",
      "\u001b[34m2022-06-24 04:21:28 INFO  ContextCleaner:54 - Cleaned accumulator 105\u001b[0m\n",
      "\u001b[34m2022-06-24 04:21:28 INFO  ContextCleaner:54 - Cleaned accumulator 11\u001b[0m\n",
      "\u001b[34m2022-06-24 04:21:28 INFO  ContextCleaner:54 - Cleaned accumulator 131\u001b[0m\n",
      "\u001b[34m2022-06-24 04:21:28 INFO  ContextCleaner:54 - Cleaned accumulator 165\u001b[0m\n",
      "\u001b[34m2022-06-24 04:21:28 INFO  ContextCleaner:54 - Cleaned accumulator 130\u001b[0m\n",
      "\u001b[34m2022-06-24 04:21:28 INFO  ContextCleaner:54 - Cleaned accumulator 89\u001b[0m\n",
      "\u001b[34m2022-06-24 04:21:28 INFO  ContextCleaner:54 - Cleaned accumulator 1\u001b[0m\n",
      "\u001b[34m2022-06-24 04:21:28 INFO  ContextCleaner:54 - Cleaned accumulator 125\u001b[0m\n",
      "\u001b[34m2022-06-24 04:21:28 INFO  ContextCleaner:54 - Cleaned accumulator 197\u001b[0m\n",
      "\u001b[34m2022-06-24 04:21:28 INFO  ContextCleaner:54 - Cleaned accumulator 203\u001b[0m\n",
      "\u001b[34m2022-06-24 04:21:28 INFO  ContextCleaner:54 - Cleaned accumulator 122\u001b[0m\n",
      "\u001b[34m2022-06-24 04:21:28 INFO  TaskSetManager:54 - Finished task 0.0 in stage 9.0 (TID 9) in 104 ms on algo-1 (executor 1) (1/1)\u001b[0m\n",
      "\u001b[34m2022-06-24 04:21:28 INFO  BlockManagerInfo:54 - Removed broadcast_7_piece0 on 10.2.89.123:46099 in memory (size: 10.4 KB, free: 1458.6 MB)\u001b[0m\n",
      "\u001b[34m2022-06-24 04:21:28 INFO  YarnScheduler:54 - Removed TaskSet 9.0, whose tasks have all completed, from pool \u001b[0m\n",
      "\u001b[34m2022-06-24 04:21:28 INFO  DAGScheduler:54 - ShuffleMapStage 9 (count at StatsGenerator.scala:67) finished in 0.123 s\u001b[0m\n",
      "\u001b[34m2022-06-24 04:21:28 INFO  DAGScheduler:54 - looking for newly runnable stages\u001b[0m\n",
      "\u001b[34m2022-06-24 04:21:28 INFO  DAGScheduler:54 - running: Set()\u001b[0m\n",
      "\u001b[34m2022-06-24 04:21:28 INFO  DAGScheduler:54 - waiting: Set(ResultStage 10)\u001b[0m\n",
      "\u001b[34m2022-06-24 04:21:28 INFO  DAGScheduler:54 - failed: Set()\u001b[0m\n",
      "\u001b[34m2022-06-24 04:21:28 INFO  DAGScheduler:54 - Submitting ResultStage 10 (MapPartitionsRDD[58] at count at StatsGenerator.scala:67), which has no missing parents\u001b[0m\n",
      "\u001b[34m2022-06-24 04:21:28 INFO  MemoryStore:54 - Block broadcast_13 stored as values in memory (estimated size 7.4 KB, free 1458.1 MB)\u001b[0m\n",
      "\u001b[34m2022-06-24 04:21:28 INFO  BlockManagerInfo:54 - Removed broadcast_7_piece0 on algo-1:43745 in memory (size: 10.4 KB, free: 5.8 GB)\u001b[0m\n",
      "\u001b[34m2022-06-24 04:21:28 INFO  ContextCleaner:54 - Cleaned accumulator 53\u001b[0m\n",
      "\u001b[34m2022-06-24 04:21:28 INFO  ContextCleaner:54 - Cleaned shuffle 0\u001b[0m\n",
      "\u001b[34m2022-06-24 04:21:28 INFO  ContextCleaner:54 - Cleaned accumulator 155\u001b[0m\n",
      "\u001b[34m2022-06-24 04:21:28 INFO  ContextCleaner:54 - Cleaned accumulator 67\u001b[0m\n",
      "\u001b[34m2022-06-24 04:21:28 INFO  ContextCleaner:54 - Cleaned accumulator 68\u001b[0m\n",
      "\u001b[34m2022-06-24 04:21:28 INFO  ContextCleaner:54 - Cleaned accumulator 147\u001b[0m\n",
      "\u001b[34m2022-06-24 04:21:28 INFO  ContextCleaner:54 - Cleaned accumulator 234\u001b[0m\n",
      "\u001b[34m2022-06-24 04:21:28 INFO  ContextCleaner:54 - Cleaned accumulator 93\u001b[0m\n",
      "\u001b[34m2022-06-24 04:21:28 INFO  ContextCleaner:54 - Cleaned accumulator 192\u001b[0m\n",
      "\u001b[34m2022-06-24 04:21:28 INFO  ContextCleaner:54 - Cleaned accumulator 260\u001b[0m\n",
      "\u001b[34m2022-06-24 04:21:28 INFO  MemoryStore:54 - Block broadcast_13_piece0 stored as bytes in memory (estimated size 3.8 KB, free 1458.1 MB)\u001b[0m\n",
      "\u001b[34m2022-06-24 04:21:28 INFO  ContextCleaner:54 - Cleaned accumulator 217\u001b[0m\n",
      "\u001b[34m2022-06-24 04:21:28 INFO  ContextCleaner:54 - Cleaned accumulator 139\u001b[0m\n",
      "\u001b[34m2022-06-24 04:21:28 INFO  ContextCleaner:54 - Cleaned accumulator 196\u001b[0m\n",
      "\u001b[34m2022-06-24 04:21:28 INFO  ContextCleaner:54 - Cleaned accumulator 223\u001b[0m\n",
      "\u001b[34m2022-06-24 04:21:28 INFO  ContextCleaner:54 - Cleaned accumulator 8\u001b[0m\n",
      "\u001b[34m2022-06-24 04:21:28 INFO  ContextCleaner:54 - Cleaned accumulator 48\u001b[0m\n",
      "\u001b[34m2022-06-24 04:21:28 INFO  BlockManagerInfo:54 - Added broadcast_13_piece0 in memory on 10.2.89.123:46099 (size: 3.8 KB, free: 1458.5 MB)\u001b[0m\n",
      "\u001b[34m2022-06-24 04:21:28 INFO  ContextCleaner:54 - Cleaned accumulator 183\u001b[0m\n",
      "\u001b[34m2022-06-24 04:21:28 INFO  ContextCleaner:54 - Cleaned accumulator 224\u001b[0m\n",
      "\u001b[34m2022-06-24 04:21:28 INFO  ContextCleaner:54 - Cleaned accumulator 143\u001b[0m\n",
      "\u001b[34m2022-06-24 04:21:28 INFO  SparkContext:54 - Created broadcast 13 from broadcast at DAGScheduler.scala:1039\u001b[0m\n",
      "\u001b[34m2022-06-24 04:21:28 INFO  ContextCleaner:54 - Cleaned accumulator 82\u001b[0m\n",
      "\u001b[34m2022-06-24 04:21:28 INFO  ContextCleaner:54 - Cleaned accumulator 134\u001b[0m\n",
      "\u001b[34m2022-06-24 04:21:28 INFO  DAGScheduler:54 - Submitting 1 missing tasks from ResultStage 10 (MapPartitionsRDD[58] at count at StatsGenerator.scala:67) (first 15 tasks are for partitions Vector(0))\u001b[0m\n",
      "\u001b[34m2022-06-24 04:21:28 INFO  ContextCleaner:54 - Cleaned accumulator 115\u001b[0m\n",
      "\u001b[34m2022-06-24 04:21:28 INFO  ContextCleaner:54 - Cleaned accumulator 212\u001b[0m\n",
      "\u001b[34m2022-06-24 04:21:28 INFO  ContextCleaner:54 - Cleaned accumulator 231\u001b[0m\n",
      "\u001b[34m2022-06-24 04:21:28 INFO  ContextCleaner:54 - Cleaned accumulator 87\u001b[0m\n",
      "\u001b[34m2022-06-24 04:21:28 INFO  ContextCleaner:54 - Cleaned accumulator 65\u001b[0m\n",
      "\u001b[34m2022-06-24 04:21:28 INFO  ContextCleaner:54 - Cleaned accumulator 120\u001b[0m\n",
      "\u001b[34m2022-06-24 04:21:28 INFO  ContextCleaner:54 - Cleaned accumulator 177\u001b[0m\n",
      "\u001b[34m2022-06-24 04:21:28 INFO  ContextCleaner:54 - Cleaned accumulator 163\u001b[0m\n",
      "\u001b[34m2022-06-24 04:21:28 INFO  ContextCleaner:54 - Cleaned accumulator 132\u001b[0m\n",
      "\u001b[34m2022-06-24 04:21:28 INFO  ContextCleaner:54 - Cleaned accumulator 50\u001b[0m\n",
      "\u001b[34m2022-06-24 04:21:28 INFO  ContextCleaner:54 - Cleaned accumulator 107\u001b[0m\n",
      "\u001b[34m2022-06-24 04:21:28 INFO  ContextCleaner:54 - Cleaned accumulator 252\u001b[0m\n",
      "\u001b[34m2022-06-24 04:21:28 INFO  YarnScheduler:54 - Adding task set 10.0 with 1 tasks\u001b[0m\n",
      "\u001b[34m2022-06-24 04:21:28 INFO  TaskSetManager:54 - Starting task 0.0 in stage 10.0 (TID 10, algo-1, executor 1, partition 0, NODE_LOCAL, 7765 bytes)\u001b[0m\n",
      "\u001b[34m2022-06-24 04:21:28 INFO  BlockManagerInfo:54 - Added broadcast_13_piece0 in memory on algo-1:43745 (size: 3.8 KB, free: 5.8 GB)\u001b[0m\n",
      "\u001b[34m2022-06-24 04:21:28 INFO  MapOutputTrackerMasterEndpoint:54 - Asked to send map output locations for shuffle 3 to 10.2.89.123:34610\u001b[0m\n",
      "\u001b[34m2022-06-24 04:21:28 INFO  TaskSetManager:54 - Finished task 0.0 in stage 10.0 (TID 10) in 33 ms on algo-1 (executor 1) (1/1)\u001b[0m\n",
      "\u001b[34m2022-06-24 04:21:28 INFO  YarnScheduler:54 - Removed TaskSet 10.0, whose tasks have all completed, from pool \u001b[0m\n",
      "\u001b[34m2022-06-24 04:21:28 INFO  DAGScheduler:54 - ResultStage 10 (count at StatsGenerator.scala:67) finished in 0.044 s\u001b[0m\n",
      "\u001b[34m2022-06-24 04:21:28 INFO  DAGScheduler:54 - Job 6 finished: count at StatsGenerator.scala:67, took 0.173869 s\u001b[0m\n",
      "\u001b[34m2022-06-24 04:21:28 INFO  StatsGenerator:70 - Stats: {\n",
      "  \"version\" : 0.0,\n",
      "  \"dataset\" : {\n",
      "    \"item_count\" : 1000\n",
      "  },\n",
      "  \"features\" : [ {\n",
      "    \"name\" : \"probability\",\n",
      "    \"inferred_type\" : \"Fractional\",\n",
      "    \"numerical_statistics\" : {\n",
      "      \"common\" : {\n",
      "        \"num_present\" : 1000,\n",
      "        \"num_missing\" : 0\n",
      "      },\n",
      "      \"mean\" : 0.40341288129299985,\n",
      "      \"sum\" : 403.4128812929998,\n",
      "      \"std_dev\" : 0.1787491646504153,\n",
      "      \"min\" : 0.116330899,\n",
      "      \"max\" : 0.974983633,\n",
      "      \"distribution\" : {\n",
      "        \"kll\" : {\n",
      "          \"buckets\" : [ {\n",
      "            \"lower_bound\" : 0.116330899,\n",
      "            \"upper_bound\" : 0.20219617239999998,\n",
      "            \"count\" : 78.0\n",
      "          }, {\n",
      "            \"lower_bound\" : 0.20219617239999998,\n",
      "            \"upper_bound\" : 0.2880614458,\n",
      "            \"count\" : 246.0\n",
      "          }, {\n",
      "            \"lower_bound\" : 0.2880614458,\n",
      "            \"upper_bound\" : 0.3739267192,\n",
      "            \"count\" : 196.0\n",
      "          }, {\n",
      "            \"lower_bound\" : 0.3739267192,\n",
      "            \"upper_bound\" : 0.4597919926,\n",
      "            \"count\" : 170.0\n",
      "          }, {\n",
      "            \"lower_bound\" : 0.4597919926,\n",
      "            \"upper_bound\" : 0.545657266,\n",
      "            \"count\" : 114.0\n",
      "          }, {\n",
      "            \"lower_bound\" : 0.545657266,\n",
      "            \"upper_bound\" : 0.6315225394,\n",
      "            \"count\" : 72.0\n",
      "          }, {\n",
      "            \"lower_bound\" : 0.6315225394,\n",
      "            \"upper_bound\" : 0.7173878128000001,\n",
      "            \"count\" : 57.0\n",
      "          }, {\n",
      "            \"lower_bound\" : 0.7173878128000001,\n",
      "            \"upper_bound\" : 0.8032530862,\n",
      "            \"count\" : 27.0\n",
      "          }, {\n",
      "            \"lower_bound\" : 0.8032530862,\n",
      "            \"upper_bound\" : 0.8891183596,\n",
      "            \"count\" : 23.0\n",
      "          }, {\n",
      "            \"lower_bound\" : 0.8891183596,\n",
      "            \"upper_bound\" : 0.974983633,\n",
      "            \"count\" : 17.0\n",
      "          } ],\n",
      "          \"sketch\" : {\n",
      "            \"parameters\" : {\n",
      "              \"c\" : 0.64,\n",
      "              \"k\" : 2048.0\n",
      "            },\n",
      "            \"data\" : [ [ 0.418848723, 0.293665916, 0.476312459, 0.483943522, 0.410109401, 0.624471903, 0.523709118, 0.239331245, 0.548113883, 0.369846463, 0.292844415, 0.50456816, 0.293200314, 0.267177582, 0.216894925, 0.344905525, 0.851576746, 0.271482378, 0.651951551, 0.183913559, 0.325387508, 0.421927303, 0.493726581, 0.232849985, 0.363254249, 0.368751049, 0.287786752, 0.340564281, 0.435965121, 0.575205147, 0.235148728, 0.609551966, 0.282651097, 0.338344336, 0.878485262, 0.346691698, 0.468646169, 0.378560752, 0.298237175, 0.464714557, 0.250745386, 0.381572276, 0.476401508, 0.187947407, 0.370313525, 0.358341604, 0.643788218, 0.640482724, 0.42433852, 0.170261577, 0.523758292, 0.598247468, 0.208859533, 0.351207763, 0.829541624, 0.214716122, 0.23381342, 0.682211876, 0.266819239, 0.239991859, 0.258536488, 0.429027498, 0.868509293, 0.330089688, 0.655138671, 0.281656146, 0.811240375, 0.434923649, 0.578949094, 0.242265925, 0.243808046, 0.247460738, 0.410413682, 0.528194368, 0.871230185, 0.279762596, 0.282310456, 0.487734, 0.386911362, 0.269069135, 0.312151253, 0.520032167, 0.252642751, 0.448103249, 0.148582533, 0.340941727, 0.399705768, 0.536146164, 0.350343943, 0.296602428, 0.267973661, 0.216545939, 0.475609, 0.498921216, 0.348315328, 0.912091374, 0.551793396, 0.201527223, 0.286538035, 0.231711611, 0.59507972, 0.326806039, 0.259976596, 0.319868, 0.567851305, 0.265807271, 0.38297987, 0.574195623, 0.452546239, 0.770252705, 0.346398324, 0.257846802, 0.461214453, 0.445994884, 0.290954351, 0.277400702, 0.272815734, 0.595172286, 0.258941799, 0.23525241, 0.389353573, 0.225635141, 0.427377462, 0.598096728, 0.397716641, 0.28252846, 0.31573841, 0.271513462, 0.19396548, 0.5011186, 0.265394837, 0.825985551, 0.177528411, 0.619451642, 0.445232958, 0.48367247, 0.253903747, 0.600025952, 0.685965896, 0.167844772, 0.157042906, 0.529797912, 0.423751116, 0.628467441, 0.32799235, 0.500041306, 0.207908809, 0.358974367, 0.536148727, 0.22493124, 0.644522965, 0.386681408, 0.195704639, 0.489392668, 0.409365714, 0.192920536, 0.502434969, 0.219855264, 0.552064359, 0.136709094, 0.188574821, 0.31806016, 0.410416812, 0.555777371, 0.268553704, 0.423581302, 0.585971773, 0.23768048, 0.361221731, 0.27602452, 0.719144344, 0.892804801, 0.77096051, 0.428669572, 0.306012511, 0.41704455, 0.365992278, 0.24474442, 0.452920586, 0.457217604, 0.336870879, 0.429868221, 0.504076719, 0.412692398, 0.187679559, 0.333300829, 0.241646096, 0.636694968, 0.565056622, 0.277504534, 0.388978243, 0.336117685, 0.290519655, 0.426360965, 0.391892, 0.302841395, 0.275462925, 0.219302014, 0.43448928, 0.401176959, 0.513888359, 0.252335548, 0.406016, 0.408894718, 0.425216973, 0.264705271, 0.387301683, 0.411179572, 0.479664415, 0.276322126, 0.242536753, 0.199102402, 0.276138604, 0.249519527, 0.121153578, 0.380458921, 0.23030664, 0.335467488, 0.116330899, 0.406963766, 0.334753424, 0.266638517, 0.509322941, 0.203534812, 0.145931125, 0.494177341, 0.464392781, 0.418126702, 0.315652907, 0.510070503, 0.503395796, 0.265211523, 0.406219959, 0.454827189, 0.494133562, 0.18081975, 0.2035366, 0.263740361, 0.293982595, 0.452320784, 0.260147929, 0.477207541, 0.217111036, 0.334973335, 0.372455865, 0.238345042, 0.863945603, 0.227556109, 0.864571571, 0.315955192, 0.551475286, 0.152202368, 0.778192282, 0.473818839, 0.737027586, 0.302129, 0.236671224, 0.824712813, 0.421716452, 0.681229, 0.342457473, 0.577817798, 0.217214271, 0.614860177, 0.421092927, 0.418414831, 0.413189471, 0.328931242, 0.50268966, 0.228047118, 0.341876715, 0.442577541, 0.885966122, 0.19828108, 0.349224955, 0.350442052, 0.382972747, 0.743622482, 0.222977743, 0.33445546, 0.306663841, 0.261603028, 0.350072592, 0.459586948, 0.559620559, 0.309376508, 0.630086899, 0.248878106, 0.276541919, 0.243690133, 0.406644344, 0.206690356, 0.442344099, 0.971702337, 0.970519781, 0.337850481, 0.424085051, 0.22130096, 0.158260837, 0.200101674, 0.279640496, 0.179042175, 0.307847977, 0.247198969, 0.21623145, 0.431269407, 0.462580889, 0.683483303, 0.12381006, 0.693369806, 0.276984572, 0.643822372, 0.309344649, 0.347572923, 0.800088763, 0.436424553, 0.263872683, 0.440732569, 0.370065063, 0.222948804, 0.213142172, 0.425102949, 0.654597878, 0.379064798, 0.424131453, 0.565064907, 0.259089798, 0.37253046, 0.778175175, 0.387022078, 0.541121483, 0.245441526, 0.247678816, 0.522105396, 0.502214432, 0.344897032, 0.185214385, 0.262228698, 0.392269641, 0.547066629, 0.416247666, 0.303861588, 0.709318638, 0.407060146, 0.441638798, 0.224441439, 0.25723514, 0.388330251, 0.354005545, 0.278093129, 0.240654126, 0.233489215, 0.280323774, 0.277167261, 0.735175312, 0.404026598, 0.203407362, 0.26924783, 0.246548653, 0.652216196, 0.438066691, 0.3762905, 0.564664245, 0.233878732, 0.376096845, 0.250596553, 0.382467896, 0.270046413, 0.266667604, 0.460635185, 0.776658952, 0.763371825, 0.324801981, 0.608839273, 0.291944802, 0.497557342, 0.434286982, 0.206371516, 0.303530186, 0.31868428, 0.797450304, 0.251106322, 0.276865453, 0.566807389, 0.363054574, 0.645142317, 0.512139261, 0.181993812, 0.448376477, 0.323152333, 0.393448442, 0.637779176, 0.632901669, 0.530625165, 0.461919308, 0.330977172, 0.320823699, 0.152320057, 0.646211743, 0.21150136, 0.411349535, 0.306182742, 0.376528114, 0.381641269, 0.232664511, 0.587545097, 0.556668699, 0.282640517, 0.627645135, 0.674284816, 0.347728789, 0.399501234, 0.152410686, 0.283428639, 0.366011292, 0.306280762, 0.213979498, 0.496960402, 0.479975522, 0.373575062, 0.504967928, 0.23213768, 0.506592, 0.165950879, 0.724705577, 0.316739261, 0.459723324, 0.133778885, 0.302861631, 0.291019976, 0.319622219, 0.279124111, 0.467471689, 0.318709731, 0.283954591, 0.446339369, 0.571107268, 0.34567523, 0.695871651, 0.30688712, 0.468711913, 0.259418935, 0.584166765, 0.467887402, 0.974983633, 0.28669247, 0.22675474, 0.747327507, 0.406755149, 0.405377537, 0.265739948, 0.46822387, 0.260345936, 0.70259887, 0.678064406, 0.194282845, 0.212104842, 0.393136919, 0.556010246, 0.454957038, 0.332258046, 0.341294974, 0.638835728, 0.497988135, 0.298877865, 0.517979741, 0.59874934, 0.203876853, 0.292091846, 0.762959361, 0.206434816, 0.832501173, 0.235335708, 0.58685, 0.375731707, 0.286191493, 0.381906807, 0.330360472, 0.295595855, 0.207989663, 0.32003668, 0.245910466, 0.278430074, 0.751270473, 0.449367583, 0.263843745, 0.262424141, 0.539189458, 0.323118746, 0.165432587, 0.50075841, 0.499772817, 0.25262782, 0.486844271, 0.525884271, 0.361186206, 0.192818448, 0.245940611, 0.24075599, 0.370445, 0.488988072, 0.493673623, 0.2176494, 0.352551669, 0.225992128, 0.377260953, 0.449764073, 0.190520138, 0.467329592, 0.236562297, 0.269785732, 0.907658815, 0.167734087, 0.229330257, 0.156152159, 0.94152844, 0.876650512, 0.225360617, 0.452697575, 0.814825118, 0.359589607, 0.211204246, 0.513829529, 0.458456665, 0.22861436, 0.366957486, 0.300997496, 0.236101687, 0.176432908, 0.354658306, 0.221871778, 0.219309583, 0.68188417, 0.484580606, 0.259941518, 0.148754254, 0.334922105, 0.437546819, 0.270828962, 0.882291079, 0.360019624, 0.65713793, 0.661955, 0.259787261, 0.507938147, 0.437601238, 0.219734132, 0.290271878, 0.34319225, 0.617050469, 0.315123886, 0.361404419, 0.566660523, 0.286961585, 0.265331268, 0.421784312, 0.834122181, 0.156896859, 0.617278159, 0.261076421, 0.506292403, 0.938337326, 0.32180655, 0.282995075, 0.470429838, 0.490503401, 0.341086864, 0.330515027, 0.311909735, 0.23180607, 0.289343685, 0.36206913, 0.344574064, 0.215221196, 0.368567228, 0.316364408, 0.301316142, 0.327857763, 0.214328825, 0.625074267, 0.679888189, 0.583323836, 0.438684046, 0.365570098, 0.342547238, 0.261018634, 0.338327885, 0.239917725, 0.604149222, 0.29269895, 0.483064145, 0.57384181, 0.346602559, 0.215934604, 0.187610447, 0.339582086, 0.708788335, 0.279614806, 0.721445262, 0.475396514, 0.382991076, 0.249234527, 0.557321966, 0.489579439, 0.135230973, 0.375641406, 0.901593804, 0.236280695, 0.196592614, 0.616109431, 0.361854106, 0.545237362, 0.408786476, 0.391892701, 0.630368888, 0.301320642, 0.319660217, 0.542916119, 0.23012799, 0.686128557, 0.182437792, 0.253223866, 0.27590394, 0.258578897, 0.309794188, 0.453230768, 0.375789583, 0.364345104, 0.246098533, 0.358214796, 0.420942, 0.205416396, 0.352408767, 0.436213195, 0.538504303, 0.896609962, 0.255219638, 0.378091365, 0.181871623, 0.329931974, 0.388324797, 0.821254611, 0.366250098, 0.197007746, 0.305432349, 0.266759843, 0.297491193, 0.172925681, 0.441599309, 0.74600637, 0.289058954, 0.506388545, 0.679396391, 0.504748, 0.523458958, 0.531956255, 0.224217191, 0.223568678, 0.224727035, 0.212063193, 0.409945667, 0.193570957, 0.949250817, 0.322590888, 0.272882164, 0.230430976, 0.715526164, 0.183435053, 0.554181457, 0.197597221, 0.557678342, 0.384795099, 0.426565349, 0.683727384, 0.450573981, 0.279138863, 0.29912132, 0.296779186, 0.510870278, 0.392614722, 0.242854133, 0.704296827, 0.199181065, 0.23955299, 0.306056708, 0.453213841, 0.656057537, 0.226494953, 0.223378897, 0.677468717, 0.559323, 0.281246841, 0.447954029, 0.439666182, 0.67742759, 0.372618854, 0.234696671, 0.922109127, 0.769654334, 0.184892938, 0.398750931, 0.226730734, 0.325148851, 0.322110385, 0.472039372, 0.749021292, 0.4428581, 0.48420161, 0.175304, 0.313088715, 0.374591, 0.219785586, 0.180827036, 0.239575982, 0.628193796, 0.39307639, 0.468840748, 0.477138817, 0.931548893, 0.355335087, 0.237915516, 0.294745862, 0.378888845, 0.279978216, 0.395300418, 0.223959789, 0.923239887, 0.196454838, 0.22214514, 0.719670534, 0.392017335, 0.376581401, 0.323844463, 0.679337084, 0.138712227, 0.406463861, 0.528251469, 0.218267262, 0.199942037, 0.300487489, 0.516588926, 0.276537597, 0.437375814, 0.585950494, 0.421710223, 0.188390851, 0.375101566, 0.437781364, 0.226431802, 0.803842425, 0.528526604, 0.594127059, 0.249792457, 0.16458, 0.261976182, 0.277749956, 0.362741202, 0.164432183, 0.322192162, 0.256186455, 0.28515172, 0.808338881, 0.286332697, 0.488711, 0.273758084, 0.314778119, 0.338017285, 0.179648221, 0.261215806, 0.359404564, 0.411300361, 0.441893339, 0.177476302, 0.307805032, 0.538170338, 0.442968607, 0.646842837, 0.401426911, 0.677313209, 0.213430718, 0.714821875, 0.448917568, 0.158124298, 0.44654423, 0.188524172, 0.430756032, 0.390858173, 0.592645466, 0.234915748, 0.184714943, 0.247140095, 0.309035629, 0.223490268, 0.311931878, 0.690274119, 0.195833832, 0.594141603, 0.203774676, 0.568744779, 0.360870391, 0.724709451, 0.601435781, 0.473557353, 0.232684135, 0.22296153, 0.377600789, 0.468772978, 0.456567615, 0.253412962, 0.714218438, 0.573746, 0.674932, 0.426799983, 0.540172696, 0.263723165, 0.247139156, 0.358091205, 0.382556498, 0.198206484, 0.525911331, 0.432510674, 0.302728176, 0.236228526, 0.854673505, 0.502978146, 0.429255694, 0.296558022, 0.226443961, 0.288069516, 0.489348352, 0.347985804, 0.357720017, 0.323277742, 0.17788595, 0.211409897, 0.427445143, 0.355805278, 0.463777512, 0.272961438, 0.32897982, 0.648771703, 0.179018334, 0.379600853, 0.278692514, 0.423796415, 0.351688296, 0.662601292, 0.367117137, 0.338212729, 0.63998872, 0.369933248, 0.533061683, 0.237799436, 0.456979066, 0.240860343, 0.506759226, 0.312930226, 0.534674704, 0.345059663, 0.431578845, 0.36481142, 0.249789298, 0.269121587, 0.52904, 0.520870149, 0.373680025, 0.316549212, 0.357807398, 0.320442051, 0.864484847, 0.262694329, 0.324525476, 0.220417857, 0.297169328, 0.421301454, 0.744941473, 0.551001608, 0.154078498, 0.30198437, 0.339257687, 0.282811642, 0.208737552, 0.764402628, 0.918332398, 0.379004747, 0.259583831, 0.541921854, 0.427912682, 0.647552, 0.514559209, 0.331365436, 0.704231918, 0.397923797, 0.371472865, 0.424538493, 0.266424686, 0.246985018, 0.656318724, 0.716199338, 0.669373, 0.235510722, 0.147894561, 0.231188804, 0.524259508, 0.625703633, 0.192456603, 0.331694365, 0.453880519, 0.934265792, 0.210748151, 0.45951733, 0.473459631, 0.497609824, 0.58524245, 0.591177762, 0.169909388, 0.430387974, 0.871589, 0.485530347, 0.243512884, 0.195541888, 0.527128279, 0.537183642, 0.167992294, 0.363076508, 0.705949306, 0.266885549, 0.334312201, 0.430004478, 0.733123183, 0.193744197, 0.782973945, 0.26134, 0.389306813, 0.475315869, 0.300770849, 0.279208779, 0.339058429, 0.319984257, 0.626237214, 0.257766515, 0.45776388, 0.421804965, 0.27358669, 0.530700386, 0.213072479, 0.556205928, 0.627941608, 0.335250646, 0.563461542, 0.461197197, 0.528976262, 0.264336199, 0.287390918, 0.279174238, 0.346428305, 0.277235091, 0.407405823, 0.229733899, 0.677534699, 0.378382146, 0.336470485, 0.533471286, 0.319141597, 0.642855406, 0.39663887, 0.304883, 0.366670072, 0.259058982, 0.289966285, 0.295259833, 0.334362388, 0.588455796, 0.179147, 0.395279229, 0.177497387, 0.581228614, 0.594088197, 0.276320815, 0.970806658, 0.282486826, 0.375376046, 0.239996329, 0.737169623, 0.51052016, 0.622557759, 0.407078385, 0.880877554, 0.24206239, 0.547715366, 0.25143978, 0.629388154, 0.384152085, 0.680161238, 0.360646069, 0.415466815, 0.397571385, 0.208854437, 0.639857829, 0.237824515 ] ]\n",
      "          }\n",
      "        }\n",
      "      }\n",
      "    }\n",
      "  }, {\n",
      "    \"name\" : \"prediction\",\n",
      "    \"inferred_type\" : \"Integral\",\n",
      "    \"numerical_statistics\" : {\n",
      "      \"common\" : {\n",
      "        \"num_present\" : 1000,\n",
      "        \"num_missing\" : 0\n",
      "      },\n",
      "      \"mean\" : 5.209,\n",
      "      \"sum\" : 5209.0,\n",
      "      \"std_dev\" : 2.7905768220925227,\n",
      "      \"min\" : 0.0,\n",
      "      \"max\" : 9.0,\n",
      "      \"distribution\" : {\n",
      "        \"kll\" : {\n",
      "          \"buckets\" : [ {\n",
      "            \"lower_bound\" : 0.0,\n",
      "            \"upper_bound\" : 0.9,\n",
      "            \"count\" : 75.0\n",
      "          }, {\n",
      "            \"lower_bound\" : 0.9,\n",
      "            \"upper_bound\" : 1.8,\n",
      "            \"count\" : 78.0\n",
      "          }, {\n",
      "            \"lower_bound\" : 1.8,\n",
      "            \"upper_bound\" : 2.7,\n",
      "            \"count\" : 49.0\n",
      "          }, {\n",
      "            \"lower_bound\" : 2.7,\n",
      "            \"upper_bound\" : 3.6,\n",
      "            \"count\" : 87.0\n",
      "          }, {\n",
      "            \"lower_bound\" : 3.6,\n",
      "            \"upper_bound\" : 4.5,\n",
      "            \"count\" : 52.0\n",
      "          }, {\n",
      "            \"lower_bound\" : 4.5,\n",
      "            \"upper_bound\" : 5.4,\n",
      "            \"count\" : 177.0\n",
      "          }, {\n",
      "            \"lower_bound\" : 5.4,\n",
      "            \"upper_bound\" : 6.3,\n",
      "            \"count\" : 71.0\n",
      "          }, {\n",
      "            \"lower_bound\" : 6.3,\n",
      "            \"upper_bound\" : 7.2,\n",
      "            \"count\" : 171.0\n",
      "          }, {\n",
      "            \"lower_bound\" : 7.2,\n",
      "            \"upper_bound\" : 8.1,\n",
      "            \"count\" : 104.0\n",
      "          }, {\n",
      "            \"lower_bound\" : 8.1,\n",
      "            \"upper_bound\" : 9.0,\n",
      "            \"count\" : 136.0\n",
      "          } ],\n",
      "          \"sketch\" : {\n",
      "            \"parameters\" : {\n",
      "              \"c\" : 0.64,\n",
      "              \"k\" : 2048.0\n",
      "            },\n",
      "            \"data\" : [ [ 7.0, 1.0, 5.0, 8.0, 0.0, 9.0, 1.0, 1.0, 9.0, 8.0, 5.0, 9.0, 9.0, 2.0, 7.0, 5.0, 7.0, 3.0, 8.0, 5.0, 7.0, 5.0, 7.0, 3.0, 8.0, 5.0, 5.0, 8.0, 4.0, 6.0, 9.0, 7.0, 3.0, 2.0, 5.0, 7.0, 9.0, 7.0, 2.0, 0.0, 4.0, 8.0, 5.0, 4.0, 3.0, 6.0, 8.0, 1.0, 5.0, 7.0, 5.0, 7.0, 7.0, 8.0, 8.0, 3.0, 5.0, 0.0, 2.0, 5.0, 4.0, 1.0, 8.0, 3.0, 8.0, 6.0, 8.0, 8.0, 1.0, 5.0, 7.0, 3.0, 6.0, 7.0, 8.0, 7.0, 1.0, 1.0, 1.0, 9.0, 9.0, 4.0, 7.0, 7.0, 7.0, 0.0, 1.0, 6.0, 6.0, 5.0, 9.0, 0.0, 8.0, 9.0, 8.0, 7.0, 8.0, 2.0, 0.0, 1.0, 0.0, 9.0, 5.0, 5.0, 8.0, 0.0, 9.0, 5.0, 7.0, 8.0, 8.0, 3.0, 9.0, 1.0, 1.0, 3.0, 7.0, 1.0, 3.0, 1.0, 8.0, 2.0, 4.0, 7.0, 5.0, 7.0, 3.0, 1.0, 2.0, 5.0, 3.0, 8.0, 7.0, 5.0, 9.0, 5.0, 7.0, 7.0, 5.0, 8.0, 7.0, 7.0, 6.0, 9.0, 9.0, 6.0, 5.0, 5.0, 7.0, 5.0, 0.0, 6.0, 5.0, 7.0, 7.0, 6.0, 8.0, 9.0, 0.0, 7.0, 9.0, 5.0, 7.0, 0.0, 5.0, 5.0, 9.0, 3.0, 9.0, 4.0, 5.0, 7.0, 8.0, 4.0, 6.0, 7.0, 1.0, 4.0, 7.0, 9.0, 7.0, 5.0, 5.0, 9.0, 5.0, 5.0, 7.0, 0.0, 7.0, 2.0, 9.0, 3.0, 4.0, 3.0, 8.0, 0.0, 7.0, 2.0, 0.0, 9.0, 1.0, 6.0, 6.0, 5.0, 8.0, 7.0, 1.0, 8.0, 7.0, 2.0, 4.0, 0.0, 5.0, 2.0, 9.0, 8.0, 6.0, 3.0, 3.0, 9.0, 4.0, 3.0, 7.0, 0.0, 9.0, 5.0, 5.0, 5.0, 3.0, 7.0, 5.0, 0.0, 5.0, 0.0, 5.0, 8.0, 7.0, 3.0, 4.0, 5.0, 3.0, 0.0, 2.0, 0.0, 5.0, 3.0, 7.0, 1.0, 0.0, 8.0, 5.0, 5.0, 0.0, 1.0, 7.0, 5.0, 9.0, 0.0, 2.0, 7.0, 7.0, 8.0, 5.0, 0.0, 4.0, 0.0, 8.0, 5.0, 9.0, 9.0, 6.0, 7.0, 1.0, 8.0, 3.0, 5.0, 3.0, 8.0, 5.0, 4.0, 7.0, 6.0, 0.0, 1.0, 5.0, 3.0, 0.0, 2.0, 5.0, 7.0, 0.0, 9.0, 5.0, 8.0, 7.0, 8.0, 0.0, 5.0, 7.0, 4.0, 4.0, 9.0, 7.0, 9.0, 6.0, 7.0, 5.0, 6.0, 2.0, 5.0, 7.0, 8.0, 1.0, 3.0, 5.0, 9.0, 2.0, 7.0, 6.0, 3.0, 3.0, 5.0, 0.0, 1.0, 9.0, 5.0, 8.0, 7.0, 9.0, 5.0, 5.0, 7.0, 7.0, 1.0, 1.0, 1.0, 6.0, 6.0, 6.0, 5.0, 1.0, 9.0, 7.0, 9.0, 7.0, 5.0, 1.0, 7.0, 9.0, 4.0, 5.0, 3.0, 2.0, 3.0, 5.0, 1.0, 4.0, 5.0, 5.0, 8.0, 9.0, 5.0, 9.0, 6.0, 9.0, 5.0, 8.0, 9.0, 9.0, 3.0, 8.0, 0.0, 5.0, 9.0, 1.0, 7.0, 3.0, 9.0, 3.0, 1.0, 8.0, 7.0, 3.0, 9.0, 3.0, 0.0, 9.0, 2.0, 9.0, 0.0, 1.0, 8.0, 8.0, 9.0, 5.0, 3.0, 6.0, 2.0, 7.0, 6.0, 9.0, 8.0, 0.0, 4.0, 5.0, 8.0, 0.0, 2.0, 5.0, 8.0, 2.0, 0.0, 6.0, 5.0, 6.0, 5.0, 6.0, 9.0, 5.0, 5.0, 6.0, 3.0, 5.0, 3.0, 6.0, 7.0, 7.0, 4.0, 4.0, 6.0, 2.0, 5.0, 5.0, 2.0, 7.0, 9.0, 1.0, 7.0, 8.0, 4.0, 8.0, 3.0, 1.0, 8.0, 7.0, 4.0, 6.0, 1.0, 7.0, 5.0, 2.0, 7.0, 5.0, 9.0, 7.0, 3.0, 9.0, 2.0, 1.0, 4.0, 6.0, 6.0, 9.0, 5.0, 9.0, 1.0, 7.0, 8.0, 7.0, 5.0, 9.0, 8.0, 3.0, 7.0, 0.0, 3.0, 4.0, 9.0, 1.0, 4.0, 1.0, 7.0, 2.0, 0.0, 5.0, 6.0, 5.0, 8.0, 5.0, 0.0, 2.0, 1.0, 5.0, 5.0, 7.0, 3.0, 5.0, 1.0, 9.0, 5.0, 9.0, 7.0, 3.0, 7.0, 7.0, 7.0, 1.0, 5.0, 7.0, 8.0, 7.0, 8.0, 4.0, 3.0, 9.0, 5.0, 6.0, 3.0, 4.0, 7.0, 9.0, 8.0, 7.0, 6.0, 6.0, 5.0, 9.0, 2.0, 7.0, 1.0, 7.0, 4.0, 8.0, 5.0, 9.0, 3.0, 5.0, 9.0, 4.0, 8.0, 5.0, 5.0, 7.0, 9.0, 8.0, 9.0, 7.0, 6.0, 5.0, 9.0, 2.0, 6.0, 1.0, 5.0, 7.0, 4.0, 8.0, 3.0, 8.0, 5.0, 0.0, 7.0, 9.0, 5.0, 9.0, 2.0, 7.0, 6.0, 7.0, 7.0, 2.0, 5.0, 5.0, 7.0, 3.0, 3.0, 3.0, 7.0, 9.0, 1.0, 8.0, 5.0, 9.0, 7.0, 0.0, 3.0, 0.0, 8.0, 5.0, 9.0, 9.0, 5.0, 8.0, 3.0, 3.0, 1.0, 5.0, 7.0, 5.0, 9.0, 7.0, 3.0, 9.0, 9.0, 7.0, 9.0, 8.0, 4.0, 2.0, 5.0, 5.0, 5.0, 9.0, 7.0, 9.0, 9.0, 8.0, 1.0, 5.0, 8.0, 3.0, 5.0, 5.0, 1.0, 6.0, 7.0, 6.0, 3.0, 2.0, 2.0, 0.0, 0.0, 6.0, 5.0, 5.0, 7.0, 5.0, 9.0, 6.0, 2.0, 9.0, 8.0, 0.0, 5.0, 0.0, 1.0, 3.0, 0.0, 4.0, 7.0, 3.0, 8.0, 5.0, 9.0, 5.0, 6.0, 3.0, 7.0, 0.0, 6.0, 5.0, 6.0, 8.0, 7.0, 3.0, 7.0, 8.0, 0.0, 0.0, 7.0, 9.0, 9.0, 5.0, 7.0, 7.0, 6.0, 3.0, 0.0, 8.0, 7.0, 4.0, 8.0, 4.0, 8.0, 4.0, 9.0, 9.0, 5.0, 4.0, 5.0, 9.0, 7.0, 6.0, 3.0, 6.0, 0.0, 9.0, 7.0, 5.0, 2.0, 5.0, 5.0, 5.0, 5.0, 3.0, 0.0, 7.0, 2.0, 3.0, 4.0, 6.0, 2.0, 6.0, 9.0, 0.0, 7.0, 8.0, 1.0, 7.0, 0.0, 7.0, 4.0, 5.0, 9.0, 3.0, 5.0, 7.0, 7.0, 6.0, 8.0, 8.0, 9.0, 1.0, 9.0, 0.0, 1.0, 8.0, 5.0, 7.0, 3.0, 9.0, 9.0, 9.0, 0.0, 5.0, 8.0, 6.0, 1.0, 9.0, 0.0, 8.0, 1.0, 9.0, 9.0, 0.0, 1.0, 4.0, 2.0, 3.0, 5.0, 9.0, 8.0, 9.0, 9.0, 7.0, 5.0, 2.0, 7.0, 4.0, 5.0, 0.0, 5.0, 6.0, 7.0, 5.0, 7.0, 7.0, 9.0, 0.0, 5.0, 5.0, 5.0, 8.0, 2.0, 4.0, 5.0, 5.0, 1.0, 9.0, 9.0, 3.0, 5.0, 5.0, 9.0, 7.0, 3.0, 0.0, 7.0, 5.0, 4.0, 1.0, 1.0, 9.0, 7.0, 7.0, 9.0, 8.0, 7.0, 3.0, 7.0, 5.0, 4.0, 7.0, 4.0, 5.0, 6.0, 3.0, 7.0, 6.0, 0.0, 9.0, 7.0, 9.0, 8.0, 5.0, 7.0, 3.0, 7.0, 7.0, 0.0, 7.0, 5.0, 9.0, 7.0, 6.0, 0.0, 8.0, 1.0, 1.0, 5.0, 0.0, 5.0, 7.0, 1.0, 5.0, 3.0, 5.0, 4.0, 5.0, 7.0, 5.0, 5.0, 3.0, 1.0, 2.0, 5.0, 9.0, 8.0, 5.0, 5.0, 6.0, 9.0, 2.0, 5.0, 1.0, 7.0, 7.0, 6.0, 7.0, 7.0, 9.0, 3.0, 3.0, 4.0, 7.0, 8.0, 0.0, 9.0, 9.0, 9.0, 9.0, 7.0, 8.0, 8.0, 6.0, 4.0, 7.0, 3.0, 7.0, 1.0, 1.0, 8.0, 8.0, 5.0, 5.0, 7.0, 4.0, 8.0, 8.0, 8.0, 0.0, 3.0, 2.0, 6.0, 8.0, 7.0, 4.0, 7.0, 1.0, 2.0, 1.0, 7.0, 7.0, 8.0, 7.0, 2.0, 1.0, 7.0, 1.0, 3.0, 6.0, 1.0, 9.0, 5.0, 0.0, 6.0, 6.0, 3.0, 0.0, 8.0, 2.0, 8.0, 2.0, 9.0, 0.0, 4.0, 6.0, 9.0, 0.0, 8.0, 3.0, 7.0, 9.0, 5.0, 6.0, 9.0, 1.0, 9.0, 9.0, 5.0, 5.0, 5.0, 1.0, 6.0, 7.0, 8.0, 9.0, 7.0, 3.0, 7.0, 5.0, 5.0, 9.0, 0.0, 1.0, 9.0, 2.0, 9.0, 8.0, 7.0, 9.0, 7.0, 9.0, 7.0, 7.0, 1.0, 9.0, 0.0, 7.0, 8.0, 1.0, 9.0, 3.0, 7.0, 6.0, 6.0, 5.0, 5.0, 7.0, 5.0, 8.0, 7.0, 9.0, 0.0, 1.0, 5.0, 3.0, 3.0, 7.0, 3.0 ] ]\n",
      "          }\n",
      "        }\n",
      "      }\n",
      "    }\n",
      "  }, {\n",
      "    \"name\" : \"label\",\n",
      "    \"inferred_type\" : \"Integral\",\n",
      "    \"numerical_statistics\" : {\n",
      "      \"common\" : {\n",
      "        \"num_present\" : 1000,\n",
      "        \"num_missing\" : 0\n",
      "      },\n",
      "      \"mean\" : 4.583,\n",
      "      \"sum\" : 4583.0,\n",
      "      \"std_dev\" : 2.901225775426655,\n",
      "      \"min\" : 0.0,\n",
      "      \"max\" : 9.0,\n",
      "      \"distribution\" : {\n",
      "        \"kll\" : {\n",
      "          \"buckets\" : [ {\n",
      "            \"lower_bound\" : 0.0,\n",
      "            \"upper_bound\" : 0.9,\n",
      "            \"count\" : 104.0\n",
      "          }, {\n",
      "            \"lower_bound\" : 0.9,\n",
      "            \"upper_bound\" : 1.8,\n",
      "            \"count\" : 87.0\n",
      "          }, {\n",
      "            \"lower_bound\" : 1.8,\n",
      "            \"upper_bound\" : 2.7,\n",
      "            \"count\" : 105.0\n",
      "          }, {\n",
      "            \"lower_bound\" : 2.7,\n",
      "            \"upper_bound\" : 3.6,\n",
      "            \"count\" : 93.0\n",
      "          }, {\n",
      "            \"lower_bound\" : 3.6,\n",
      "            \"upper_bound\" : 4.5,\n",
      "            \"count\" : 103.0\n",
      "          }, {\n",
      "            \"lower_bound\" : 4.5,\n",
      "            \"upper_bound\" : 5.4,\n",
      "            \"count\" : 88.0\n",
      "          }, {\n",
      "            \"lower_bound\" : 5.4,\n",
      "            \"upper_bound\" : 6.3,\n",
      "            \"count\" : 106.0\n",
      "          }, {\n",
      "            \"lower_bound\" : 6.3,\n",
      "            \"upper_bound\" : 7.2,\n",
      "            \"count\" : 99.0\n",
      "          }, {\n",
      "            \"lower_bound\" : 7.2,\n",
      "            \"upper_bound\" : 8.1,\n",
      "            \"count\" : 109.0\n",
      "          }, {\n",
      "            \"lower_bound\" : 8.1,\n",
      "            \"upper_bound\" : 9.0,\n",
      "            \"count\" : 106.0\n",
      "          } ],\n",
      "          \"sketch\" : {\n",
      "            \"parameters\" : {\n",
      "              \"c\" : 0.64,\n",
      "              \"k\" : 2048.0\n",
      "            },\n",
      "            \"data\" : [ [ 5.0, 8.0, 2.0, 8.0, 0.0, 4.0, 1.0, 8.0, 9.0, 8.0, 2.0, 9.0, 9.0, 2.0, 7.0, 5.0, 7.0, 3.0, 8.0, 8.0, 4.0, 4.0, 2.0, 7.0, 1.0, 6.0, 4.0, 0.0, 4.0, 6.0, 9.0, 7.0, 6.0, 2.0, 5.0, 5.0, 1.0, 7.0, 2.0, 2.0, 2.0, 9.0, 5.0, 4.0, 2.0, 7.0, 8.0, 1.0, 3.0, 4.0, 3.0, 7.0, 6.0, 9.0, 8.0, 0.0, 6.0, 0.0, 2.0, 2.0, 2.0, 1.0, 8.0, 4.0, 0.0, 1.0, 8.0, 8.0, 1.0, 5.0, 7.0, 6.0, 4.0, 5.0, 8.0, 7.0, 1.0, 9.0, 1.0, 9.0, 8.0, 4.0, 7.0, 3.0, 8.0, 8.0, 2.0, 6.0, 6.0, 7.0, 1.0, 6.0, 8.0, 1.0, 9.0, 7.0, 8.0, 3.0, 0.0, 1.0, 0.0, 8.0, 8.0, 3.0, 0.0, 0.0, 1.0, 5.0, 0.0, 8.0, 8.0, 7.0, 9.0, 9.0, 0.0, 9.0, 4.0, 1.0, 3.0, 6.0, 6.0, 4.0, 4.0, 7.0, 5.0, 6.0, 0.0, 8.0, 0.0, 3.0, 2.0, 8.0, 4.0, 6.0, 9.0, 9.0, 7.0, 0.0, 3.0, 3.0, 6.0, 7.0, 4.0, 9.0, 1.0, 6.0, 2.0, 7.0, 2.0, 2.0, 0.0, 6.0, 7.0, 5.0, 7.0, 6.0, 8.0, 9.0, 0.0, 9.0, 4.0, 4.0, 7.0, 0.0, 9.0, 4.0, 9.0, 6.0, 9.0, 4.0, 5.0, 7.0, 9.0, 2.0, 4.0, 5.0, 1.0, 4.0, 3.0, 9.0, 6.0, 5.0, 6.0, 9.0, 3.0, 3.0, 5.0, 0.0, 7.0, 2.0, 1.0, 3.0, 6.0, 4.0, 0.0, 0.0, 2.0, 5.0, 0.0, 1.0, 0.0, 2.0, 3.0, 9.0, 8.0, 4.0, 9.0, 8.0, 0.0, 2.0, 6.0, 4.0, 4.0, 0.0, 1.0, 8.0, 8.0, 3.0, 6.0, 9.0, 6.0, 6.0, 7.0, 8.0, 2.0, 4.0, 5.0, 7.0, 6.0, 5.0, 3.0, 0.0, 5.0, 0.0, 5.0, 0.0, 8.0, 2.0, 6.0, 7.0, 3.0, 8.0, 2.0, 1.0, 7.0, 6.0, 7.0, 1.0, 0.0, 9.0, 5.0, 5.0, 0.0, 1.0, 7.0, 6.0, 9.0, 0.0, 4.0, 7.0, 7.0, 1.0, 5.0, 9.0, 4.0, 0.0, 8.0, 5.0, 9.0, 9.0, 6.0, 7.0, 1.0, 8.0, 3.0, 2.0, 3.0, 8.0, 2.0, 2.0, 4.0, 6.0, 0.0, 0.0, 5.0, 3.0, 8.0, 2.0, 3.0, 7.0, 2.0, 9.0, 3.0, 8.0, 7.0, 8.0, 2.0, 7.0, 9.0, 0.0, 2.0, 3.0, 2.0, 2.0, 2.0, 3.0, 3.0, 6.0, 2.0, 3.0, 2.0, 8.0, 0.0, 5.0, 5.0, 1.0, 4.0, 5.0, 6.0, 6.0, 2.0, 7.0, 0.0, 1.0, 7.0, 7.0, 8.0, 2.0, 9.0, 2.0, 2.0, 4.0, 2.0, 1.0, 1.0, 1.0, 6.0, 6.0, 6.0, 5.0, 1.0, 1.0, 7.0, 0.0, 4.0, 3.0, 3.0, 7.0, 1.0, 2.0, 3.0, 5.0, 5.0, 5.0, 6.0, 1.0, 4.0, 3.0, 7.0, 8.0, 8.0, 3.0, 6.0, 6.0, 2.0, 3.0, 0.0, 9.0, 4.0, 3.0, 8.0, 0.0, 0.0, 1.0, 1.0, 5.0, 4.0, 9.0, 3.0, 1.0, 8.0, 9.0, 3.0, 9.0, 9.0, 2.0, 9.0, 4.0, 8.0, 2.0, 9.0, 8.0, 8.0, 1.0, 5.0, 3.0, 6.0, 8.0, 7.0, 6.0, 9.0, 8.0, 0.0, 6.0, 4.0, 0.0, 0.0, 2.0, 5.0, 8.0, 2.0, 0.0, 2.0, 7.0, 6.0, 9.0, 7.0, 1.0, 5.0, 5.0, 6.0, 6.0, 3.0, 6.0, 2.0, 4.0, 7.0, 0.0, 5.0, 6.0, 4.0, 6.0, 5.0, 2.0, 4.0, 6.0, 1.0, 6.0, 0.0, 4.0, 0.0, 3.0, 1.0, 8.0, 5.0, 4.0, 4.0, 1.0, 7.0, 3.0, 9.0, 4.0, 7.0, 9.0, 7.0, 3.0, 7.0, 2.0, 8.0, 4.0, 6.0, 6.0, 1.0, 2.0, 9.0, 0.0, 4.0, 8.0, 7.0, 3.0, 9.0, 8.0, 7.0, 7.0, 0.0, 2.0, 4.0, 1.0, 1.0, 4.0, 1.0, 5.0, 4.0, 0.0, 5.0, 6.0, 2.0, 8.0, 5.0, 0.0, 2.0, 1.0, 3.0, 5.0, 7.0, 3.0, 5.0, 1.0, 3.0, 5.0, 9.0, 4.0, 3.0, 2.0, 4.0, 4.0, 1.0, 4.0, 2.0, 2.0, 3.0, 8.0, 0.0, 6.0, 8.0, 5.0, 6.0, 6.0, 4.0, 7.0, 1.0, 1.0, 4.0, 6.0, 2.0, 3.0, 9.0, 6.0, 9.0, 1.0, 3.0, 6.0, 8.0, 5.0, 9.0, 6.0, 8.0, 1.0, 6.0, 0.0, 2.0, 3.0, 7.0, 9.0, 0.0, 9.0, 7.0, 6.0, 3.0, 9.0, 2.0, 6.0, 1.0, 6.0, 7.0, 3.0, 8.0, 3.0, 8.0, 3.0, 8.0, 5.0, 9.0, 6.0, 1.0, 2.0, 5.0, 2.0, 1.0, 4.0, 3.0, 7.0, 5.0, 9.0, 3.0, 9.0, 3.0, 2.0, 9.0, 1.0, 8.0, 5.0, 9.0, 7.0, 2.0, 6.0, 0.0, 8.0, 5.0, 7.0, 1.0, 5.0, 8.0, 5.0, 7.0, 1.0, 5.0, 0.0, 3.0, 9.0, 3.0, 6.0, 9.0, 1.0, 3.0, 9.0, 8.0, 2.0, 2.0, 3.0, 2.0, 5.0, 9.0, 7.0, 9.0, 9.0, 8.0, 9.0, 7.0, 0.0, 3.0, 3.0, 2.0, 0.0, 3.0, 7.0, 6.0, 3.0, 3.0, 2.0, 0.0, 6.0, 6.0, 5.0, 5.0, 7.0, 5.0, 9.0, 8.0, 2.0, 9.0, 8.0, 0.0, 4.0, 0.0, 1.0, 2.0, 0.0, 4.0, 7.0, 3.0, 8.0, 5.0, 1.0, 6.0, 6.0, 5.0, 5.0, 4.0, 6.0, 3.0, 6.0, 8.0, 2.0, 3.0, 7.0, 0.0, 7.0, 0.0, 4.0, 1.0, 9.0, 5.0, 7.0, 8.0, 6.0, 6.0, 8.0, 0.0, 7.0, 2.0, 8.0, 4.0, 8.0, 2.0, 0.0, 9.0, 0.0, 0.0, 2.0, 9.0, 6.0, 6.0, 5.0, 6.0, 0.0, 3.0, 7.0, 5.0, 5.0, 7.0, 9.0, 3.0, 4.0, 5.0, 0.0, 5.0, 2.0, 3.0, 2.0, 6.0, 0.0, 4.0, 9.0, 0.0, 7.0, 0.0, 9.0, 7.0, 2.0, 6.0, 4.0, 6.0, 9.0, 5.0, 4.0, 7.0, 0.0, 6.0, 8.0, 8.0, 9.0, 9.0, 9.0, 0.0, 9.0, 8.0, 6.0, 4.0, 8.0, 1.0, 9.0, 1.0, 0.0, 5.0, 8.0, 6.0, 9.0, 6.0, 0.0, 8.0, 1.0, 3.0, 9.0, 4.0, 8.0, 4.0, 3.0, 2.0, 6.0, 0.0, 8.0, 9.0, 9.0, 4.0, 3.0, 0.0, 2.0, 4.0, 4.0, 0.0, 3.0, 5.0, 7.0, 5.0, 7.0, 7.0, 9.0, 0.0, 9.0, 5.0, 3.0, 8.0, 2.0, 4.0, 2.0, 3.0, 1.0, 2.0, 8.0, 9.0, 2.0, 8.0, 1.0, 4.0, 2.0, 0.0, 4.0, 5.0, 4.0, 8.0, 1.0, 7.0, 4.0, 1.0, 1.0, 0.0, 2.0, 7.0, 7.0, 4.0, 4.0, 4.0, 4.0, 8.0, 4.0, 3.0, 6.0, 6.0, 0.0, 1.0, 3.0, 9.0, 8.0, 4.0, 8.0, 9.0, 6.0, 2.0, 0.0, 5.0, 5.0, 9.0, 4.0, 2.0, 0.0, 8.0, 8.0, 0.0, 4.0, 0.0, 7.0, 6.0, 9.0, 5.0, 3.0, 5.0, 4.0, 4.0, 4.0, 4.0, 3.0, 7.0, 9.0, 2.0, 5.0, 1.0, 8.0, 3.0, 2.0, 6.0, 9.0, 6.0, 3.0, 1.0, 7.0, 4.0, 6.0, 3.0, 7.0, 8.0, 6.0, 2.0, 4.0, 6.0, 8.0, 0.0, 1.0, 9.0, 9.0, 1.0, 0.0, 0.0, 8.0, 9.0, 4.0, 7.0, 4.0, 4.0, 1.0, 9.0, 8.0, 8.0, 6.0, 1.0, 7.0, 4.0, 8.0, 8.0, 8.0, 0.0, 5.0, 6.0, 6.0, 8.0, 3.0, 4.0, 4.0, 1.0, 2.0, 1.0, 5.0, 7.0, 1.0, 7.0, 2.0, 8.0, 5.0, 9.0, 5.0, 6.0, 1.0, 9.0, 5.0, 0.0, 4.0, 3.0, 3.0, 0.0, 8.0, 2.0, 8.0, 0.0, 9.0, 0.0, 4.0, 6.0, 9.0, 2.0, 8.0, 2.0, 7.0, 7.0, 2.0, 2.0, 7.0, 1.0, 6.0, 1.0, 3.0, 4.0, 4.0, 8.0, 6.0, 0.0, 1.0, 9.0, 4.0, 2.0, 7.0, 5.0, 3.0, 9.0, 0.0, 1.0, 9.0, 0.0, 9.0, 8.0, 7.0, 0.0, 4.0, 9.0, 0.0, 5.0, 2.0, 1.0, 0.0, 2.0, 8.0, 8.0, 0.0, 5.0, 7.0, 6.0, 6.0, 5.0, 3.0, 7.0, 7.0, 7.0, 4.0, 2.0, 0.0, 1.0, 7.0, 3.0, 2.0, 7.0, 3.0 ] ]\n",
      "          }\n",
      "        }\n",
      "      }\n",
      "    }\n",
      "  } ]\u001b[0m\n",
      "\u001b[34m}\u001b[0m\n",
      "\u001b[34m2022-06-24 04:21:28 INFO  FileUtil:29 - Write to file statistics.json at path /opt/ml/processing/output.\u001b[0m\n",
      "\u001b[34m2022-06-24 04:21:28 INFO  YarnClientSchedulerBackend:54 - Interrupting monitor thread\u001b[0m\n",
      "\u001b[34m2022-06-24 04:21:28 INFO  YarnClientSchedulerBackend:54 - Shutting down all executors\u001b[0m\n",
      "\u001b[34m2022-06-24 04:21:28 INFO  YarnSchedulerBackend$YarnDriverEndpoint:54 - Asking each executor to shut down\u001b[0m\n",
      "\u001b[34m2022-06-24 04:21:28 INFO  SchedulerExtensionServices:54 - Stopping SchedulerExtensionServices\u001b[0m\n",
      "\u001b[34m(serviceOption=None,\n",
      " services=List(),\n",
      " started=false)\u001b[0m\n",
      "\u001b[34m2022-06-24 04:21:28 INFO  YarnClientSchedulerBackend:54 - Stopped\u001b[0m\n",
      "\u001b[34m2022-06-24 04:21:28 INFO  MapOutputTrackerMasterEndpoint:54 - MapOutputTrackerMasterEndpoint stopped!\u001b[0m\n",
      "\u001b[34m2022-06-24 04:21:28 INFO  MemoryStore:54 - MemoryStore cleared\u001b[0m\n",
      "\u001b[34m2022-06-24 04:21:28 INFO  BlockManager:54 - BlockManager stopped\u001b[0m\n",
      "\u001b[34m2022-06-24 04:21:28 INFO  BlockManagerMaster:54 - BlockManagerMaster stopped\u001b[0m\n",
      "\u001b[34m2022-06-24 04:21:28 INFO  OutputCommitCoordinator$OutputCommitCoordinatorEndpoint:54 - OutputCommitCoordinator stopped!\u001b[0m\n",
      "\u001b[34m2022-06-24 04:21:28 INFO  SparkContext:54 - Successfully stopped SparkContext\u001b[0m\n",
      "\u001b[34m2022-06-24 04:21:28 INFO  Main:65 - Completed: Job completed successfully with no violations.\u001b[0m\n",
      "\u001b[34m2022-06-24 04:21:28 INFO  Main:141 - Write to file /opt/ml/output/message.\u001b[0m\n",
      "\u001b[34m2022-06-24 04:21:28 INFO  ShutdownHookManager:54 - Shutdown hook called\u001b[0m\n",
      "\u001b[34m2022-06-24 04:21:28 INFO  ShutdownHookManager:54 - Deleting directory /tmp/spark-adfee7a6-e214-407c-8c7c-65f981f694e8\u001b[0m\n",
      "\u001b[34m2022-06-24 04:21:28 INFO  ShutdownHookManager:54 - Deleting directory /tmp/spark-7a757c95-2dc1-4585-bf12-b62ca35d0e14\u001b[0m\n",
      "\u001b[34m2022-06-24 04:21:29,133 - DefaultDataAnalyzer - INFO - Completed spark-submit with return code : 0\u001b[0m\n",
      "\u001b[34m2022-06-24 04:21:29,134 - DefaultDataAnalyzer - INFO - Spark job completed.\u001b[0m\n"
     ]
    },
    {
     "data": {
      "text/plain": [
       "<sagemaker.processing.ProcessingJob at 0x7f8070e95810>"
      ]
     },
     "execution_count": 33,
     "metadata": {},
     "output_type": "execute_result"
    }
   ],
   "source": [
    "# GENERATE constraints and statistics\n",
    "baseline_data_uri = 's3://{BUCKET}/{MONITORING_FOLDER}/monitoring/baseline/'\n",
    "baseline_data_output_uri = 's3://{BUCKET}/{MONITORING_FOLDER}/monitoring/baseline/output'\n",
    "my_default_monitor.suggest_baseline(\n",
    "    job_name = 'test-baseline-job',\n",
    "    baseline_dataset=baseline_data_uri,\n",
    "    dataset_format=DatasetFormat.csv(header=True),\n",
    "    output_s3_uri=baseline_data_output_uri,\n",
    "    wait=True\n",
    ")"
   ]
  },
  {
   "cell_type": "code",
   "execution_count": 36,
   "metadata": {},
   "outputs": [
    {
     "name": "stderr",
     "output_type": "stream",
     "text": [
      "/opt/conda/lib/python3.7/site-packages/ipykernel_launcher.py:4: FutureWarning: pandas.io.json.json_normalize is deprecated, use pandas.json_normalize instead\n",
      "  after removing the cwd from sys.path.\n"
     ]
    },
    {
     "data": {
      "text/html": [
       "<div>\n",
       "<style scoped>\n",
       "    .dataframe tbody tr th:only-of-type {\n",
       "        vertical-align: middle;\n",
       "    }\n",
       "\n",
       "    .dataframe tbody tr th {\n",
       "        vertical-align: top;\n",
       "    }\n",
       "\n",
       "    .dataframe thead th {\n",
       "        text-align: right;\n",
       "    }\n",
       "</style>\n",
       "<table border=\"1\" class=\"dataframe\">\n",
       "  <thead>\n",
       "    <tr style=\"text-align: right;\">\n",
       "      <th></th>\n",
       "      <th>name</th>\n",
       "      <th>inferred_type</th>\n",
       "      <th>numerical_statistics.common.num_present</th>\n",
       "      <th>numerical_statistics.common.num_missing</th>\n",
       "      <th>numerical_statistics.mean</th>\n",
       "      <th>numerical_statistics.sum</th>\n",
       "      <th>numerical_statistics.std_dev</th>\n",
       "      <th>numerical_statistics.min</th>\n",
       "      <th>numerical_statistics.max</th>\n",
       "      <th>numerical_statistics.distribution.kll.buckets</th>\n",
       "      <th>numerical_statistics.distribution.kll.sketch.parameters.c</th>\n",
       "      <th>numerical_statistics.distribution.kll.sketch.parameters.k</th>\n",
       "      <th>numerical_statistics.distribution.kll.sketch.data</th>\n",
       "    </tr>\n",
       "  </thead>\n",
       "  <tbody>\n",
       "    <tr>\n",
       "      <th>0</th>\n",
       "      <td>probability</td>\n",
       "      <td>Fractional</td>\n",
       "      <td>1000</td>\n",
       "      <td>0</td>\n",
       "      <td>0.403413</td>\n",
       "      <td>403.412881</td>\n",
       "      <td>0.178749</td>\n",
       "      <td>0.116331</td>\n",
       "      <td>0.974984</td>\n",
       "      <td>[{'lower_bound': 0.116330899, 'upper_bound': 0...</td>\n",
       "      <td>0.64</td>\n",
       "      <td>2048.0</td>\n",
       "      <td>[[0.418848723, 0.293665916, 0.476312459, 0.483...</td>\n",
       "    </tr>\n",
       "    <tr>\n",
       "      <th>1</th>\n",
       "      <td>prediction</td>\n",
       "      <td>Integral</td>\n",
       "      <td>1000</td>\n",
       "      <td>0</td>\n",
       "      <td>5.209000</td>\n",
       "      <td>5209.000000</td>\n",
       "      <td>2.790577</td>\n",
       "      <td>0.000000</td>\n",
       "      <td>9.000000</td>\n",
       "      <td>[{'lower_bound': 0.0, 'upper_bound': 0.9, 'cou...</td>\n",
       "      <td>0.64</td>\n",
       "      <td>2048.0</td>\n",
       "      <td>[[7.0, 1.0, 5.0, 8.0, 0.0, 9.0, 1.0, 1.0, 9.0,...</td>\n",
       "    </tr>\n",
       "    <tr>\n",
       "      <th>2</th>\n",
       "      <td>label</td>\n",
       "      <td>Integral</td>\n",
       "      <td>1000</td>\n",
       "      <td>0</td>\n",
       "      <td>4.583000</td>\n",
       "      <td>4583.000000</td>\n",
       "      <td>2.901226</td>\n",
       "      <td>0.000000</td>\n",
       "      <td>9.000000</td>\n",
       "      <td>[{'lower_bound': 0.0, 'upper_bound': 0.9, 'cou...</td>\n",
       "      <td>0.64</td>\n",
       "      <td>2048.0</td>\n",
       "      <td>[[5.0, 8.0, 2.0, 8.0, 0.0, 4.0, 1.0, 8.0, 9.0,...</td>\n",
       "    </tr>\n",
       "  </tbody>\n",
       "</table>\n",
       "</div>"
      ],
      "text/plain": [
       "          name inferred_type  numerical_statistics.common.num_present  \\\n",
       "0  probability    Fractional                                     1000   \n",
       "1   prediction      Integral                                     1000   \n",
       "2        label      Integral                                     1000   \n",
       "\n",
       "   numerical_statistics.common.num_missing  numerical_statistics.mean  \\\n",
       "0                                        0                   0.403413   \n",
       "1                                        0                   5.209000   \n",
       "2                                        0                   4.583000   \n",
       "\n",
       "   numerical_statistics.sum  numerical_statistics.std_dev  \\\n",
       "0                403.412881                      0.178749   \n",
       "1               5209.000000                      2.790577   \n",
       "2               4583.000000                      2.901226   \n",
       "\n",
       "   numerical_statistics.min  numerical_statistics.max  \\\n",
       "0                  0.116331                  0.974984   \n",
       "1                  0.000000                  9.000000   \n",
       "2                  0.000000                  9.000000   \n",
       "\n",
       "       numerical_statistics.distribution.kll.buckets  \\\n",
       "0  [{'lower_bound': 0.116330899, 'upper_bound': 0...   \n",
       "1  [{'lower_bound': 0.0, 'upper_bound': 0.9, 'cou...   \n",
       "2  [{'lower_bound': 0.0, 'upper_bound': 0.9, 'cou...   \n",
       "\n",
       "   numerical_statistics.distribution.kll.sketch.parameters.c  \\\n",
       "0                                               0.64           \n",
       "1                                               0.64           \n",
       "2                                               0.64           \n",
       "\n",
       "   numerical_statistics.distribution.kll.sketch.parameters.k  \\\n",
       "0                                             2048.0           \n",
       "1                                             2048.0           \n",
       "2                                             2048.0           \n",
       "\n",
       "   numerical_statistics.distribution.kll.sketch.data  \n",
       "0  [[0.418848723, 0.293665916, 0.476312459, 0.483...  \n",
       "1  [[7.0, 1.0, 5.0, 8.0, 0.0, 9.0, 1.0, 1.0, 9.0,...  \n",
       "2  [[5.0, 8.0, 2.0, 8.0, 0.0, 4.0, 1.0, 8.0, 9.0,...  "
      ]
     },
     "execution_count": 36,
     "metadata": {},
     "output_type": "execute_result"
    }
   ],
   "source": [
    "import pandas as pd\n",
    "\n",
    "baseline_job = my_default_monitor.latest_baselining_job\n",
    "schema_df = pd.io.json.json_normalize(baseline_job.baseline_statistics().body_dict[\"features\"])\n",
    "schema_df.head(10)"
   ]
  },
  {
   "cell_type": "code",
   "execution_count": 37,
   "metadata": {},
   "outputs": [
    {
     "name": "stderr",
     "output_type": "stream",
     "text": [
      "/opt/conda/lib/python3.7/site-packages/ipykernel_launcher.py:2: FutureWarning: pandas.io.json.json_normalize is deprecated, use pandas.json_normalize instead\n",
      "  \n"
     ]
    },
    {
     "data": {
      "text/html": [
       "<div>\n",
       "<style scoped>\n",
       "    .dataframe tbody tr th:only-of-type {\n",
       "        vertical-align: middle;\n",
       "    }\n",
       "\n",
       "    .dataframe tbody tr th {\n",
       "        vertical-align: top;\n",
       "    }\n",
       "\n",
       "    .dataframe thead th {\n",
       "        text-align: right;\n",
       "    }\n",
       "</style>\n",
       "<table border=\"1\" class=\"dataframe\">\n",
       "  <thead>\n",
       "    <tr style=\"text-align: right;\">\n",
       "      <th></th>\n",
       "      <th>name</th>\n",
       "      <th>inferred_type</th>\n",
       "      <th>completeness</th>\n",
       "      <th>num_constraints.is_non_negative</th>\n",
       "    </tr>\n",
       "  </thead>\n",
       "  <tbody>\n",
       "    <tr>\n",
       "      <th>0</th>\n",
       "      <td>probability</td>\n",
       "      <td>Fractional</td>\n",
       "      <td>1.0</td>\n",
       "      <td>True</td>\n",
       "    </tr>\n",
       "    <tr>\n",
       "      <th>1</th>\n",
       "      <td>prediction</td>\n",
       "      <td>Integral</td>\n",
       "      <td>1.0</td>\n",
       "      <td>True</td>\n",
       "    </tr>\n",
       "    <tr>\n",
       "      <th>2</th>\n",
       "      <td>label</td>\n",
       "      <td>Integral</td>\n",
       "      <td>1.0</td>\n",
       "      <td>True</td>\n",
       "    </tr>\n",
       "  </tbody>\n",
       "</table>\n",
       "</div>"
      ],
      "text/plain": [
       "          name inferred_type  completeness  num_constraints.is_non_negative\n",
       "0  probability    Fractional           1.0                             True\n",
       "1   prediction      Integral           1.0                             True\n",
       "2        label      Integral           1.0                             True"
      ]
     },
     "execution_count": 37,
     "metadata": {},
     "output_type": "execute_result"
    }
   ],
   "source": [
    "constraints_df = pd.io.json.json_normalize(\n",
    "    baseline_job.suggested_constraints().body_dict[\"features\"]\n",
    ")\n",
    "constraints_df.head(10)"
   ]
  },
  {
   "cell_type": "code",
   "execution_count": 38,
   "metadata": {},
   "outputs": [
    {
     "name": "stdout",
     "output_type": "stream",
     "text": [
      "Writing preprocessing.py\n"
     ]
    }
   ],
   "source": [
    "%%writefile preprocessing.py\n",
    "\n",
    "import json\n",
    "def preprocess_handler(inference_record):\n",
    "    input_data = json.loads(inference_record.endpoint_input.data)\n",
    "    input_data = {f\"feature{str(i).zfill(10)}\": val for i, val in enumerate(input_data)}\n",
    "\n",
    "    output_data = json.loads(inference_record.endpoint_output.data)[\"predictions\"][0][0]\n",
    "    output_data = {\"prediction0\": output_data}\n",
    "\n",
    "    return {**input_data}"
   ]
  },
  {
   "cell_type": "code",
   "execution_count": 40,
   "metadata": {},
   "outputs": [
    {
     "name": "stdout",
     "output_type": "stream",
     "text": [
      "s3://sagemaker-us-east-1-949263681218/DEMO-tf2-ModelMonitor/monitoring/preprocessor/preprocessing.py\n"
     ]
    }
   ],
   "source": [
    "preprocessor_s3_dest_path = f\"s3://{BUCKET}/{MONITORING_FOLDER}/monitoring/preprocessor\"\n",
    "preprocessor_s3_dest = sagemaker.s3.S3Uploader.upload(\"preprocessing.py\", preprocessor_s3_dest_path)\n",
    "print(preprocessor_s3_dest)"
   ]
  },
  {
   "cell_type": "code",
   "execution_count": 41,
   "metadata": {},
   "outputs": [
    {
     "name": "stderr",
     "output_type": "stream",
     "text": [
      "The endpoint attribute has been renamed in sagemaker>=2.\n",
      "See: https://sagemaker.readthedocs.io/en/stable/v2.html for details.\n"
     ]
    }
   ],
   "source": [
    "from sagemaker.model_monitor import CronExpressionGenerator\n",
    "from time import gmtime, strftime\n",
    "\n",
    "s3_report_path = 's3://{BUCKET}/{MONITORING_FOLDER}/monitoring/preprocessor/processed_output'\n",
    "mon_schedule_name = \"DEMO-tf2-model-monitor-schedule-\" + strftime(\"%Y-%m-%d-%H-%M-%S\", gmtime())\n",
    "my_default_monitor.create_monitoring_schedule(\n",
    "    monitor_schedule_name=mon_schedule_name,\n",
    "    endpoint_input=predictor.endpoint,\n",
    "    record_preprocessor_script=preprocessor_s3_dest,\n",
    "    output_s3_uri=s3_report_path,\n",
    "    statistics=my_default_monitor.baseline_statistics(),\n",
    "    constraints=my_default_monitor.suggested_constraints(),\n",
    "    schedule_cron_expression=CronExpressionGenerator.hourly(),\n",
    "    enable_cloudwatch_metrics=True,\n",
    ")"
   ]
  },
  {
   "cell_type": "markdown",
   "metadata": {},
   "source": [
    "## Exploring Generated constraints"
   ]
  },
  {
   "cell_type": "code",
   "execution_count": null,
   "metadata": {},
   "outputs": [],
   "source": [
    "import pandas as pd\n",
    "\n",
    "baseline_job = my_default_monitor.latest_baselining_job\n",
    "schema_df = pd.io.json.json_normalize(baseline_job.baseline_statistics().body_dict[\"features\"])\n",
    "schema_df.head(10)"
   ]
  },
  {
   "cell_type": "code",
   "execution_count": null,
   "metadata": {},
   "outputs": [],
   "source": [
    "constraints_df = pd.io.json.json_normalize(\n",
    "    baseline_job.suggested_constraints().body_dict[\"features\"]\n",
    ")\n",
    "constraints_df.head(10)"
   ]
  },
  {
   "cell_type": "markdown",
   "metadata": {},
   "source": [
    "# Delete Endpoint"
   ]
  },
  {
   "cell_type": "code",
   "execution_count": 8,
   "metadata": {},
   "outputs": [],
   "source": [
    "import boto3\n",
    "sm = boto3.client('sagemaker')"
   ]
  },
  {
   "cell_type": "code",
   "execution_count": 11,
   "metadata": {},
   "outputs": [
    {
     "data": {
      "text/plain": [
       "{'Endpoints': [{'EndpointName': 'tensorflow-cv-1656042735',\n",
       "   'EndpointArn': 'arn:aws:sagemaker:us-east-1:949263681218:endpoint/tensorflow-cv-1656042735',\n",
       "   'CreationTime': datetime.datetime(2022, 6, 24, 3, 52, 16, 256000, tzinfo=tzlocal()),\n",
       "   'LastModifiedTime': datetime.datetime(2022, 6, 24, 3, 57, 33, 372000, tzinfo=tzlocal()),\n",
       "   'EndpointStatus': 'InService'}],\n",
       " 'ResponseMetadata': {'RequestId': '87b2c082-345a-4609-83da-39199e108ac6',\n",
       "  'HTTPStatusCode': 200,\n",
       "  'HTTPHeaders': {'x-amzn-requestid': '87b2c082-345a-4609-83da-39199e108ac6',\n",
       "   'content-type': 'application/x-amz-json-1.1',\n",
       "   'content-length': '247',\n",
       "   'date': 'Fri, 24 Jun 2022 05:44:06 GMT'},\n",
       "  'RetryAttempts': 0}}"
      ]
     },
     "execution_count": 11,
     "metadata": {},
     "output_type": "execute_result"
    }
   ],
   "source": [
    "sm.list_endpoints()"
   ]
  },
  {
   "cell_type": "code",
   "execution_count": 14,
   "metadata": {},
   "outputs": [
    {
     "data": {
      "text/plain": [
       "{'ResponseMetadata': {'RequestId': '7db62db7-873f-4067-9905-9b900eb66dbf',\n",
       "  'HTTPStatusCode': 200,\n",
       "  'HTTPHeaders': {'x-amzn-requestid': '7db62db7-873f-4067-9905-9b900eb66dbf',\n",
       "   'content-type': 'application/x-amz-json-1.1',\n",
       "   'content-length': '0',\n",
       "   'date': 'Fri, 24 Jun 2022 05:44:59 GMT'},\n",
       "  'RetryAttempts': 0}}"
      ]
     },
     "execution_count": 14,
     "metadata": {},
     "output_type": "execute_result"
    }
   ],
   "source": [
    "endpoint_name='tensorflow-cv-1656042735'\n",
    "sagemaker_client.delete_endpoint(EndpointName=endpoint_name)"
   ]
  },
  {
   "cell_type": "code",
   "execution_count": 41,
   "metadata": {},
   "outputs": [],
   "source": [
    "endpoint_name = 'tensorflow-cv-1655979252'"
   ]
  },
  {
   "cell_type": "markdown",
   "metadata": {},
   "source": [
    "# TEST CODES"
   ]
  },
  {
   "cell_type": "code",
   "execution_count": 112,
   "metadata": {},
   "outputs": [
    {
     "data": {
      "text/plain": [
       "<sagemaker.tensorflow.model.TensorFlowPredictor at 0x7fb63b2a8b50>"
      ]
     },
     "execution_count": 112,
     "metadata": {},
     "output_type": "execute_result"
    }
   ],
   "source": [
    "predictor"
   ]
  },
  {
   "cell_type": "code",
   "execution_count": 113,
   "metadata": {},
   "outputs": [
    {
     "data": {
      "text/plain": [
       "<sagemaker.model_monitor.data_capture_config.DataCaptureConfig at 0x7fb63b53e510>"
      ]
     },
     "execution_count": 113,
     "metadata": {},
     "output_type": "execute_result"
    }
   ],
   "source": [
    "data_capture_config"
   ]
  },
  {
   "cell_type": "code",
   "execution_count": 116,
   "metadata": {},
   "outputs": [
    {
     "data": {
      "text/plain": [
       "'s3://sagemaker-us-east-1-949263681218/DEMO-tf2-ModelMonitor/monitoring/datacapture'"
      ]
     },
     "execution_count": 116,
     "metadata": {},
     "output_type": "execute_result"
    }
   ],
   "source": [
    "data_capture_config.destination_s3_uri"
   ]
  },
  {
   "cell_type": "code",
   "execution_count": 9,
   "metadata": {},
   "outputs": [
    {
     "data": {
      "text/plain": [
       "{'MonitoringScheduleSummaries': [{'MonitoringScheduleName': 'DEMO-tf2-model-monitor-schedule-2022-06-24-04-33-23',\n",
       "   'MonitoringScheduleArn': 'arn:aws:sagemaker:us-east-1:949263681218:monitoring-schedule/demo-tf2-model-monitor-schedule-2022-06-24-04-33-23',\n",
       "   'CreationTime': datetime.datetime(2022, 6, 24, 4, 33, 23, 893000, tzinfo=tzlocal()),\n",
       "   'LastModifiedTime': datetime.datetime(2022, 6, 24, 5, 1, 36, 395000, tzinfo=tzlocal()),\n",
       "   'MonitoringScheduleStatus': 'Scheduled',\n",
       "   'EndpointName': 'tensorflow-cv-1656042735',\n",
       "   'MonitoringJobDefinitionName': 'data-quality-job-definition-2022-06-24-04-33-23-660',\n",
       "   'MonitoringType': 'DataQuality'}],\n",
       " 'ResponseMetadata': {'RequestId': '6ad21629-6be8-41a2-ac79-3710967fbbcf',\n",
       "  'HTTPStatusCode': 200,\n",
       "  'HTTPHeaders': {'x-amzn-requestid': '6ad21629-6be8-41a2-ac79-3710967fbbcf',\n",
       "   'content-type': 'application/x-amz-json-1.1',\n",
       "   'content-length': '517',\n",
       "   'date': 'Fri, 24 Jun 2022 05:40:30 GMT'},\n",
       "  'RetryAttempts': 0}}"
      ]
     },
     "execution_count": 9,
     "metadata": {},
     "output_type": "execute_result"
    }
   ],
   "source": [
    "sagemaker_client.list_monitoring_schedules()"
   ]
  },
  {
   "cell_type": "code",
   "execution_count": 10,
   "metadata": {},
   "outputs": [
    {
     "data": {
      "text/plain": [
       "{'MonitoringScheduleArn': 'arn:aws:sagemaker:us-east-1:949263681218:monitoring-schedule/demo-tf2-model-monitor-schedule-2022-06-24-04-33-23',\n",
       " 'MonitoringScheduleName': 'DEMO-tf2-model-monitor-schedule-2022-06-24-04-33-23',\n",
       " 'MonitoringScheduleStatus': 'Scheduled',\n",
       " 'MonitoringType': 'DataQuality',\n",
       " 'CreationTime': datetime.datetime(2022, 6, 24, 4, 33, 23, 893000, tzinfo=tzlocal()),\n",
       " 'LastModifiedTime': datetime.datetime(2022, 6, 24, 5, 1, 36, 395000, tzinfo=tzlocal()),\n",
       " 'MonitoringScheduleConfig': {'ScheduleConfig': {'ScheduleExpression': 'cron(0 * ? * * *)'},\n",
       "  'MonitoringJobDefinitionName': 'data-quality-job-definition-2022-06-24-04-33-23-660',\n",
       "  'MonitoringType': 'DataQuality'},\n",
       " 'EndpointName': 'tensorflow-cv-1656042735',\n",
       " 'LastMonitoringExecutionSummary': {'MonitoringScheduleName': 'DEMO-tf2-model-monitor-schedule-2022-06-24-04-33-23',\n",
       "  'ScheduledTime': datetime.datetime(2022, 6, 24, 5, 0, tzinfo=tzlocal()),\n",
       "  'CreationTime': datetime.datetime(2022, 6, 24, 5, 1, 10, 342000, tzinfo=tzlocal()),\n",
       "  'LastModifiedTime': datetime.datetime(2022, 6, 24, 5, 1, 36, 383000, tzinfo=tzlocal()),\n",
       "  'MonitoringExecutionStatus': 'Failed',\n",
       "  'EndpointName': 'tensorflow-cv-1656042735',\n",
       "  'FailureReason': 'Job inputs had no data'},\n",
       " 'ResponseMetadata': {'RequestId': 'add2e3cd-7685-4869-bf81-9960ffcddbd4',\n",
       "  'HTTPStatusCode': 200,\n",
       "  'HTTPHeaders': {'x-amzn-requestid': 'add2e3cd-7685-4869-bf81-9960ffcddbd4',\n",
       "   'content-type': 'application/x-amz-json-1.1',\n",
       "   'content-length': '933',\n",
       "   'date': 'Fri, 24 Jun 2022 05:40:59 GMT'},\n",
       "  'RetryAttempts': 0}}"
      ]
     },
     "execution_count": 10,
     "metadata": {},
     "output_type": "execute_result"
    }
   ],
   "source": [
    "sagemaker_client.describe_monitoring_schedule(MonitoringScheduleName = 'DEMO-tf2-model-monitor-schedule-2022-06-24-04-33-23')"
   ]
  },
  {
   "cell_type": "code",
   "execution_count": 13,
   "metadata": {},
   "outputs": [
    {
     "data": {
      "text/plain": [
       "{'ResponseMetadata': {'RequestId': 'beb4e058-916f-427b-8361-8f0b1ba9a7f1',\n",
       "  'HTTPStatusCode': 200,\n",
       "  'HTTPHeaders': {'x-amzn-requestid': 'beb4e058-916f-427b-8361-8f0b1ba9a7f1',\n",
       "   'content-type': 'application/x-amz-json-1.1',\n",
       "   'content-length': '0',\n",
       "   'date': 'Fri, 24 Jun 2022 05:44:55 GMT'},\n",
       "  'RetryAttempts': 0}}"
      ]
     },
     "execution_count": 13,
     "metadata": {},
     "output_type": "execute_result"
    }
   ],
   "source": [
    "sagemaker_client.delete_monitoring_schedule(MonitoringScheduleName = 'DEMO-tf2-model-monitor-schedule-2022-06-24-04-33-23')"
   ]
  },
  {
   "cell_type": "code",
   "execution_count": null,
   "metadata": {},
   "outputs": [],
   "source": [
    "https://stackoverflow.com/questions/69179914/how-to-fix-sagemaker-data-quality-monitoring-schedule-job-that-fails-with-failu"
   ]
  },
  {
   "cell_type": "code",
   "execution_count": 16,
   "metadata": {},
   "outputs": [],
   "source": [
    "https://sagemaker-examples.readthedocs.io/en/latest/sagemaker_model_monitor/fairness_and_explainability/SageMaker-Model-Monitor-Fairness-and-Explainability.html"
   ]
  },
  {
   "cell_type": "code",
   "execution_count": 18,
   "metadata": {},
   "outputs": [],
   "source": []
  },
  {
   "cell_type": "code",
   "execution_count": null,
   "metadata": {},
   "outputs": [],
   "source": []
  }
 ],
 "metadata": {
  "kernelspec": {
   "display_name": "Python 3 (Data Science)",
   "language": "python",
   "name": "python3__SAGEMAKER_INTERNAL__arn:aws:sagemaker:us-east-1:081325390199:image/datascience-1.0"
  },
  "language_info": {
   "codemirror_mode": {
    "name": "ipython",
    "version": 3
   },
   "file_extension": ".py",
   "mimetype": "text/x-python",
   "name": "python",
   "nbconvert_exporter": "python",
   "pygments_lexer": "ipython3",
   "version": "3.7.10"
  }
 },
 "nbformat": 4,
 "nbformat_minor": 4
}
